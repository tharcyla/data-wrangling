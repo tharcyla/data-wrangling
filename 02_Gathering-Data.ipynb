{
 "cells": [
  {
   "cell_type": "markdown",
   "id": "1c0edf13",
   "metadata": {},
   "source": [
    "## Gathering Data\n",
    "\n",
    "### Source: Files on Hand\n",
    "Udacity compiled, based on [this](https://www.rottentomatoes.com/top/bestofrt/) list from RottenTomatoes, a file with the Top 100 movies. \n",
    "\n",
    "#### Flat File Structure\n",
    "Flat files contain tabular data in plain text format with one data record per line and each record or line having one or more fields. These fields are separated by delimiters, like commas, tabs, or colons.\n",
    "\n",
    "**Advantages of flat files** include:\n",
    "\n",
    "- They're text files and therefore human readable\n",
    "- Lightweight\n",
    "- Simple to understand\n",
    "- Software that can read/write text files is ubiquitous, like text editors\n",
    "- Great for small dataset\n",
    "\n",
    "**Disadvantages of flat files**, in comparison to relational databases, for example, include:\n",
    "\n",
    "- Lack of standards\n",
    "- Data redundancy\n",
    "- Sharing data can be cumbersome\n",
    "- Not great for large datasets\n",
    "\n",
    "#### Flat Files in Python\n",
    "Pandas is especially suited to read tabular data.\n",
    "\n",
    "[`pandas.read_csv`](https://pandas.pydata.org/pandas-docs/stable/reference/api/pandas.read_csv.html) can handle all kinds of flat files, including TSV files by changing the parameters. Try importing the .tsv file based on the Top 100 Movies from RottenTomatoes. "
   ]
  },
  {
   "cell_type": "code",
   "execution_count": 1,
   "id": "ecdb19e8",
   "metadata": {},
   "outputs": [],
   "source": [
    "import pandas as pd\n",
    "import numpy as np\n",
    "import os\n",
    "import requests\n",
    "import glob\n",
    "import wptools\n",
    "from bs4 import BeautifulSoup\n",
    "from PIL import Image\n",
    "from io import BytesIO\n",
    "from sqlalchemy import create_engine"
   ]
  },
  {
   "cell_type": "code",
   "execution_count": 2,
   "id": "f1297c69",
   "metadata": {},
   "outputs": [
    {
     "data": {
      "text/html": [
       "<div>\n",
       "<style scoped>\n",
       "    .dataframe tbody tr th:only-of-type {\n",
       "        vertical-align: middle;\n",
       "    }\n",
       "\n",
       "    .dataframe tbody tr th {\n",
       "        vertical-align: top;\n",
       "    }\n",
       "\n",
       "    .dataframe thead th {\n",
       "        text-align: right;\n",
       "    }\n",
       "</style>\n",
       "<table border=\"1\" class=\"dataframe\">\n",
       "  <thead>\n",
       "    <tr style=\"text-align: right;\">\n",
       "      <th></th>\n",
       "      <th>ranking</th>\n",
       "      <th>critic_score</th>\n",
       "      <th>title</th>\n",
       "      <th>number_of_critic_ratings</th>\n",
       "    </tr>\n",
       "  </thead>\n",
       "  <tbody>\n",
       "    <tr>\n",
       "      <th>0</th>\n",
       "      <td>1</td>\n",
       "      <td>99</td>\n",
       "      <td>The Wizard of Oz (1939)</td>\n",
       "      <td>110</td>\n",
       "    </tr>\n",
       "    <tr>\n",
       "      <th>1</th>\n",
       "      <td>2</td>\n",
       "      <td>100</td>\n",
       "      <td>Citizen Kane (1941)</td>\n",
       "      <td>75</td>\n",
       "    </tr>\n",
       "    <tr>\n",
       "      <th>2</th>\n",
       "      <td>3</td>\n",
       "      <td>100</td>\n",
       "      <td>The Third Man (1949)</td>\n",
       "      <td>77</td>\n",
       "    </tr>\n",
       "    <tr>\n",
       "      <th>3</th>\n",
       "      <td>4</td>\n",
       "      <td>99</td>\n",
       "      <td>Get Out (2017)</td>\n",
       "      <td>282</td>\n",
       "    </tr>\n",
       "    <tr>\n",
       "      <th>4</th>\n",
       "      <td>5</td>\n",
       "      <td>97</td>\n",
       "      <td>Mad Max: Fury Road (2015)</td>\n",
       "      <td>370</td>\n",
       "    </tr>\n",
       "  </tbody>\n",
       "</table>\n",
       "</div>"
      ],
      "text/plain": [
       "   ranking  critic_score                      title  number_of_critic_ratings\n",
       "0        1            99    The Wizard of Oz (1939)                       110\n",
       "1        2           100        Citizen Kane (1941)                        75\n",
       "2        3           100       The Third Man (1949)                        77\n",
       "3        4            99             Get Out (2017)                       282\n",
       "4        5            97  Mad Max: Fury Road (2015)                       370"
      ]
     },
     "execution_count": 2,
     "metadata": {},
     "output_type": "execute_result"
    }
   ],
   "source": [
    "df = pd.read_csv('support-files/02_Gathering-Data/bestofrt.tsv', sep='\\t')\n",
    "df.head()"
   ]
  },
  {
   "cell_type": "markdown",
   "id": "5522235d",
   "metadata": {},
   "source": [
    "### Source: Web Scraping\n",
    "Next, we'd like to get Rotten Tomatoes' audience scores and the number of audience reviews to add to our dataset. However, this is not easily accessible from the website and to get this data we will need to do web scraping, which allows us to extract data from websites using code.\n",
    "\n",
    "In order to do that, we'll use [Beautiful Soup](https://www.crummy.com/software/BeautifulSoup/).\n",
    "\n",
    "Read [this](https://medium.com/towards-data-science/ethics-in-web-scraping-b96b18136f01) article on the ethical issues involved in web scraping."
   ]
  },
  {
   "cell_type": "code",
   "execution_count": 3,
   "id": "ca9f1279",
   "metadata": {},
   "outputs": [],
   "source": [
    "from bs4 import BeautifulSoup"
   ]
  },
  {
   "cell_type": "code",
   "execution_count": 4,
   "id": "adf882f8",
   "metadata": {},
   "outputs": [],
   "source": [
    "with open ('support-files/02_Gathering-Data/rt_html/et_the_extraterrestrial.html') as file:\n",
    "    soup = BeautifulSoup(file, \"lxml\")"
   ]
  },
  {
   "cell_type": "markdown",
   "id": "17f182d1",
   "metadata": {},
   "source": [
    "Note: `.find` [documentation](https://www.crummy.com/software/BeautifulSoup/bs4/doc/#find)"
   ]
  },
  {
   "cell_type": "markdown",
   "id": "2ef3085a",
   "metadata": {},
   "source": [
    "#### Getting the `movie-title`"
   ]
  },
  {
   "cell_type": "code",
   "execution_count": 5,
   "id": "e92a2d37",
   "metadata": {},
   "outputs": [
    {
     "data": {
      "text/plain": [
       "<title>E.T. The Extra-Terrestrial (1982) - Rotten Tomatoes</title>"
      ]
     },
     "execution_count": 5,
     "metadata": {},
     "output_type": "execute_result"
    }
   ],
   "source": [
    "# find the title of the web page (not the title of the movie exactly)\n",
    "soup.find('title')"
   ]
  },
  {
   "cell_type": "markdown",
   "id": "7e124e84",
   "metadata": {},
   "source": [
    "Note: a tag's children is available in a list called [.contents](https://www.crummy.com/software/BeautifulSoup/bs4/doc/#find)"
   ]
  },
  {
   "cell_type": "code",
   "execution_count": 6,
   "id": "56c65f13",
   "metadata": {},
   "outputs": [
    {
     "data": {
      "text/plain": [
       "'E.T. The Extra-Terrestrial\\xa0(1982) - Rotten Tomatoes'"
      ]
     },
     "execution_count": 6,
     "metadata": {},
     "output_type": "execute_result"
    }
   ],
   "source": [
    "# since the title tag has no children, indexing won't be useful \n",
    "# to get just the movie title, i.e., remove '- Rotten Tomatoes'\n",
    "soup.find('title').contents[0]"
   ]
  },
  {
   "cell_type": "code",
   "execution_count": 7,
   "id": "63ab2486",
   "metadata": {},
   "outputs": [
    {
     "data": {
      "text/plain": [
       "'E.T. The Extra-Terrestrial\\xa0(1982)'"
      ]
     },
     "execution_count": 7,
     "metadata": {},
     "output_type": "execute_result"
    }
   ],
   "source": [
    "# we can, however, use string slicing\n",
    "title = soup.find('title').contents[0][:-len(' - Rotten Tomatoes')]\n",
    "title"
   ]
  },
  {
   "cell_type": "markdown",
   "id": "d44ab653",
   "metadata": {},
   "source": [
    "Note: `\\xa0` is unicode for non-breaking space! This [discussion](https://stackoverflow.com/questions/10993612/how-to-remove-xa0-from-string-in-python) on StackOverflow helps remove it."
   ]
  },
  {
   "cell_type": "code",
   "execution_count": 8,
   "id": "4ebd238a",
   "metadata": {},
   "outputs": [],
   "source": [
    "# import unicodedata\n",
    "# title = unicodedata.normalize('NFKD', title)\n",
    "# title"
   ]
  },
  {
   "cell_type": "markdown",
   "id": "d0146550",
   "metadata": {},
   "source": [
    "### Quiz: \n",
    "\n",
    "You're going to use Beautiful Soup to extract our desired **Audience Score** metric and **number of audience ratings**, along with the **movie title** (so we have something to merge the datasets on later) for each HTML file, then save them in a pandas DataFrame."
   ]
  },
  {
   "cell_type": "code",
   "execution_count": 9,
   "id": "0789e73b",
   "metadata": {},
   "outputs": [],
   "source": [
    "# displaying the whole \"soup\" is nice to investigate the html page,\n",
    "# however, it's not visually appealing when uploading to GitHub\n",
    "# so I'll comment out this cell\n",
    "# soup"
   ]
  },
  {
   "cell_type": "markdown",
   "id": "142475e8",
   "metadata": {},
   "source": [
    "#### First: Get `audience-score`\n",
    "\n",
    "Note: Searching by [CSS class](https://www.crummy.com/software/BeautifulSoup/bs4/doc/#searching-by-css-class)"
   ]
  },
  {
   "cell_type": "code",
   "execution_count": 10,
   "id": "910ee63c",
   "metadata": {},
   "outputs": [
    {
     "data": {
      "text/plain": [
       "[<div class=\"meter-value\">\n",
       " <span class=\"superPageFontColor\" style=\"vertical-align:top\">72%</span>\n",
       " </div>]"
      ]
     },
     "execution_count": 10,
     "metadata": {},
     "output_type": "execute_result"
    }
   ],
   "source": [
    "# you can search by class in BeautifulSoup since class is a reserved worth in Python,\n",
    "# the keyword argument for class is \"class_\"\n",
    "soup.find_all('div', class_='meter-value')"
   ]
  },
  {
   "cell_type": "code",
   "execution_count": 11,
   "id": "6eb5815b",
   "metadata": {},
   "outputs": [
    {
     "data": {
      "text/plain": [
       "<span class=\"superPageFontColor\" style=\"vertical-align:top\">72%</span>"
      ]
     },
     "execution_count": 11,
     "metadata": {},
     "output_type": "execute_result"
    }
   ],
   "source": [
    "# use .contents to get only the line I'm interested in\n",
    "soup.find('div', class_='meter-value').contents[1]"
   ]
  },
  {
   "cell_type": "markdown",
   "id": "8e72d0f5",
   "metadata": {},
   "source": [
    "Note: `get_text()` [documentation](https://www.crummy.com/software/BeautifulSoup/bs4/doc/#get-text)"
   ]
  },
  {
   "cell_type": "code",
   "execution_count": 12,
   "id": "b2ea00cb",
   "metadata": {},
   "outputs": [
    {
     "data": {
      "text/plain": [
       "'72%'"
      ]
     },
     "execution_count": 12,
     "metadata": {},
     "output_type": "execute_result"
    }
   ],
   "source": [
    "# use get_text() to get ONLY the audience rating\n",
    "# get_text() will return only the human-readable text inside a document or tag\n",
    "soup.find('div', class_='meter-value').contents[1].get_text()"
   ]
  },
  {
   "cell_type": "code",
   "execution_count": 13,
   "id": "ef0129da",
   "metadata": {},
   "outputs": [
    {
     "data": {
      "text/plain": [
       "'72'"
      ]
     },
     "execution_count": 13,
     "metadata": {},
     "output_type": "execute_result"
    }
   ],
   "source": [
    "# remove the % so we can convert it to an int later\n",
    "audience_score = soup.find('div', class_='meter-value').contents[1].get_text()[:-len('%')]\n",
    "audience_score"
   ]
  },
  {
   "cell_type": "markdown",
   "id": "75936ea8",
   "metadata": {},
   "source": [
    "#### Second: Get `number of audience ratings`"
   ]
  },
  {
   "cell_type": "code",
   "execution_count": 14,
   "id": "d799c02f",
   "metadata": {},
   "outputs": [
    {
     "data": {
      "text/plain": [
       "[<div class=\"audience-info hidden-xs superPageFontColor\">\n",
       " <div>\n",
       " <span class=\"subtle superPageFontColor\">Average Rating:</span>\n",
       "             3.5/5\n",
       "                 </div>\n",
       " <div>\n",
       " <span class=\"subtle superPageFontColor\">User Ratings:</span>\n",
       "         32,313,030</div>\n",
       " </div>]"
      ]
     },
     "execution_count": 14,
     "metadata": {},
     "output_type": "execute_result"
    }
   ],
   "source": [
    "# get the whole div\n",
    "soup.find_all('div', class_='audience-info hidden-xs superPageFontColor')"
   ]
  },
  {
   "cell_type": "code",
   "execution_count": 15,
   "id": "6552c39d",
   "metadata": {},
   "outputs": [
    {
     "data": {
      "text/plain": [
       "<div>\n",
       "<span class=\"subtle superPageFontColor\">User Ratings:</span>\n",
       "        32,313,030</div>"
      ]
     },
     "execution_count": 15,
     "metadata": {},
     "output_type": "execute_result"
    }
   ],
   "source": [
    "# filter by the line I need\n",
    "soup.find('div', class_='audience-info hidden-xs superPageFontColor').contents[3]"
   ]
  },
  {
   "cell_type": "code",
   "execution_count": 16,
   "id": "b466dd0e",
   "metadata": {},
   "outputs": [
    {
     "data": {
      "text/plain": [
       "'\\nUser Ratings:\\n        32,313,030'"
      ]
     },
     "execution_count": 16,
     "metadata": {},
     "output_type": "execute_result"
    }
   ],
   "source": [
    "# filter some more using get_text()\n",
    "soup.find('div', class_='audience-info hidden-xs superPageFontColor').contents[3].get_text()"
   ]
  },
  {
   "cell_type": "code",
   "execution_count": 17,
   "id": "a4b81d52",
   "metadata": {},
   "outputs": [
    {
     "data": {
      "text/plain": [
       "'32,313,030'"
      ]
     },
     "execution_count": 17,
     "metadata": {},
     "output_type": "execute_result"
    }
   ],
   "source": [
    "# slice to get only the number of audience ratings\n",
    "num_audience_ratings = soup.find('div', class_='audience-info hidden-xs superPageFontColor').contents[3].get_text()[len('\\nUser Ratings:\\n        '):]\n",
    "num_audience_ratings"
   ]
  },
  {
   "cell_type": "code",
   "execution_count": 18,
   "id": "77409713",
   "metadata": {},
   "outputs": [
    {
     "data": {
      "text/plain": [
       "'32313030'"
      ]
     },
     "execution_count": 18,
     "metadata": {},
     "output_type": "execute_result"
    }
   ],
   "source": [
    "# remove the commas so we can convert it to an int later\n",
    "num_audience_ratings = num_audience_ratings.replace(',', '')\n",
    "num_audience_ratings"
   ]
  },
  {
   "cell_type": "markdown",
   "id": "8c88d420",
   "metadata": {},
   "source": [
    "#### Third: Get the `movie title`"
   ]
  },
  {
   "cell_type": "code",
   "execution_count": 19,
   "id": "202620e8",
   "metadata": {},
   "outputs": [
    {
     "data": {
      "text/plain": [
       "'E.T. The Extra-Terrestrial\\xa0(1982)'"
      ]
     },
     "execution_count": 19,
     "metadata": {},
     "output_type": "execute_result"
    }
   ],
   "source": [
    "soup.find('title').contents[0][:-len(' - Rotten Tomatoes')]"
   ]
  },
  {
   "cell_type": "markdown",
   "id": "77b6d760",
   "metadata": {},
   "source": [
    "#### Next: create a loop to extract this information for all 100 files"
   ]
  },
  {
   "cell_type": "code",
   "execution_count": 20,
   "id": "c9a49d5b",
   "metadata": {},
   "outputs": [],
   "source": [
    "import os"
   ]
  },
  {
   "cell_type": "code",
   "execution_count": 21,
   "id": "98452b45",
   "metadata": {},
   "outputs": [],
   "source": [
    "# list of dictionaries to build file by file and later convert to a DataFrame\n",
    "df_list = []\n",
    "folder = 'support-files/02_Gathering-Data/rt_html'\n",
    "for movie_html in os.listdir(folder):\n",
    "    with open(os.path.join(folder, movie_html)) as file:\n",
    "        soup = BeautifulSoup(file, \"lxml\")\n",
    "        \n",
    "        # title\n",
    "        title = soup.find('title').contents[0][:-len(' - Rotten Tomatoes')]\n",
    "        #title = unicodedata.normalize('NFKD', title)\n",
    "        \n",
    "        # audience score\n",
    "        audience_score = soup.find('div', class_='meter-value').contents[1].get_text()[:-len('%')]\n",
    "        \n",
    "        # number of audience ratings\n",
    "        num_audience_ratings = soup.find('div', class_='audience-info hidden-xs superPageFontColor').contents[3].get_text()[len('\\nUser Ratings:\\n        '):]\n",
    "        num_audience_ratings = num_audience_ratings.replace(',', '')\n",
    "        \n",
    "        # Append to list of dictionaries\n",
    "        df_list.append({'title': title,\n",
    "                        'audience_score': int(audience_score),\n",
    "                        'number_of_audience_ratings': int(num_audience_ratings)})\n",
    "df = pd.DataFrame(df_list, columns = ['title', 'audience_score', 'number_of_audience_ratings'])"
   ]
  },
  {
   "cell_type": "code",
   "execution_count": 22,
   "id": "7e8a5917",
   "metadata": {},
   "outputs": [
    {
     "data": {
      "text/html": [
       "<div>\n",
       "<style scoped>\n",
       "    .dataframe tbody tr th:only-of-type {\n",
       "        vertical-align: middle;\n",
       "    }\n",
       "\n",
       "    .dataframe tbody tr th {\n",
       "        vertical-align: top;\n",
       "    }\n",
       "\n",
       "    .dataframe thead th {\n",
       "        text-align: right;\n",
       "    }\n",
       "</style>\n",
       "<table border=\"1\" class=\"dataframe\">\n",
       "  <thead>\n",
       "    <tr style=\"text-align: right;\">\n",
       "      <th></th>\n",
       "      <th>title</th>\n",
       "      <th>audience_score</th>\n",
       "      <th>number_of_audience_ratings</th>\n",
       "    </tr>\n",
       "  </thead>\n",
       "  <tbody>\n",
       "    <tr>\n",
       "      <th>0</th>\n",
       "      <td>12 Angry Men (Twelve Angry Men) (1957)</td>\n",
       "      <td>97</td>\n",
       "      <td>103672</td>\n",
       "    </tr>\n",
       "    <tr>\n",
       "      <th>1</th>\n",
       "      <td>The 39 Steps (1935)</td>\n",
       "      <td>86</td>\n",
       "      <td>23647</td>\n",
       "    </tr>\n",
       "    <tr>\n",
       "      <th>2</th>\n",
       "      <td>The Adventures of Robin Hood (1938)</td>\n",
       "      <td>89</td>\n",
       "      <td>33584</td>\n",
       "    </tr>\n",
       "    <tr>\n",
       "      <th>3</th>\n",
       "      <td>All About Eve (1950)</td>\n",
       "      <td>94</td>\n",
       "      <td>44564</td>\n",
       "    </tr>\n",
       "    <tr>\n",
       "      <th>4</th>\n",
       "      <td>All Quiet on the Western Front (1930)</td>\n",
       "      <td>89</td>\n",
       "      <td>17768</td>\n",
       "    </tr>\n",
       "  </tbody>\n",
       "</table>\n",
       "</div>"
      ],
      "text/plain": [
       "                                    title  audience_score  \\\n",
       "0  12 Angry Men (Twelve Angry Men) (1957)              97   \n",
       "1                     The 39 Steps (1935)              86   \n",
       "2     The Adventures of Robin Hood (1938)              89   \n",
       "3                    All About Eve (1950)              94   \n",
       "4   All Quiet on the Western Front (1930)              89   \n",
       "\n",
       "   number_of_audience_ratings  \n",
       "0                      103672  \n",
       "1                       23647  \n",
       "2                       33584  \n",
       "3                       44564  \n",
       "4                       17768  "
      ]
     },
     "execution_count": 22,
     "metadata": {},
     "output_type": "execute_result"
    }
   ],
   "source": [
    "df.head()"
   ]
  },
  {
   "cell_type": "markdown",
   "id": "d2b90fcb",
   "metadata": {},
   "source": [
    "#### Flashforward 1\n",
    "Once this newly-created dataframe containing the audience scores and number of audience ratings is joined with the .tsv file cointaining information on critic ratings, a visualization like [this](https://public.tableau.com/app/profile/david.venturi/viz/BestofRottenTomatoesCriticvs_AudienceScores/BestofRottenTomatoesCriticvs_AudienceScores) could be created! I'll get there soon enough :), as soon as I get to the assessing and cleaning lessons.\n",
    "\n",
    "### Source: Downloading Files from the Internet\n",
    "Starting the Roger Ebert Review Word Cloud"
   ]
  },
  {
   "cell_type": "code",
   "execution_count": 23,
   "id": "0654d1d4",
   "metadata": {},
   "outputs": [],
   "source": [
    "import requests\n",
    "import os"
   ]
  },
  {
   "cell_type": "code",
   "execution_count": 24,
   "id": "765d08b8",
   "metadata": {},
   "outputs": [],
   "source": [
    "folder_name = 'support-files/02_Gathering-Data/ebert_reviews'\n",
    "if not os.path.exists(folder_name):\n",
    "    os.makedirs(folder_name)"
   ]
  },
  {
   "cell_type": "code",
   "execution_count": 25,
   "id": "58d7e7b3",
   "metadata": {},
   "outputs": [],
   "source": [
    "ebert_review_urls = ['https://d17h27t6h515a5.cloudfront.net/topher/2017/September/59ad9900_1-the-wizard-of-oz-1939-film/1-the-wizard-of-oz-1939-film.txt',\n",
    "                     'https://d17h27t6h515a5.cloudfront.net/topher/2017/September/59ad9901_2-citizen-kane/2-citizen-kane.txt',\n",
    "                     'https://d17h27t6h515a5.cloudfront.net/topher/2017/September/59ad9901_3-the-third-man/3-the-third-man.txt',\n",
    "                     'https://d17h27t6h515a5.cloudfront.net/topher/2017/September/59ad9902_4-get-out-film/4-get-out-film.txt',\n",
    "                     'https://d17h27t6h515a5.cloudfront.net/topher/2017/September/59ad9902_5-mad-max-fury-road/5-mad-max-fury-road.txt',\n",
    "                     'https://d17h27t6h515a5.cloudfront.net/topher/2017/September/59ad9902_6-the-cabinet-of-dr.-caligari/6-the-cabinet-of-dr.-caligari.txt',\n",
    "                     'https://d17h27t6h515a5.cloudfront.net/topher/2017/September/59ad9903_7-all-about-eve/7-all-about-eve.txt',\n",
    "                     'https://d17h27t6h515a5.cloudfront.net/topher/2017/September/59ad9903_8-inside-out-2015-film/8-inside-out-2015-film.txt',\n",
    "                     'https://d17h27t6h515a5.cloudfront.net/topher/2017/September/59ad9903_9-the-godfather/9-the-godfather.txt',\n",
    "                     'https://d17h27t6h515a5.cloudfront.net/topher/2017/September/59ad9904_10-metropolis-1927-film/10-metropolis-1927-film.txt',\n",
    "                     'https://d17h27t6h515a5.cloudfront.net/topher/2017/September/59ad9904_11-e.t.-the-extra-terrestrial/11-e.t.-the-extra-terrestrial.txt',\n",
    "                     'https://d17h27t6h515a5.cloudfront.net/topher/2017/September/59ad9904_12-modern-times-film/12-modern-times-film.txt',\n",
    "                     'https://d17h27t6h515a5.cloudfront.net/topher/2017/September/59ad9904_14-singin-in-the-rain/14-singin-in-the-rain.txt',\n",
    "                     'https://d17h27t6h515a5.cloudfront.net/topher/2017/September/59ad9905_15-boyhood-film/15-boyhood-film.txt',\n",
    "                     'https://d17h27t6h515a5.cloudfront.net/topher/2017/September/59ad9905_16-casablanca-film/16-casablanca-film.txt',\n",
    "                     'https://d17h27t6h515a5.cloudfront.net/topher/2017/September/59ad9905_17-moonlight-2016-film/17-moonlight-2016-film.txt',\n",
    "                     'https://d17h27t6h515a5.cloudfront.net/topher/2017/September/59ad9906_18-psycho-1960-film/18-psycho-1960-film.txt',\n",
    "                     'https://d17h27t6h515a5.cloudfront.net/topher/2017/September/59ad9906_19-laura-1944-film/19-laura-1944-film.txt',\n",
    "                     'https://d17h27t6h515a5.cloudfront.net/topher/2017/September/59ad9906_20-nosferatu/20-nosferatu.txt',\n",
    "                     'https://d17h27t6h515a5.cloudfront.net/topher/2017/September/59ad9907_21-snow-white-and-the-seven-dwarfs-1937-film/21-snow-white-and-the-seven-dwarfs-1937-film.txt',\n",
    "                     'https://d17h27t6h515a5.cloudfront.net/topher/2017/September/59ad9907_22-a-hard-day27s-night-film/22-a-hard-day27s-night-film.txt',\n",
    "                     'https://d17h27t6h515a5.cloudfront.net/topher/2017/September/59ad9907_23-la-grande-illusion/23-la-grande-illusion.txt',\n",
    "                     'https://d17h27t6h515a5.cloudfront.net/topher/2017/September/59ad9908_25-the-battle-of-algiers/25-the-battle-of-algiers.txt',\n",
    "                     'https://d17h27t6h515a5.cloudfront.net/topher/2017/September/59ad9908_26-dunkirk-2017-film/26-dunkirk-2017-film.txt',\n",
    "                     'https://d17h27t6h515a5.cloudfront.net/topher/2017/September/59ad9908_27-the-maltese-falcon-1941-film/27-the-maltese-falcon-1941-film.txt',\n",
    "                     'https://d17h27t6h515a5.cloudfront.net/topher/2017/September/59ad9909_29-12-years-a-slave-film/29-12-years-a-slave-film.txt',\n",
    "                     'https://d17h27t6h515a5.cloudfront.net/topher/2017/September/59ad9909_30-gravity-2013-film/30-gravity-2013-film.txt',\n",
    "                     'https://d17h27t6h515a5.cloudfront.net/topher/2017/September/59ad9909_31-sunset-boulevard-film/31-sunset-boulevard-film.txt',\n",
    "                     'https://d17h27t6h515a5.cloudfront.net/topher/2017/September/59ad990a_32-king-kong-1933-film/32-king-kong-1933-film.txt',\n",
    "                     'https://d17h27t6h515a5.cloudfront.net/topher/2017/September/59ad990a_33-spotlight-film/33-spotlight-film.txt',\n",
    "                     'https://d17h27t6h515a5.cloudfront.net/topher/2017/September/59ad990a_34-the-adventures-of-robin-hood/34-the-adventures-of-robin-hood.txt',\n",
    "                     'https://d17h27t6h515a5.cloudfront.net/topher/2017/September/59ad990b_35-rashomon/35-rashomon.txt',\n",
    "                     'https://d17h27t6h515a5.cloudfront.net/topher/2017/September/59ad990b_36-rear-window/36-rear-window.txt',\n",
    "                     'https://d17h27t6h515a5.cloudfront.net/topher/2017/September/59ad990b_37-selma-film/37-selma-film.txt',\n",
    "                     'https://d17h27t6h515a5.cloudfront.net/topher/2017/September/59ad990c_38-taxi-driver/38-taxi-driver.txt',\n",
    "                     'https://d17h27t6h515a5.cloudfront.net/topher/2017/September/59ad990c_39-toy-story-3/39-toy-story-3.txt',\n",
    "                     'https://d17h27t6h515a5.cloudfront.net/topher/2017/September/59ad990c_40-argo-2012-film/40-argo-2012-film.txt',\n",
    "                     'https://d17h27t6h515a5.cloudfront.net/topher/2017/September/59ad990d_41-toy-story-2/41-toy-story-2.txt',\n",
    "                     'https://d17h27t6h515a5.cloudfront.net/topher/2017/September/59ad990d_42-the-big-sick/42-the-big-sick.txt',\n",
    "                     'https://d17h27t6h515a5.cloudfront.net/topher/2017/September/59ad990d_43-bride-of-frankenstein/43-bride-of-frankenstein.txt',\n",
    "                     'https://d17h27t6h515a5.cloudfront.net/topher/2017/September/59ad990d_44-zootopia/44-zootopia.txt',\n",
    "                     'https://d17h27t6h515a5.cloudfront.net/topher/2017/September/59ad990e_45-m-1931-film/45-m-1931-film.txt',\n",
    "                     'https://d17h27t6h515a5.cloudfront.net/topher/2017/September/59ad990e_46-wonder-woman-2017-film/46-wonder-woman-2017-film.txt',\n",
    "                     'https://d17h27t6h515a5.cloudfront.net/topher/2017/September/59ad990e_48-alien-film/48-alien-film.txt',\n",
    "                     'https://d17h27t6h515a5.cloudfront.net/topher/2017/September/59ad990f_49-bicycle-thieves/49-bicycle-thieves.txt',\n",
    "                     'https://d17h27t6h515a5.cloudfront.net/topher/2017/September/59ad990f_50-seven-samurai/50-seven-samurai.txt',\n",
    "                     'https://d17h27t6h515a5.cloudfront.net/topher/2017/September/59ad990f_51-the-treasure-of-the-sierra-madre-film/51-the-treasure-of-the-sierra-madre-film.txt',\n",
    "                     'https://d17h27t6h515a5.cloudfront.net/topher/2017/September/59ad9910_52-up-2009-film/52-up-2009-film.txt',\n",
    "                     'https://d17h27t6h515a5.cloudfront.net/topher/2017/September/59ad9910_53-12-angry-men-1957-film/53-12-angry-men-1957-film.txt',\n",
    "                     'https://d17h27t6h515a5.cloudfront.net/topher/2017/September/59ad9910_54-the-400-blows/54-the-400-blows.txt',\n",
    "                     'https://d17h27t6h515a5.cloudfront.net/topher/2017/September/59ad9911_55-logan-film/55-logan-film.txt',\n",
    "                     'https://d17h27t6h515a5.cloudfront.net/topher/2017/September/59ad9911_57-army-of-shadows/57-army-of-shadows.txt',\n",
    "                     'https://d17h27t6h515a5.cloudfront.net/topher/2017/September/59ad9912_58-arrival-film/58-arrival-film.txt',\n",
    "                     'https://d17h27t6h515a5.cloudfront.net/topher/2017/September/59ad9912_59-baby-driver/59-baby-driver.txt',\n",
    "                     'https://d17h27t6h515a5.cloudfront.net/topher/2017/September/59ad9913_60-a-streetcar-named-desire-1951-film/60-a-streetcar-named-desire-1951-film.txt',\n",
    "                     'https://d17h27t6h515a5.cloudfront.net/topher/2017/September/59ad9913_61-the-night-of-the-hunter-film/61-the-night-of-the-hunter-film.txt',\n",
    "                     'https://d17h27t6h515a5.cloudfront.net/topher/2017/September/59ad9913_62-star-wars-the-force-awakens/62-star-wars-the-force-awakens.txt',\n",
    "                     'https://d17h27t6h515a5.cloudfront.net/topher/2017/September/59ad9913_63-manchester-by-the-sea-film/63-manchester-by-the-sea-film.txt',\n",
    "                     'https://d17h27t6h515a5.cloudfront.net/topher/2017/September/59ad9914_64-dr.-strangelove/64-dr.-strangelove.txt',\n",
    "                     'https://d17h27t6h515a5.cloudfront.net/topher/2017/September/59ad9914_66-vertigo-film/66-vertigo-film.txt',\n",
    "                     'https://d17h27t6h515a5.cloudfront.net/topher/2017/September/59ad9914_67-the-dark-knight-film/67-the-dark-knight-film.txt',\n",
    "                     'https://d17h27t6h515a5.cloudfront.net/topher/2017/September/59ad9915_68-touch-of-evil/68-touch-of-evil.txt',\n",
    "                     'https://d17h27t6h515a5.cloudfront.net/topher/2017/September/59ad9915_69-the-babadook/69-the-babadook.txt',\n",
    "                     'https://d17h27t6h515a5.cloudfront.net/topher/2017/September/59ad9915_72-rosemary27s-baby-film/72-rosemary27s-baby-film.txt',\n",
    "                     'https://d17h27t6h515a5.cloudfront.net/topher/2017/September/59ad9916_73-finding-nemo/73-finding-nemo.txt',\n",
    "                     'https://d17h27t6h515a5.cloudfront.net/topher/2017/September/59ad9916_74-brooklyn-film/74-brooklyn-film.txt',\n",
    "                     'https://d17h27t6h515a5.cloudfront.net/topher/2017/September/59ad9917_75-the-wrestler-2008-film/75-the-wrestler-2008-film.txt',\n",
    "                     'https://d17h27t6h515a5.cloudfront.net/topher/2017/September/59ad9917_77-l.a.-confidential-film/77-l.a.-confidential-film.txt',\n",
    "                     'https://d17h27t6h515a5.cloudfront.net/topher/2017/September/59ad9918_78-gone-with-the-wind-film/78-gone-with-the-wind-film.txt',\n",
    "                     'https://d17h27t6h515a5.cloudfront.net/topher/2017/September/59ad9918_79-the-good-the-bad-and-the-ugly/79-the-good-the-bad-and-the-ugly.txt',\n",
    "                     'https://d17h27t6h515a5.cloudfront.net/topher/2017/September/59ad9918_80-skyfall/80-skyfall.txt',\n",
    "                     'https://d17h27t6h515a5.cloudfront.net/topher/2017/September/59ad9919_82-tokyo-story/82-tokyo-story.txt',\n",
    "                     'https://d17h27t6h515a5.cloudfront.net/topher/2017/September/59ad9919_83-hell-or-high-water-film/83-hell-or-high-water-film.txt',\n",
    "                     'https://d17h27t6h515a5.cloudfront.net/topher/2017/September/59ad9919_84-pinocchio-1940-film/84-pinocchio-1940-film.txt',\n",
    "                     'https://d17h27t6h515a5.cloudfront.net/topher/2017/September/59ad9919_85-the-jungle-book-2016-film/85-the-jungle-book-2016-film.txt',\n",
    "                     'https://d17h27t6h515a5.cloudfront.net/topher/2017/September/59ad991a_86-la-la-land-film/86-la-la-land-film.txt',\n",
    "                     'https://d17h27t6h515a5.cloudfront.net/topher/2017/September/59ad991b_87-star-trek-film/87-star-trek-film.txt',\n",
    "                     'https://d17h27t6h515a5.cloudfront.net/topher/2017/September/59ad991b_89-apocalypse-now/89-apocalypse-now.txt',\n",
    "                     'https://d17h27t6h515a5.cloudfront.net/topher/2017/September/59ad991c_90-on-the-waterfront/90-on-the-waterfront.txt',\n",
    "                     'https://d17h27t6h515a5.cloudfront.net/topher/2017/September/59ad991c_91-the-wages-of-fear/91-the-wages-of-fear.txt',\n",
    "                     'https://d17h27t6h515a5.cloudfront.net/topher/2017/September/59ad991c_92-the-last-picture-show/92-the-last-picture-show.txt',\n",
    "                     'https://d17h27t6h515a5.cloudfront.net/topher/2017/September/59ad991d_93-harry-potter-and-the-deathly-hallows-part-2/93-harry-potter-and-the-deathly-hallows-part-2.txt',\n",
    "                     'https://d17h27t6h515a5.cloudfront.net/topher/2017/September/59ad991d_94-the-grapes-of-wrath-film/94-the-grapes-of-wrath-film.txt',\n",
    "                     'https://d17h27t6h515a5.cloudfront.net/topher/2017/September/59ad991d_96-man-on-wire/96-man-on-wire.txt',\n",
    "                     'https://d17h27t6h515a5.cloudfront.net/topher/2017/September/59ad991e_97-jaws-film/97-jaws-film.txt',\n",
    "                     'https://d17h27t6h515a5.cloudfront.net/topher/2017/September/59ad991e_98-toy-story/98-toy-story.txt',\n",
    "                     'https://d17h27t6h515a5.cloudfront.net/topher/2017/September/59ad991e_99-the-godfather-part-ii/99-the-godfather-part-ii.txt',\n",
    "                     'https://d17h27t6h515a5.cloudfront.net/topher/2017/September/59ad991e_100-battleship-potemkin/100-battleship-potemkin.txt']"
   ]
  },
  {
   "cell_type": "markdown",
   "id": "e20c2917",
   "metadata": {},
   "source": [
    "Note1: See *warning* in the Requests [documentation](https://docs.python-requests.org/en/latest/user/quickstart/#make-a-request)\n",
    "\n",
    "Note2: `open` [function's](https://docs.python.org/3/tutorial/inputoutput.html#tut-files) mode argument"
   ]
  },
  {
   "cell_type": "code",
   "execution_count": 26,
   "id": "964b3a01",
   "metadata": {},
   "outputs": [],
   "source": [
    "# iterate through the url list\n",
    "for url in ebert_review_urls:\n",
    "    \n",
    "    # create the request\n",
    "    response = requests.get(url)\n",
    "    \n",
    "    # access the content and write to a file\n",
    "    with open(os.path.join(folder_name,\n",
    "                          url.split('/')[-1]), mode='wb') as file:\n",
    "        file.write(response.content)"
   ]
  },
  {
   "cell_type": "code",
   "execution_count": 27,
   "id": "f9a073cb",
   "metadata": {},
   "outputs": [
    {
     "data": {
      "text/plain": [
       "88"
      ]
     },
     "execution_count": 27,
     "metadata": {},
     "output_type": "execute_result"
    }
   ],
   "source": [
    "# there should be 88 files\n",
    "len(os.listdir(folder_name))"
   ]
  },
  {
   "cell_type": "markdown",
   "id": "674cc012",
   "metadata": {},
   "source": [
    "12 movies in the top 100 Rotten Tomatoes list didn't have reviews on Roger Ebert's site."
   ]
  },
  {
   "cell_type": "markdown",
   "id": "89922d23",
   "metadata": {},
   "source": [
    "### Encodings and Character Sets Articles\n",
    "\n",
    "- [The Absolute Minimum Every Software Developer Absolutely, Positively Must Know About Unicode and Character Sets (No Excuses!)](https://www.joelonsoftware.com/2003/10/08/the-absolute-minimum-every-software-developer-absolutely-positively-must-know-about-unicode-and-character-sets-no-excuses/) by Joel Spolsky\n",
    "- [What Every Programmer Absolutely, Positively Needs To Know About Encodings And Character Sets To Work With Text](http://kunststube.net/encoding/)\n",
    "\n",
    "### Text Files in Python\n",
    "The [glob](https://docs.python.org/3/library/glob.html) library makes opening files with similar path structure (like our folder of Roger Ebert review text files) simple.\n",
    "\n",
    "Whenever you open a file in Python, it's good practice to especify the encoding. The exact encoding depend on the source of the text. You can look at the page's html to figure out what was the encoding used. It's the `<meta chartset>` tag. In Roger Ebert's website, it's `utf-8`."
   ]
  },
  {
   "cell_type": "code",
   "execution_count": 28,
   "id": "f93cdaf6",
   "metadata": {},
   "outputs": [],
   "source": [
    "# glob is especially useful if I have different file formats in this folder\n",
    "\n",
    "df_list =[]\n",
    "for ebert_review in glob.glob('support-files/02_Gathering-Data/ebert_reviews/*.txt'):    \n",
    "    with open(ebert_review, encoding='utf-8') as file:\n",
    "        title = file.readline()[:-1]\n",
    "        review_url = file.readline()[:-1]\n",
    "        review_text = file.read()\n",
    "        \n",
    "        # append to list of dictionaries\n",
    "        df_list.append({'title': title,\n",
    "                       'review_url': review_url,\n",
    "                       'review_text': review_text})"
   ]
  },
  {
   "cell_type": "code",
   "execution_count": 29,
   "id": "bf630cbb",
   "metadata": {},
   "outputs": [],
   "source": [
    "# create dataframe\n",
    "df = pd.DataFrame(df_list, columns=['title', 'review_url', 'review_text'])"
   ]
  },
  {
   "cell_type": "code",
   "execution_count": 30,
   "id": "ec47bd2c",
   "metadata": {},
   "outputs": [
    {
     "data": {
      "text/html": [
       "<div>\n",
       "<style scoped>\n",
       "    .dataframe tbody tr th:only-of-type {\n",
       "        vertical-align: middle;\n",
       "    }\n",
       "\n",
       "    .dataframe tbody tr th {\n",
       "        vertical-align: top;\n",
       "    }\n",
       "\n",
       "    .dataframe thead th {\n",
       "        text-align: right;\n",
       "    }\n",
       "</style>\n",
       "<table border=\"1\" class=\"dataframe\">\n",
       "  <thead>\n",
       "    <tr style=\"text-align: right;\">\n",
       "      <th></th>\n",
       "      <th>title</th>\n",
       "      <th>review_url</th>\n",
       "      <th>review_text</th>\n",
       "    </tr>\n",
       "  </thead>\n",
       "  <tbody>\n",
       "    <tr>\n",
       "      <th>0</th>\n",
       "      <td>The Wizard of Oz (1939)</td>\n",
       "      <td>http://www.rogerebert.com/reviews/great-movie-...</td>\n",
       "      <td>As a child I simply did not notice whether a m...</td>\n",
       "    </tr>\n",
       "    <tr>\n",
       "      <th>1</th>\n",
       "      <td>Metropolis (1927)</td>\n",
       "      <td>http://www.rogerebert.com/reviews/great-movie-...</td>\n",
       "      <td>The opening shots of the restored “Metropolis”...</td>\n",
       "    </tr>\n",
       "    <tr>\n",
       "      <th>2</th>\n",
       "      <td>Battleship Potemkin (1925)</td>\n",
       "      <td>http://www.rogerebert.com/reviews/great-movie-...</td>\n",
       "      <td>\"The Battleship Potemkin” has been so famous f...</td>\n",
       "    </tr>\n",
       "    <tr>\n",
       "      <th>3</th>\n",
       "      <td>E.T. The Extra-Terrestrial (1982)</td>\n",
       "      <td>http://www.rogerebert.com/reviews/great-movie-...</td>\n",
       "      <td>Dear Raven and Emil:\\n\\nSunday we sat on the b...</td>\n",
       "    </tr>\n",
       "    <tr>\n",
       "      <th>4</th>\n",
       "      <td>Modern Times (1936)</td>\n",
       "      <td>http://www.rogerebert.com/reviews/modern-times...</td>\n",
       "      <td>A lot of movies are said to be timeless, but s...</td>\n",
       "    </tr>\n",
       "  </tbody>\n",
       "</table>\n",
       "</div>"
      ],
      "text/plain": [
       "                               title  \\\n",
       "0            The Wizard of Oz (1939)   \n",
       "1                  Metropolis (1927)   \n",
       "2         Battleship Potemkin (1925)   \n",
       "3  E.T. The Extra-Terrestrial (1982)   \n",
       "4                Modern Times (1936)   \n",
       "\n",
       "                                          review_url  \\\n",
       "0  http://www.rogerebert.com/reviews/great-movie-...   \n",
       "1  http://www.rogerebert.com/reviews/great-movie-...   \n",
       "2  http://www.rogerebert.com/reviews/great-movie-...   \n",
       "3  http://www.rogerebert.com/reviews/great-movie-...   \n",
       "4  http://www.rogerebert.com/reviews/modern-times...   \n",
       "\n",
       "                                         review_text  \n",
       "0  As a child I simply did not notice whether a m...  \n",
       "1  The opening shots of the restored “Metropolis”...  \n",
       "2  \"The Battleship Potemkin” has been so famous f...  \n",
       "3  Dear Raven and Emil:\\n\\nSunday we sat on the b...  \n",
       "4  A lot of movies are said to be timeless, but s...  "
      ]
     },
     "execution_count": 30,
     "metadata": {},
     "output_type": "execute_result"
    }
   ],
   "source": [
    "df.head()"
   ]
  },
  {
   "cell_type": "markdown",
   "id": "ced8fd85",
   "metadata": {},
   "source": [
    "#### More Information\n",
    "\n",
    "1. Opening and reading files in Python:\n",
    "- [Stack Overflow: Best Practices for Opening Files in Python](https://stackoverflow.com/a/22288895)\n",
    "- [Stack Overflow: The Correct, Fully Pythonic Way to Read a File](https://stackoverflow.com/a/8010133)\n",
    "\n",
    "2. Glob programming\n",
    "- [Wikipedia: Glob programming](https://en.wikipedia.org/wiki/Glob_(programming))\n",
    "- [Python glob Library](https://docs.python.org/3/library/glob.html)\n",
    "\n",
    "### Source: APIs (Application Programming Interfaces)\n",
    "We could scrape the image URL from the HTML. But a better way is to access them through an API (Application Programming Interface). Each movie has its poster on its Wikipedia page, so we can use Wikipedia's API.\n",
    "\n",
    "APIs give you relatively easy access to data from the Internet. Twitter, Facebook, Instagram all have APIs and there are many open-source APIs.\n",
    "\n",
    "In this lesson we'll be using [MediaWiki](https://www.mediawiki.org/wiki/MediaWiki), which is a popular open-source API for Wikipedia.\n",
    "\n",
    "#### When Given a Choice, Pick API over Scraping\n",
    "Scraping is brittle and breaks with web layout redesigns because the underlying HTML has changed.\n",
    "\n",
    "#### MediaWiki API\n",
    "MediaWiki has a great [tutorial](https://www.mediawiki.org/wiki/API:Tutorial) on their website on how their API calls are structured. It's a nice and simple example and they explain the various moving parts:\n",
    "\n",
    "- The endpoint (important takeaway: there is nothing special about this URL!)\n",
    "- The format\n",
    "- The action\n",
    "- Action-specific parameters\n",
    "\n",
    "#### wptools Library\n",
    "There are a bunch of different access libraries for MediaWiki to satisfy the variety of programming languages that exist. Here is a [list](https://www.mediawiki.org/wiki/API:Client_code#Python) for Python. This is pretty standard for most APIs. Some libraries are better than others, which again, is standard. For a MediaWiki, the most up to date and human readable one in Python is called [wptools](https://github.com/siznax/wptools).\n",
    "\n",
    "#### Quiz\n",
    "Get the page object for the E.T. The Extra-Terrestial Wikipedia page. Here is the [E.T. Wikipedia page](https://en.wikipedia.org/wiki/E.T._the_Extra-Terrestrial) for easy reference."
   ]
  },
  {
   "cell_type": "code",
   "execution_count": 31,
   "id": "20fe6b2d",
   "metadata": {},
   "outputs": [],
   "source": [
    "import wptools"
   ]
  },
  {
   "cell_type": "code",
   "execution_count": 32,
   "id": "d08a030e",
   "metadata": {},
   "outputs": [
    {
     "name": "stderr",
     "output_type": "stream",
     "text": [
      "en.wikipedia.org (query) E.T._the_Extra-Terrestrial\n",
      "en.wikipedia.org (query) E.T. the Extra-Terrestrial (&plcontinue=...\n",
      "en.wikipedia.org (parse) 73441\n",
      "www.wikidata.org (wikidata) Q11621\n",
      "www.wikidata.org (labels) P5021|Q139184|Q258064|P646|Q4834543|Q22...\n",
      "www.wikidata.org (labels) P3995|Q3953565|P2334|P18|Q1044183|P5008...\n",
      "www.wikidata.org (labels) Q168383|Q4376972|Q60629803|P1712|P950|P...\n",
      "www.wikidata.org (labels) P2518|Q900414|Q8395520|P3417|P5786|Q105...\n",
      "www.wikidata.org (labels) P921|Q1315008|P2130|P437|Q499789|Q68608...\n",
      "en.wikipedia.org (restbase) /page/summary/E.T._the_Extra-Terrestrial\n",
      "en.wikipedia.org (imageinfo) File:E t the extra terrestrial ver3....\n",
      "E.T. the Extra-Terrestrial (en) data\n",
      "{\n",
      "  WARNINGS: <dict(1)> extracts\n",
      "  aliases: <list(2)> E.T., ET\n",
      "  assessments: <dict(4)> United States, Film, Science Fiction, Lib...\n",
      "  claims: <dict(129)> P1562, P57, P272, P345, P31, P161, P373, P48...\n",
      "  description: 1982 American film\n",
      "  exhtml: <str(485)> <p><i><b>E.T. the Extra-Terrestrial</b></i> i...\n",
      "  exrest: <str(464)> E.T. the Extra-Terrestrial is a 1982 American...\n",
      "  extext: <str(2186)> _**E.T. the Extra-Terrestrial**_ (or simply ...\n",
      "  extract: <str(2311)> <p class=\"mw-empty-elt\"></p><p><i><b>E.T. t...\n",
      "  image: <list(4)> {'kind': 'parse-image', 'file': 'File:E t the e...\n",
      "  infobox: <dict(19)> name, image, alt, caption, director, produce...\n",
      "  iwlinks: <list(6)> https://commons.wikimedia.org/wiki/Category:E...\n",
      "  label: E.T. the Extra-Terrestrial\n",
      "  labels: <dict(248)> P5021, Q139184, Q258064, P646, Q4834543, Q22...\n",
      "  length: 99,679\n",
      "  links: <list(587)> 12 Angry Men (1957 film), 12 Monkeys, 12 Year...\n",
      "  modified: <dict(2)> page, wikidata\n",
      "  pageid: 73441\n",
      "  parsetree: <str(121836)> <root><template><title>Redirect</title>...\n",
      "  random: Ngelik\n",
      "  redirects: <list(37)> {'pageid': 177061, 'ns': 0, 'title': 'E.T....\n",
      "  requests: <list(11)> query, query, parse, wikidata, labels, labe...\n",
      "  title: E.T._the_Extra-Terrestrial\n",
      "  url: https://en.wikipedia.org/wiki/E.T._the_Extra-Terrestrial\n",
      "  url_raw: <str(67)> https://en.wikipedia.org/wiki/E.T._the_Extra-...\n",
      "  watchers: 356\n",
      "  what: film\n",
      "  wikibase: Q11621\n",
      "  wikidata: <dict(129)> AllMovie title ID (P1562), director (P57),...\n",
      "  wikidata_pageid: 13150\n",
      "  wikidata_url: https://www.wikidata.org/wiki/Q11621\n",
      "  wikitext: <str(99350)> {{Redirect|E.T.|other uses|ET (disambigua...\n",
      "}\n"
     ]
    }
   ],
   "source": [
    "# get the E.T. page object\n",
    "page = wptools.page('E.T._the_Extra-Terrestrial').get()"
   ]
  },
  {
   "cell_type": "code",
   "execution_count": 33,
   "id": "a613ef11",
   "metadata": {},
   "outputs": [
    {
     "data": {
      "text/plain": [
       "{'kind': 'parse-image',\n",
       " 'file': 'File:E t the extra terrestrial ver3.jpg',\n",
       " 'orig': 'E t the extra terrestrial ver3.jpg',\n",
       " 'timestamp': '2016-06-04T10:30:46Z',\n",
       " 'size': 83073,\n",
       " 'width': 253,\n",
       " 'height': 394,\n",
       " 'url': 'https://upload.wikimedia.org/wikipedia/en/6/66/E_t_the_extra_terrestrial_ver3.jpg',\n",
       " 'descriptionurl': 'https://en.wikipedia.org/wiki/File:E_t_the_extra_terrestrial_ver3.jpg',\n",
       " 'descriptionshorturl': 'https://en.wikipedia.org/w/index.php?curid=7419503',\n",
       " 'title': 'File:E t the extra terrestrial ver3.jpg',\n",
       " 'metadata': {'DateTime': {'value': '2016-06-04 10:30:46',\n",
       "   'source': 'mediawiki-metadata',\n",
       "   'hidden': ''},\n",
       "  'ObjectName': {'value': 'E t the extra terrestrial ver3',\n",
       "   'source': 'mediawiki-metadata',\n",
       "   'hidden': ''},\n",
       "  'CommonsMetadataExtension': {'value': 1.2,\n",
       "   'source': 'extension',\n",
       "   'hidden': ''},\n",
       "  'Categories': {'value': 'All non-free media|E.T. the Extra-Terrestrial|Fair use images of film posters|Files with no machine-readable author|Noindexed pages|Wikipedia non-free files for NFUR review|Wikipedia non-free files with valid backlink',\n",
       "   'source': 'commons-categories',\n",
       "   'hidden': ''},\n",
       "  'Assessments': {'value': '', 'source': 'commons-categories', 'hidden': ''},\n",
       "  'ImageDescription': {'value': '<p>This is a poster for  <i>E.T. the Extra-Terrestrial</i>. <br>The poster art copyright is believed to belong to <a href=\"//en.wikipedia.org/wiki/John_Alvin\" title=\"John Alvin\">John Alvin</a>.\\n</p>',\n",
       "   'source': 'commons-desc-page'},\n",
       "  'Credit': {'value': '<p>The poster art can or could be obtained from <a href=\"//en.wikipedia.org/wiki/John_Alvin\" title=\"John Alvin\">John Alvin</a>.\\n</p>',\n",
       "   'source': 'commons-desc-page',\n",
       "   'hidden': ''},\n",
       "  'LicenseShortName': {'value': 'Fair use',\n",
       "   'source': 'commons-desc-page',\n",
       "   'hidden': ''},\n",
       "  'UsageTerms': {'value': '<a href=\"//en.wikipedia.org/wiki/Wikipedia:Non-free_use_rationale_guideline\" title=\"Wikipedia:Non-free use rationale guideline\">Fair use</a> of copyrighted material in the context of <a href=\"//en.wikipedia.org/wiki/E.T._the_Extra-Terrestrial\" title=\"E.T. the Extra-Terrestrial\">E.T. the Extra-Terrestrial</a>',\n",
       "   'source': 'commons-desc-page',\n",
       "   'hidden': ''},\n",
       "  'Attribution': {'value': '<p>The poster art can or could be obtained from <a href=\"//en.wikipedia.org/wiki/John_Alvin\" title=\"John Alvin\">John Alvin</a>.\\n</p>',\n",
       "   'source': 'commons-desc-page',\n",
       "   'hidden': ''},\n",
       "  'LicenseUrl': {'value': '//en.wikipedia.org/wiki/File:E_t_the_extra_terrestrial_ver3.jpg',\n",
       "   'source': 'commons-desc-page',\n",
       "   'hidden': ''},\n",
       "  'NonFree': {'value': 'true', 'source': 'commons-desc-page', 'hidden': ''},\n",
       "  'Copyrighted': {'value': 'True',\n",
       "   'source': 'commons-desc-page',\n",
       "   'hidden': ''},\n",
       "  'Restrictions': {'value': '', 'source': 'commons-desc-page', 'hidden': ''}}}"
      ]
     },
     "execution_count": 33,
     "metadata": {},
     "output_type": "execute_result"
    }
   ],
   "source": [
    "# accessing the image attribute will return the images for this page\n",
    "page.data['image'][0]"
   ]
  },
  {
   "cell_type": "code",
   "execution_count": 34,
   "id": "2d400af2",
   "metadata": {},
   "outputs": [
    {
     "data": {
      "text/plain": [
       "{'name': 'E.T. the Extra-Terrestrial',\n",
       " 'image': 'E t the extra terrestrial ver3.jpg',\n",
       " 'alt': 'The poster shows the planet earth, a child\\'s finger touching E.T\\'s finger, with a light blinking on contact. The top headline reads \"His Adventure On Earth\".',\n",
       " 'caption': 'Theatrical release poster by [[John Alvin]]',\n",
       " 'director': '[[Steven Spielberg]]',\n",
       " 'producers': '{{unbulleted list|[[Kathleen Kennedy (producer)|Kathleen Kennedy]]|Steven Spielberg}}',\n",
       " 'writer': '[[Melissa Mathison]]',\n",
       " 'starring': '{{Plainlist|<!--Per poster billing-->|\\n* [[Dee Wallace]]\\n* [[Henry Thomas]]\\n* [[Peter Coyote]]\\n* [[Robert MacNaughton]]\\n* [[Drew Barrymore]]}} * [[Dee Wallace]]\\n* [[Henry Thomas]]\\n* [[Peter Coyote]]\\n* [[Robert MacNaughton]]\\n* [[Drew Barrymore]]',\n",
       " 'music': '[[John Williams]]',\n",
       " 'cinematography': '[[Allen Daviau]]',\n",
       " 'editing': '[[Carol Littleton]]',\n",
       " 'studio': '[[Amblin Entertainment]]',\n",
       " 'distributor': '[[Universal Pictures]]',\n",
       " 'released': '{{Film date|1982|5|26|[[1982 Cannes Film Festival|Cannes]]|1982|6|11|United States}}',\n",
       " 'runtime': '114 minutes (original) <br/>120 minutes (2002 version)',\n",
       " 'country': 'United States',\n",
       " 'language': 'English',\n",
       " 'budget': '$10.5 million',\n",
       " 'gross': '$792.9 Billion'}"
      ]
     },
     "execution_count": 34,
     "metadata": {},
     "output_type": "execute_result"
    }
   ],
   "source": [
    "page.data['infobox']"
   ]
  },
  {
   "cell_type": "code",
   "execution_count": 35,
   "id": "3bc9a923",
   "metadata": {},
   "outputs": [
    {
     "data": {
      "text/plain": [
       "'[[Steven Spielberg]]'"
      ]
     },
     "execution_count": 35,
     "metadata": {},
     "output_type": "execute_result"
    }
   ],
   "source": [
    "page.data['infobox']['director']"
   ]
  },
  {
   "cell_type": "markdown",
   "id": "e6d7a3dc",
   "metadata": {},
   "source": [
    "#### Downloading Files Programmatically using APIs and JSON"
   ]
  },
  {
   "cell_type": "code",
   "execution_count": 36,
   "id": "818a13df",
   "metadata": {},
   "outputs": [],
   "source": [
    "from PIL import Image\n",
    "from io import BytesIO"
   ]
  },
  {
   "cell_type": "code",
   "execution_count": 37,
   "id": "1fab81ba",
   "metadata": {},
   "outputs": [],
   "source": [
    "title_list = [\n",
    " 'The_Wizard_of_Oz_(1939_film)',\n",
    " 'Citizen_Kane',\n",
    " 'The_Third_Man',\n",
    " 'Get_Out_(film)',\n",
    " 'Mad_Max:_Fury_Road',\n",
    " 'The_Cabinet_of_Dr._Caligari',\n",
    " 'All_About_Eve',\n",
    " 'Inside_Out_(2015_film)',\n",
    " 'The_Godfather',\n",
    " 'Metropolis_(1927_film)',\n",
    " 'E.T._the_Extra-Terrestrial',\n",
    " 'Modern_Times_(film)',\n",
    " 'It_Happened_One_Night',\n",
    " \"Singin'_in_the_Rain\",\n",
    " 'Boyhood_(film)',\n",
    " 'Casablanca_(film)',\n",
    " 'Moonlight_(2016_film)',\n",
    " 'Psycho_(1960_film)',\n",
    " 'Laura_(1944_film)',\n",
    " 'Nosferatu',\n",
    " 'Snow_White_and_the_Seven_Dwarfs_(1937_film)',\n",
    " \"A_Hard_Day%27s_Night_(film)\",\n",
    " 'La_Grande_Illusion',\n",
    " 'North_by_Northwest',\n",
    " 'The_Battle_of_Algiers',\n",
    " 'Dunkirk_(2017_film)',\n",
    " 'The_Maltese_Falcon_(1941_film)',\n",
    " 'Repulsion_(film)',\n",
    " '12_Years_a_Slave_(film)',\n",
    " 'Gravity_(2013_film)',\n",
    " 'Sunset_Boulevard_(film)',\n",
    " 'King_Kong_(1933_film)',\n",
    " 'Spotlight_(film)',\n",
    " 'The_Adventures_of_Robin_Hood',\n",
    " 'Rashomon',\n",
    " 'Rear_Window',\n",
    " 'Selma_(film)',\n",
    " 'Taxi_Driver',\n",
    " 'Toy_Story_3',\n",
    " 'Argo_(2012_film)',\n",
    " 'Toy_Story_2',\n",
    " 'The_Big_Sick',\n",
    " 'Bride_of_Frankenstein',\n",
    " 'Zootopia',\n",
    " 'M_(1931_film)',\n",
    " 'Wonder_Woman_(2017_film)',\n",
    " 'The_Philadelphia_Story_(film)',\n",
    " 'Alien_(film)',\n",
    " 'Bicycle_Thieves',\n",
    " 'Seven_Samurai',\n",
    " 'The_Treasure_of_the_Sierra_Madre_(film)',\n",
    " 'Up_(2009_film)',\n",
    " '12_Angry_Men_(1957_film)',\n",
    " 'The_400_Blows',\n",
    " 'Logan_(film)',\n",
    " 'All_Quiet_on_the_Western_Front_(1930_film)',\n",
    " 'Army_of_Shadows',\n",
    " 'Arrival_(film)',\n",
    " 'Baby_Driver',\n",
    " 'A_Streetcar_Named_Desire_(1951_film)',\n",
    " 'The_Night_of_the_Hunter_(film)',\n",
    " 'Star_Wars:_The_Force_Awakens',\n",
    " 'Manchester_by_the_Sea_(film)',\n",
    " 'Dr._Strangelove',\n",
    " 'Frankenstein_(1931_film)',\n",
    " 'Vertigo_(film)',\n",
    " 'The_Dark_Knight_(film)',\n",
    " 'Touch_of_Evil',\n",
    " 'The_Babadook',\n",
    " 'The_Conformist_(film)',\n",
    " 'Rebecca_(1940_film)',\n",
    " \"Rosemary%27s_Baby_(film)\",\n",
    " 'Finding_Nemo',\n",
    " 'Brooklyn_(film)',\n",
    " 'The_Wrestler_(2008_film)',\n",
    " 'The_39_Steps_(1935_film)',\n",
    " 'L.A._Confidential_(film)',\n",
    " 'Gone_with_the_Wind_(film)',\n",
    " 'The_Good,_the_Bad_and_the_Ugly',\n",
    " 'Skyfall',\n",
    " 'Rome,_Open_City',\n",
    " 'Tokyo_Story',\n",
    " 'Hell_or_High_Water_(film)',\n",
    " 'Pinocchio_(1940_film)',\n",
    " 'The_Jungle_Book_(2016_film)',\n",
    " 'La_La_Land_(film)',\n",
    " 'Star_Trek_(film)',\n",
    " 'High_Noon',\n",
    " 'Apocalypse_Now',\n",
    " 'On_the_Waterfront',\n",
    " 'The_Wages_of_Fear',\n",
    " 'The_Last_Picture_Show',\n",
    " 'Harry_Potter_and_the_Deathly_Hallows_–_Part_2',\n",
    " 'The_Grapes_of_Wrath_(film)',\n",
    " 'Roman_Holiday',\n",
    " 'Man_on_Wire',\n",
    " 'Jaws_(film)',\n",
    " 'Toy_Story',\n",
    " 'The_Godfather_Part_II',\n",
    " 'Battleship_Potemkin'\n",
    "]"
   ]
  },
  {
   "cell_type": "code",
   "execution_count": 38,
   "id": "605477c5",
   "metadata": {},
   "outputs": [],
   "source": [
    "folder_name = 'support-files/02_Gathering-Data/bestofrt_posters'\n",
    "\n",
    "# make directory if it doesn't already exist\n",
    "if not os.path.exists(folder_name):\n",
    "    os.makedirs(folder_name)"
   ]
  },
  {
   "cell_type": "code",
   "execution_count": 39,
   "id": "2c2f1e6f",
   "metadata": {
    "scrolled": true
   },
   "outputs": [
    {
     "name": "stdout",
     "output_type": "stream",
     "text": [
      "1\n",
      "2\n",
      "2_Citizen_Kane: cannot identify image file <_io.BytesIO object at 0x00000144548AAE00>\n",
      "3\n",
      "3_The_Third_Man: cannot identify image file <_io.BytesIO object at 0x000001445465BA40>\n",
      "4\n",
      "5\n",
      "6\n",
      "7\n",
      "7_All_About_Eve: cannot identify image file <_io.BytesIO object at 0x00000144548A3F40>\n",
      "8\n",
      "9\n",
      "10\n",
      "10_Metropolis_(1927_film): cannot identify image file <_io.BytesIO object at 0x00000144548A3DB0>\n",
      "11\n",
      "12\n",
      "13\n",
      "13_It_Happened_One_Night: cannot identify image file <_io.BytesIO object at 0x00000144548A3360>\n",
      "14\n",
      "15\n",
      "15_Boyhood_(film): 'image'\n",
      "16\n",
      "17\n",
      "18\n",
      "18_Psycho_(1960_film): cannot identify image file <_io.BytesIO object at 0x0000014453B45360>\n",
      "19\n",
      "19_Laura_(1944_film): cannot identify image file <_io.BytesIO object at 0x0000014454D45EA0>\n",
      "20\n",
      "21\n",
      "22\n"
     ]
    },
    {
     "name": "stderr",
     "output_type": "stream",
     "text": [
      "API error: {'code': 'invalidtitle', 'info': 'Bad title \"A_Hard_Day%27s_Night_(film)\".', 'docref': 'See https://en.wikipedia.org/w/api.php for API usage. Subscribe to the mediawiki-api-announce mailing list at &lt;https://lists.wikimedia.org/postorius/lists/mediawiki-api-announce.lists.wikimedia.org/&gt; for notice of API deprecations and breaking changes.'}\n"
     ]
    },
    {
     "name": "stdout",
     "output_type": "stream",
     "text": [
      "22_A_Hard_Day%27s_Night_(film): https://en.wikipedia.org/w/api.php?action=parse&formatversion=2&contentmodel=text&disableeditsection=&disablelimitreport=&disabletoc=&prop=text|iwlinks|parsetree|wikitext|displaytitle|properties&redirects&page=A_Hard_Day%2527s_Night_%28film%29\n",
      "23\n",
      "24\n",
      "24_North_by_Northwest: cannot identify image file <_io.BytesIO object at 0x0000014453C495E0>\n",
      "25\n",
      "26\n",
      "27\n",
      "27_The_Maltese_Falcon_(1941_film): cannot identify image file <_io.BytesIO object at 0x0000014453B45360>\n",
      "28\n",
      "29\n",
      "30\n",
      "31\n",
      "31_Sunset_Boulevard_(film): cannot identify image file <_io.BytesIO object at 0x0000014453C32B80>\n",
      "32\n",
      "33\n",
      "34\n",
      "34_The_Adventures_of_Robin_Hood: cannot identify image file <_io.BytesIO object at 0x00000144538EB360>\n",
      "35\n",
      "35_Rashomon: cannot identify image file <_io.BytesIO object at 0x0000014453B5CB80>\n",
      "36\n",
      "37\n",
      "38\n",
      "39\n",
      "40\n",
      "41\n",
      "42\n",
      "43\n",
      "43_Bride_of_Frankenstein: cannot identify image file <_io.BytesIO object at 0x0000014453C3F180>\n",
      "44\n",
      "45\n",
      "46\n",
      "47\n",
      "47_The_Philadelphia_Story_(film): cannot identify image file <_io.BytesIO object at 0x0000014453F72900>\n",
      "48\n",
      "49\n",
      "50\n",
      "50_Seven_Samurai: cannot identify image file <_io.BytesIO object at 0x0000014454D6F720>\n",
      "51\n",
      "51_The_Treasure_of_the_Sierra_Madre_(film): cannot identify image file <_io.BytesIO object at 0x000001445421FF40>\n",
      "52\n",
      "53\n",
      "53_12_Angry_Men_(1957_film): cannot identify image file <_io.BytesIO object at 0x000001445422DB80>\n",
      "54\n",
      "55\n",
      "56\n",
      "56_All_Quiet_on_the_Western_Front_(1930_film): cannot identify image file <_io.BytesIO object at 0x0000014453EE20E0>\n",
      "57\n",
      "57_Army_of_Shadows: cannot identify image file <_io.BytesIO object at 0x0000014454D6FA40>\n",
      "58\n",
      "59\n",
      "60\n",
      "60_A_Streetcar_Named_Desire_(1951_film): cannot identify image file <_io.BytesIO object at 0x0000014453ECB450>\n",
      "61\n",
      "61_The_Night_of_the_Hunter_(film): cannot identify image file <_io.BytesIO object at 0x0000014454123810>\n",
      "62\n",
      "63\n",
      "64\n",
      "65\n",
      "66\n",
      "66_Vertigo_(film): cannot identify image file <_io.BytesIO object at 0x00000144548A3C70>\n",
      "67\n",
      "68\n",
      "68_Touch_of_Evil: cannot identify image file <_io.BytesIO object at 0x00000144548A3B30>\n",
      "69\n",
      "70\n",
      "71\n",
      "71_Rebecca_(1940_film): cannot identify image file <_io.BytesIO object at 0x00000144538DB310>\n",
      "72\n"
     ]
    },
    {
     "name": "stderr",
     "output_type": "stream",
     "text": [
      "API error: {'code': 'invalidtitle', 'info': 'Bad title \"Rosemary%27s_Baby_(film)\".', 'docref': 'See https://en.wikipedia.org/w/api.php for API usage. Subscribe to the mediawiki-api-announce mailing list at &lt;https://lists.wikimedia.org/postorius/lists/mediawiki-api-announce.lists.wikimedia.org/&gt; for notice of API deprecations and breaking changes.'}\n"
     ]
    },
    {
     "name": "stdout",
     "output_type": "stream",
     "text": [
      "72_Rosemary%27s_Baby_(film): https://en.wikipedia.org/w/api.php?action=parse&formatversion=2&contentmodel=text&disableeditsection=&disablelimitreport=&disabletoc=&prop=text|iwlinks|parsetree|wikitext|displaytitle|properties&redirects&page=Rosemary%2527s_Baby_%28film%29\n",
      "73\n",
      "74\n",
      "75\n",
      "76\n",
      "77\n",
      "78\n",
      "78_Gone_with_the_Wind_(film): cannot identify image file <_io.BytesIO object at 0x000001445476E4A0>\n",
      "79\n",
      "80\n",
      "81\n",
      "82\n",
      "82_Tokyo_Story: cannot identify image file <_io.BytesIO object at 0x0000014453ECB090>\n",
      "83\n",
      "84\n",
      "85\n",
      "86\n",
      "87\n",
      "88\n",
      "88_High_Noon: cannot identify image file <_io.BytesIO object at 0x0000014453EB1AE0>\n",
      "89\n",
      "90\n",
      "91\n",
      "91_The_Wages_of_Fear: cannot identify image file <_io.BytesIO object at 0x000001445421FF40>\n",
      "92\n",
      "93\n",
      "94\n",
      "94_The_Grapes_of_Wrath_(film): cannot identify image file <_io.BytesIO object at 0x0000014454C62360>\n",
      "95\n",
      "95_Roman_Holiday: cannot identify image file <_io.BytesIO object at 0x0000014453D08220>\n",
      "96\n",
      "96_Man_on_Wire: cannot identify image file <_io.BytesIO object at 0x00000144538DB310>\n",
      "97\n",
      "98\n",
      "99\n",
      "100\n",
      "100_Battleship_Potemkin: cannot identify image file <_io.BytesIO object at 0x0000014453C4B7C0>\n"
     ]
    }
   ],
   "source": [
    "# List of dictionaries to build and convert to a DataFrame later\n",
    "df_list = []\n",
    "image_errors = {}\n",
    "for title in title_list:\n",
    "    try:\n",
    "        # this cell is slow so print ranking to gauge time remaining\n",
    "        ranking = title_list.index(title) + 1\n",
    "        print(ranking)\n",
    "        page = wptools.page(title, silent=True)\n",
    "        # your code here (three lines)\n",
    "        images = page.get().data['image']\n",
    "        # first image is usually the poster\n",
    "        first_image_url = images[0]['url']\n",
    "        r = requests.get(first_image_url)\n",
    "        # download movie poster image\n",
    "        i = Image.open(BytesIO(r.content))\n",
    "        image_file_format = first_image_url.split('.')[-1]\n",
    "        i.save(folder_name + \"/\" + str(ranking) + \"_\" + title + '.' + image_file_format)\n",
    "        # append to list of dictionaries\n",
    "        df_list.append({'ranking': int(ranking),\n",
    "                        'title': title,\n",
    "                        'poster_url': first_image_url})\n",
    "    \n",
    "    # Not best practice to catch all exceptions but fine for this short script\n",
    "    except Exception as e:\n",
    "        print(str(ranking) + \"_\" + title + \": \" + str(e))\n",
    "        image_errors[str(ranking) + \"_\" + title] = images"
   ]
  },
  {
   "cell_type": "code",
   "execution_count": 40,
   "id": "58ea1bcf",
   "metadata": {
    "scrolled": true
   },
   "outputs": [
    {
     "name": "stdout",
     "output_type": "stream",
     "text": [
      "2_Citizen_Kane\n",
      "3_The_Third_Man\n",
      "7_All_About_Eve\n",
      "10_Metropolis_(1927_film)\n",
      "13_It_Happened_One_Night\n",
      "15_Boyhood_(film)\n",
      "18_Psycho_(1960_film)\n",
      "19_Laura_(1944_film)\n",
      "22_A_Hard_Day%27s_Night_(film)\n",
      "24_North_by_Northwest\n",
      "27_The_Maltese_Falcon_(1941_film)\n",
      "31_Sunset_Boulevard_(film)\n",
      "34_The_Adventures_of_Robin_Hood\n",
      "35_Rashomon\n",
      "43_Bride_of_Frankenstein\n",
      "47_The_Philadelphia_Story_(film)\n",
      "50_Seven_Samurai\n",
      "51_The_Treasure_of_the_Sierra_Madre_(film)\n",
      "53_12_Angry_Men_(1957_film)\n",
      "56_All_Quiet_on_the_Western_Front_(1930_film)\n",
      "57_Army_of_Shadows\n",
      "60_A_Streetcar_Named_Desire_(1951_film)\n",
      "61_The_Night_of_the_Hunter_(film)\n",
      "66_Vertigo_(film)\n",
      "68_Touch_of_Evil\n",
      "71_Rebecca_(1940_film)\n",
      "72_Rosemary%27s_Baby_(film)\n",
      "78_Gone_with_the_Wind_(film)\n",
      "82_Tokyo_Story\n",
      "88_High_Noon\n",
      "91_The_Wages_of_Fear\n",
      "94_The_Grapes_of_Wrath_(film)\n",
      "95_Roman_Holiday\n",
      "96_Man_on_Wire\n",
      "100_Battleship_Potemkin\n"
     ]
    }
   ],
   "source": [
    "for key in image_errors.keys():\n",
    "    print(key)"
   ]
  },
  {
   "cell_type": "markdown",
   "id": "3117d691",
   "metadata": {},
   "source": [
    "Unfortunately, web scraping is a moving target and this code won't completely work. Still, it was a good practice on using wptools!"
   ]
  },
  {
   "cell_type": "code",
   "execution_count": 41,
   "id": "350a2629",
   "metadata": {},
   "outputs": [],
   "source": [
    "# Inspect unidentifiable images and download them individually\n",
    "for rank_title, images in image_errors.items():\n",
    "    if rank_title == '3_The_Third_Man':\n",
    "        title = 'The_Third_Man'\n",
    "        url = 'https://upload.wikimedia.org/wikipedia/commons/7/77/The_Third_Man_%281949_American_theatrical_poster%29.jpg'\n",
    "    if rank_title == '5_Mad_Max':\n",
    "        title = 'Mad_Max'\n",
    "        url = 'https://upload.wikimedia.org/wikipedia/en/5/5a/MadMazAus.jpg'\n",
    "    if rank_title == '6_The_Cabinet_of_Dr._Caligari':\n",
    "        title = 'The_Cabinet_of_Dr._Caligari'\n",
    "        url = 'https://upload.wikimedia.org/wikipedia/en/2/2f/The_Cabinet_of_Dr._Caligari_poster.jpg'\n",
    "    if rank_title == '7_All_About_Eve':\n",
    "        title = 'All_About_Eve'\n",
    "        url = 'https://upload.wikimedia.org/wikipedia/commons/a/a7/All_About_Eve_%281950_poster_-_retouch%29.jpg'\n",
    "    if rank_title == '10_Metropolis_(1927_film)':\n",
    "        title = 'Metropolis_(1927_film)'\n",
    "        url = 'https://upload.wikimedia.org/wikipedia/en/9/97/Metropolis_%28German_three-sheet_poster%29.jpg'\n",
    "    if rank_title == '13_It_Happened_One_Night':\n",
    "        title = \"It_Happened_One_Night\"\n",
    "        url = 'https://upload.wikimedia.org/wikipedia/commons/d/dc/It-happened-one-night-poster.jpg'\n",
    "    if rank_title == \"14_Singin'_in_the_Rain\":\n",
    "        title = \"Singin'_in_the_Rain\"\n",
    "        url = 'https://upload.wikimedia.org/wikipedia/commons/5/5d/Singin%27_in_the_Rain_%281952_poster%29.jpg'\n",
    "    if rank_title == '15_Boyhood_(film)':\n",
    "        title = \"Boyhood_(film)\"\n",
    "        url = 'https://upload.wikimedia.org/wikipedia/en/a/a6/Boyhood_%282014%29.png'\n",
    "    if rank_title == '19_Laura_(1944_film)':\n",
    "        title = \"Laura_(1944_film)\"\n",
    "        url = 'https://upload.wikimedia.org/wikipedia/commons/3/30/Laura_%281944_film_poster%29.jpg'\n",
    "    if rank_title == '22_A_Hard_Day%27s_Night_(film)':\n",
    "        title = \"A_Hard_Day%27s_Night_(film)\"\n",
    "        url = 'https://upload.wikimedia.org/wikipedia/en/4/47/A_Hard_Days_night_movieposter.jpg'\n",
    "    if rank_title == '24_North_by_Northwest':\n",
    "        title = 'North_by_Northwest'\n",
    "        url = 'https://upload.wikimedia.org/wikipedia/commons/8/83/Northbynorthwest1.jpg'\n",
    "    if rank_title == '27_The_Maltese_Falcon_(1941_film)':\n",
    "        title = 'The_Maltese_Falcon_(1941_film)'\n",
    "        url = 'https://upload.wikimedia.org/wikipedia/commons/6/6b/The_Maltese_Falcon_%281941_film_poster%29.jpg'\n",
    "    if rank_title == '31_Sunset_Boulevard_(film)':\n",
    "        title = 'Sunset_Boulevard_(film)'\n",
    "        url = 'https://upload.wikimedia.org/wikipedia/commons/1/14/Sunset_Boulevard_%281950_poster%29.jpg'\n",
    "    if rank_title == '34_The_Adventures_of_Robin_Hood':\n",
    "        title = 'The_Adventures_of_Robin_Hood'\n",
    "        url = 'https://upload.wikimedia.org/wikipedia/commons/f/f7/The_Adventures_of_Robin_Hood_%281938_poster%29.jpg'\n",
    "    if rank_title == '35_Rashomon':\n",
    "        title = 'Rashomon'\n",
    "        url = 'https://upload.wikimedia.org/wikipedia/commons/a/a3/Rashomon_poster_3.jpg'\n",
    "    if rank_title == '36_Rear_Window':\n",
    "        title = 'Rear_Window'\n",
    "        url = 'https://upload.wikimedia.org/wikipedia/commons/3/38/Rear_Window_film_poster.jpg'\n",
    "    if rank_title == '43_Bride_of_Frankenstein':\n",
    "        title = 'Bride_of_Frankenstein'\n",
    "        url = 'https://upload.wikimedia.org/wikipedia/commons/5/58/The_Bride_of_Frankenstein_%281935_poster%29.jpg'\n",
    "    if rank_title == '47_The_Philadelphia_Story_(film)':\n",
    "        title = 'The_Philadelphia_Story_(film)'\n",
    "        url = 'https://upload.wikimedia.org/wikipedia/commons/5/54/The-Philadelphia-Story-%281940%29.jpg'\n",
    "    if rank_title == '50_Seven_Samurai':\n",
    "        title = 'Seven_Samurai'\n",
    "        url = 'https://upload.wikimedia.org/wikipedia/commons/b/ba/Seven_Samurai_poster.jpg'\n",
    "    if rank_title == '51_The_Treasure_of_the_Sierra_Madre_(film)':\n",
    "        title = 'The_Treasure_of_the_Sierra_Madre_(film)'\n",
    "        url = 'https://upload.wikimedia.org/wikipedia/commons/1/1d/The_Treasure_of_the_Sierra_Madre_%281947_poster%29.jpg'\n",
    "    if rank_title == '53_12_Angry_Men_(1957_film)':\n",
    "        title = '12_Angry_Men_(1957_film)'\n",
    "        url = 'https://upload.wikimedia.org/wikipedia/commons/b/b5/12_Angry_Men_%281957_film_poster%29.jpg'\n",
    "    if rank_title == '56_All_Quiet_on_the_Western_Front_(1930_film)':\n",
    "        title = 'All_Quiet_on_the_Western_Front_(1930_film)'\n",
    "        url = 'https://upload.wikimedia.org/wikipedia/commons/6/6c/All_Quiet_on_the_Western_Front_%281930_film%29_poster.jpg'\n",
    "    if rank_title == '60_A_Streetcar_Named_Desire_(1951_film)':\n",
    "        title = 'A_Streetcar_Named_Desire_(1951_film)'\n",
    "        url = 'https://upload.wikimedia.org/wikipedia/en/6/66/StreetcarNamedDesire.JPG'\n",
    "    if rank_title == '61_The_Night_of_the_Hunter_(film)':\n",
    "        title = 'The_Night_of_the_Hunter_(film)'\n",
    "        url = 'https://upload.wikimedia.org/wikipedia/commons/a/a5/The_Night_of_the_Hunter_%281955_poster%29.jpg'\n",
    "    if rank_title == '62_Star_Wars':\n",
    "        title = 'Star_Wars'\n",
    "        url = 'https://upload.wikimedia.org/wikipedia/en/8/87/StarWarsMoviePoster1977.jpg'\n",
    "    if rank_title == '64_Dr._Strangelove':\n",
    "        title = 'Dr._Strangelove'\n",
    "        url = 'https://en.wikipedia.org/wiki/Dr._Strangelove#/media/File:Dr._Strangelove_poster.jpg'\n",
    "    if rank_title == '66_Vertigo_(film)':\n",
    "        title = 'Vertigo_(film)'\n",
    "        url = 'https://upload.wikimedia.org/wikipedia/commons/7/75/Vertigomovie_restoration.jpg'\n",
    "    if rank_title == '68_Touch_of_Evil':\n",
    "        title = 'Touch_of_Evil'\n",
    "        url = 'https://upload.wikimedia.org/wikipedia/commons/0/09/Touch_of_Evil_%281958_poster%29.jpg'\n",
    "    if rank_title == '72_Rosemary%27s_Baby_(film)':\n",
    "        title = 'Rosemary%27s_Baby_(film)'\n",
    "        url = 'https://upload.wikimedia.org/wikipedia/en/e/ef/Rosemarys_baby_poster.jpg'\n",
    "    if rank_title == '78_Gone_with_the_Wind_(film)':\n",
    "        title = 'Gone_with_the_Wind_(film)'\n",
    "        url = 'https://upload.wikimedia.org/wikipedia/commons/2/27/Poster_-_Gone_With_the_Wind_01.jpg'\n",
    "    if rank_title == '82_Tokyo_Story':\n",
    "        title = 'Tokyo_Story'\n",
    "        url = 'https://upload.wikimedia.org/wikipedia/commons/1/1b/Tokyo-story-20201121.jpg'\n",
    "    if rank_title == '90_On_the_Waterfront':\n",
    "        title = 'On_the_Waterfront'\n",
    "        url = 'https://upload.wikimedia.org/wikipedia/commons/e/ee/On_the_Waterfront_%281954_poster%29.jpg'\n",
    "    if rank_title == '94_The_Grapes_of_Wrath_(film)':\n",
    "        title = 'The_Grapes_of_Wrath_(film)'\n",
    "        url = 'https://upload.wikimedia.org/wikipedia/commons/c/c1/The_Grapes_of_Wrath_%281940_poster%29.jpg'\n",
    "    if rank_title == '95_Roman_Holiday':\n",
    "        title = 'Roman_Holiday'\n",
    "        url = 'https://upload.wikimedia.org/wikipedia/commons/d/d0/Roman_Holiday_%281953_poster%29.jpg'\n",
    "    if rank_title == '100_Battleship_Potemkin':\n",
    "        title = 'Battleship_Potemkin'\n",
    "        url = 'https://upload.wikimedia.org/wikipedia/commons/8/85/Vintage_Potemkin.jpg'\n",
    "    \n",
    "    title = rank_title.split('_', 1)[1]\n",
    "    if title not in df_list:\n",
    "        df_list.append({'ranking': int(title_list.index(title) + 1),\n",
    "                        'title': title,\n",
    "                        'poster_url': url})\n",
    "\n",
    "#     r = requests.get(url)\n",
    "#     # Download movie poster image\n",
    "#     i = Image.open(BytesIO(r.content))\n",
    "#     image_file_format = url.split('.')[-1]\n",
    "#     i.save(folder_name + \"/\" + rank_title + '.' + image_file_format)"
   ]
  },
  {
   "cell_type": "code",
   "execution_count": 42,
   "id": "8ca77f19",
   "metadata": {},
   "outputs": [],
   "source": [
    "# Create DataFrame from list of dictionaries\n",
    "df = pd.DataFrame(df_list, columns = ['ranking', 'title', 'poster_url'])\n",
    "df = df.sort_values('ranking').reset_index(drop=True)"
   ]
  },
  {
   "cell_type": "code",
   "execution_count": 43,
   "id": "5c6735dd",
   "metadata": {},
   "outputs": [
    {
     "data": {
      "text/html": [
       "<div>\n",
       "<style scoped>\n",
       "    .dataframe tbody tr th:only-of-type {\n",
       "        vertical-align: middle;\n",
       "    }\n",
       "\n",
       "    .dataframe tbody tr th {\n",
       "        vertical-align: top;\n",
       "    }\n",
       "\n",
       "    .dataframe thead th {\n",
       "        text-align: right;\n",
       "    }\n",
       "</style>\n",
       "<table border=\"1\" class=\"dataframe\">\n",
       "  <thead>\n",
       "    <tr style=\"text-align: right;\">\n",
       "      <th></th>\n",
       "      <th>ranking</th>\n",
       "      <th>title</th>\n",
       "      <th>poster_url</th>\n",
       "    </tr>\n",
       "  </thead>\n",
       "  <tbody>\n",
       "    <tr>\n",
       "      <th>0</th>\n",
       "      <td>1</td>\n",
       "      <td>The_Wizard_of_Oz_(1939_film)</td>\n",
       "      <td>https://upload.wikimedia.org/wikipedia/commons...</td>\n",
       "    </tr>\n",
       "    <tr>\n",
       "      <th>1</th>\n",
       "      <td>2</td>\n",
       "      <td>Citizen_Kane</td>\n",
       "      <td>https://d17h27t6h515a5.cloudfront.net/topher/2...</td>\n",
       "    </tr>\n",
       "    <tr>\n",
       "      <th>2</th>\n",
       "      <td>3</td>\n",
       "      <td>The_Third_Man</td>\n",
       "      <td>https://upload.wikimedia.org/wikipedia/commons...</td>\n",
       "    </tr>\n",
       "    <tr>\n",
       "      <th>3</th>\n",
       "      <td>4</td>\n",
       "      <td>Get_Out_(film)</td>\n",
       "      <td>https://upload.wikimedia.org/wikipedia/en/a/a3...</td>\n",
       "    </tr>\n",
       "    <tr>\n",
       "      <th>4</th>\n",
       "      <td>5</td>\n",
       "      <td>Mad_Max:_Fury_Road</td>\n",
       "      <td>https://upload.wikimedia.org/wikipedia/en/6/6e...</td>\n",
       "    </tr>\n",
       "  </tbody>\n",
       "</table>\n",
       "</div>"
      ],
      "text/plain": [
       "   ranking                         title  \\\n",
       "0        1  The_Wizard_of_Oz_(1939_film)   \n",
       "1        2                  Citizen_Kane   \n",
       "2        3                 The_Third_Man   \n",
       "3        4                Get_Out_(film)   \n",
       "4        5            Mad_Max:_Fury_Road   \n",
       "\n",
       "                                          poster_url  \n",
       "0  https://upload.wikimedia.org/wikipedia/commons...  \n",
       "1  https://d17h27t6h515a5.cloudfront.net/topher/2...  \n",
       "2  https://upload.wikimedia.org/wikipedia/commons...  \n",
       "3  https://upload.wikimedia.org/wikipedia/en/a/a3...  \n",
       "4  https://upload.wikimedia.org/wikipedia/en/6/6e...  "
      ]
     },
     "execution_count": 43,
     "metadata": {},
     "output_type": "execute_result"
    }
   ],
   "source": [
    "df.head()"
   ]
  },
  {
   "cell_type": "code",
   "execution_count": 44,
   "id": "2b896c0c",
   "metadata": {},
   "outputs": [
    {
     "name": "stdout",
     "output_type": "stream",
     "text": [
      "<class 'pandas.core.frame.DataFrame'>\n",
      "RangeIndex: 100 entries, 0 to 99\n",
      "Data columns (total 3 columns):\n",
      " #   Column      Non-Null Count  Dtype \n",
      "---  ------      --------------  ----- \n",
      " 0   ranking     100 non-null    int64 \n",
      " 1   title       100 non-null    object\n",
      " 2   poster_url  100 non-null    object\n",
      "dtypes: int64(1), object(2)\n",
      "memory usage: 2.5+ KB\n"
     ]
    }
   ],
   "source": [
    "df.info()"
   ]
  },
  {
   "cell_type": "markdown",
   "id": "55bbe590",
   "metadata": {},
   "source": [
    "### Storing Data\n",
    "In order to create the word cloud visualizations, we'd need the assessing and cleaning steps to be done too. However, they are the scope of the next two lessons. For now, Udacity provided the word cloud visualizations and the combined dataset to download until I have the necessary skills to generate them myself!\n",
    "\n",
    "### Relational Databases in Python\n",
    "Data Wrangling and Relational Databases\n",
    "In the context of data wrangling, we recommend that databases and SQL only come into play for gathering data or storing data. That is:\n",
    "\n",
    "- Storing data **from** a pandas DataFrame **in** a database to which you're connected, and\n",
    "- Importing data **from** a database to which you're connected **to** a pandas DataFrame\n",
    "\n",
    "Imagine the next cells contains all of the gathering code from this entire lesson, plus the assessing and cleaning code done behind the scenes, and that the final product is a merged master DataFrame called *df*."
   ]
  },
  {
   "cell_type": "code",
   "execution_count": 45,
   "id": "3dad864c",
   "metadata": {},
   "outputs": [
    {
     "data": {
      "text/html": [
       "<div>\n",
       "<style scoped>\n",
       "    .dataframe tbody tr th:only-of-type {\n",
       "        vertical-align: middle;\n",
       "    }\n",
       "\n",
       "    .dataframe tbody tr th {\n",
       "        vertical-align: top;\n",
       "    }\n",
       "\n",
       "    .dataframe thead th {\n",
       "        text-align: right;\n",
       "    }\n",
       "</style>\n",
       "<table border=\"1\" class=\"dataframe\">\n",
       "  <thead>\n",
       "    <tr style=\"text-align: right;\">\n",
       "      <th></th>\n",
       "      <th>ranking</th>\n",
       "      <th>title</th>\n",
       "      <th>critic_score</th>\n",
       "      <th>number_of_critic_ratings</th>\n",
       "      <th>audience_score</th>\n",
       "      <th>number_of_audience_ratings</th>\n",
       "      <th>review_url</th>\n",
       "      <th>review_text</th>\n",
       "      <th>poster_url</th>\n",
       "    </tr>\n",
       "  </thead>\n",
       "  <tbody>\n",
       "    <tr>\n",
       "      <th>0</th>\n",
       "      <td>1</td>\n",
       "      <td>The Wizard of Oz (1939)</td>\n",
       "      <td>99</td>\n",
       "      <td>110</td>\n",
       "      <td>89</td>\n",
       "      <td>874425</td>\n",
       "      <td>http://www.rogerebert.com/reviews/great-movie-...</td>\n",
       "      <td>As a child I simply did not notice whether a m...</td>\n",
       "      <td>https://upload.wikimedia.org/wikipedia/commons...</td>\n",
       "    </tr>\n",
       "    <tr>\n",
       "      <th>1</th>\n",
       "      <td>2</td>\n",
       "      <td>Citizen Kane (1941)</td>\n",
       "      <td>100</td>\n",
       "      <td>75</td>\n",
       "      <td>90</td>\n",
       "      <td>157274</td>\n",
       "      <td>http://www.rogerebert.com/reviews/great-movie-...</td>\n",
       "      <td>“I don't think any word can explain a man's li...</td>\n",
       "      <td>https://upload.wikimedia.org/wikipedia/en/c/ce...</td>\n",
       "    </tr>\n",
       "    <tr>\n",
       "      <th>2</th>\n",
       "      <td>3</td>\n",
       "      <td>The Third Man (1949)</td>\n",
       "      <td>100</td>\n",
       "      <td>77</td>\n",
       "      <td>93</td>\n",
       "      <td>53081</td>\n",
       "      <td>http://www.rogerebert.com/reviews/great-movie-...</td>\n",
       "      <td>Has there ever been a film where the music mor...</td>\n",
       "      <td>https://upload.wikimedia.org/wikipedia/en/2/21...</td>\n",
       "    </tr>\n",
       "    <tr>\n",
       "      <th>3</th>\n",
       "      <td>4</td>\n",
       "      <td>Get Out (2017)</td>\n",
       "      <td>99</td>\n",
       "      <td>282</td>\n",
       "      <td>87</td>\n",
       "      <td>63837</td>\n",
       "      <td>http://www.rogerebert.com/reviews/get-out-2017</td>\n",
       "      <td>With the ambitious and challenging “Get Out,” ...</td>\n",
       "      <td>https://upload.wikimedia.org/wikipedia/en/e/eb...</td>\n",
       "    </tr>\n",
       "    <tr>\n",
       "      <th>4</th>\n",
       "      <td>5</td>\n",
       "      <td>Mad Max: Fury Road (2015)</td>\n",
       "      <td>97</td>\n",
       "      <td>370</td>\n",
       "      <td>86</td>\n",
       "      <td>123937</td>\n",
       "      <td>http://www.rogerebert.com/reviews/mad-max-fury...</td>\n",
       "      <td>George Miller’s “Mad Max” films didn’t just ma...</td>\n",
       "      <td>https://upload.wikimedia.org/wikipedia/en/6/6e...</td>\n",
       "    </tr>\n",
       "  </tbody>\n",
       "</table>\n",
       "</div>"
      ],
      "text/plain": [
       "   ranking                      title  critic_score  number_of_critic_ratings  \\\n",
       "0        1    The Wizard of Oz (1939)            99                       110   \n",
       "1        2        Citizen Kane (1941)           100                        75   \n",
       "2        3       The Third Man (1949)           100                        77   \n",
       "3        4             Get Out (2017)            99                       282   \n",
       "4        5  Mad Max: Fury Road (2015)            97                       370   \n",
       "\n",
       "   audience_score  number_of_audience_ratings  \\\n",
       "0              89                      874425   \n",
       "1              90                      157274   \n",
       "2              93                       53081   \n",
       "3              87                       63837   \n",
       "4              86                      123937   \n",
       "\n",
       "                                          review_url  \\\n",
       "0  http://www.rogerebert.com/reviews/great-movie-...   \n",
       "1  http://www.rogerebert.com/reviews/great-movie-...   \n",
       "2  http://www.rogerebert.com/reviews/great-movie-...   \n",
       "3     http://www.rogerebert.com/reviews/get-out-2017   \n",
       "4  http://www.rogerebert.com/reviews/mad-max-fury...   \n",
       "\n",
       "                                         review_text  \\\n",
       "0  As a child I simply did not notice whether a m...   \n",
       "1  “I don't think any word can explain a man's li...   \n",
       "2  Has there ever been a film where the music mor...   \n",
       "3  With the ambitious and challenging “Get Out,” ...   \n",
       "4  George Miller’s “Mad Max” films didn’t just ma...   \n",
       "\n",
       "                                          poster_url  \n",
       "0  https://upload.wikimedia.org/wikipedia/commons...  \n",
       "1  https://upload.wikimedia.org/wikipedia/en/c/ce...  \n",
       "2  https://upload.wikimedia.org/wikipedia/en/2/21...  \n",
       "3  https://upload.wikimedia.org/wikipedia/en/e/eb...  \n",
       "4  https://upload.wikimedia.org/wikipedia/en/6/6e...  "
      ]
     },
     "execution_count": 45,
     "metadata": {},
     "output_type": "execute_result"
    }
   ],
   "source": [
    "df = pd.read_csv('support-files/02_Gathering-Data/bestofrt_master.csv')\n",
    "df.head()"
   ]
  },
  {
   "cell_type": "markdown",
   "id": "e736af6d",
   "metadata": {},
   "source": [
    "### 1. Connect to a database"
   ]
  },
  {
   "cell_type": "code",
   "execution_count": 46,
   "id": "4c08a989",
   "metadata": {},
   "outputs": [],
   "source": [
    "from sqlalchemy import create_engine"
   ]
  },
  {
   "cell_type": "code",
   "execution_count": 47,
   "id": "b6c6f8d9",
   "metadata": {},
   "outputs": [],
   "source": [
    "# Create SQLAlchemy Engine and empty bestofrt database\n",
    "# bestofrt.db will not show up in the Jupyter Notebook dashboard yet\n",
    "engine = create_engine('sqlite:///support-files/02_Gathering-Data/bestofrt.db')"
   ]
  },
  {
   "cell_type": "markdown",
   "id": "8de3f33e",
   "metadata": {},
   "source": [
    "### 2. Store pandas DataFrame in database\n",
    "Store the data in the cleaned master dataset (bestofrt_master) in that database."
   ]
  },
  {
   "cell_type": "code",
   "execution_count": 48,
   "id": "c96459b9",
   "metadata": {},
   "outputs": [
    {
     "data": {
      "text/plain": [
       "89"
      ]
     },
     "execution_count": 48,
     "metadata": {},
     "output_type": "execute_result"
    }
   ],
   "source": [
    "# Store cleaned master DataFrame ('df') in a table called master in bestofrt.db\n",
    "# bestofrt.db will be visible now in the Jupyter Notebook dashboard\n",
    "df.to_sql('master', engine, index=False)"
   ]
  },
  {
   "cell_type": "markdown",
   "id": "b55ec6fe",
   "metadata": {},
   "source": [
    "### 3. Read database data into a pandas DataFrame\n",
    "Read the brand new data in that database back into a pandas DataFrame."
   ]
  },
  {
   "cell_type": "code",
   "execution_count": 49,
   "id": "3f6d027f",
   "metadata": {},
   "outputs": [],
   "source": [
    "df_gather = pd.read_sql('SELECT * FROM master', engine)"
   ]
  },
  {
   "cell_type": "code",
   "execution_count": 50,
   "id": "f4d27df5",
   "metadata": {},
   "outputs": [
    {
     "data": {
      "text/html": [
       "<div>\n",
       "<style scoped>\n",
       "    .dataframe tbody tr th:only-of-type {\n",
       "        vertical-align: middle;\n",
       "    }\n",
       "\n",
       "    .dataframe tbody tr th {\n",
       "        vertical-align: top;\n",
       "    }\n",
       "\n",
       "    .dataframe thead th {\n",
       "        text-align: right;\n",
       "    }\n",
       "</style>\n",
       "<table border=\"1\" class=\"dataframe\">\n",
       "  <thead>\n",
       "    <tr style=\"text-align: right;\">\n",
       "      <th></th>\n",
       "      <th>ranking</th>\n",
       "      <th>title</th>\n",
       "      <th>critic_score</th>\n",
       "      <th>number_of_critic_ratings</th>\n",
       "      <th>audience_score</th>\n",
       "      <th>number_of_audience_ratings</th>\n",
       "      <th>review_url</th>\n",
       "      <th>review_text</th>\n",
       "      <th>poster_url</th>\n",
       "    </tr>\n",
       "  </thead>\n",
       "  <tbody>\n",
       "    <tr>\n",
       "      <th>0</th>\n",
       "      <td>1</td>\n",
       "      <td>The Wizard of Oz (1939)</td>\n",
       "      <td>99</td>\n",
       "      <td>110</td>\n",
       "      <td>89</td>\n",
       "      <td>874425</td>\n",
       "      <td>http://www.rogerebert.com/reviews/great-movie-...</td>\n",
       "      <td>As a child I simply did not notice whether a m...</td>\n",
       "      <td>https://upload.wikimedia.org/wikipedia/commons...</td>\n",
       "    </tr>\n",
       "    <tr>\n",
       "      <th>1</th>\n",
       "      <td>2</td>\n",
       "      <td>Citizen Kane (1941)</td>\n",
       "      <td>100</td>\n",
       "      <td>75</td>\n",
       "      <td>90</td>\n",
       "      <td>157274</td>\n",
       "      <td>http://www.rogerebert.com/reviews/great-movie-...</td>\n",
       "      <td>“I don't think any word can explain a man's li...</td>\n",
       "      <td>https://upload.wikimedia.org/wikipedia/en/c/ce...</td>\n",
       "    </tr>\n",
       "    <tr>\n",
       "      <th>2</th>\n",
       "      <td>3</td>\n",
       "      <td>The Third Man (1949)</td>\n",
       "      <td>100</td>\n",
       "      <td>77</td>\n",
       "      <td>93</td>\n",
       "      <td>53081</td>\n",
       "      <td>http://www.rogerebert.com/reviews/great-movie-...</td>\n",
       "      <td>Has there ever been a film where the music mor...</td>\n",
       "      <td>https://upload.wikimedia.org/wikipedia/en/2/21...</td>\n",
       "    </tr>\n",
       "    <tr>\n",
       "      <th>3</th>\n",
       "      <td>4</td>\n",
       "      <td>Get Out (2017)</td>\n",
       "      <td>99</td>\n",
       "      <td>282</td>\n",
       "      <td>87</td>\n",
       "      <td>63837</td>\n",
       "      <td>http://www.rogerebert.com/reviews/get-out-2017</td>\n",
       "      <td>With the ambitious and challenging “Get Out,” ...</td>\n",
       "      <td>https://upload.wikimedia.org/wikipedia/en/e/eb...</td>\n",
       "    </tr>\n",
       "    <tr>\n",
       "      <th>4</th>\n",
       "      <td>5</td>\n",
       "      <td>Mad Max: Fury Road (2015)</td>\n",
       "      <td>97</td>\n",
       "      <td>370</td>\n",
       "      <td>86</td>\n",
       "      <td>123937</td>\n",
       "      <td>http://www.rogerebert.com/reviews/mad-max-fury...</td>\n",
       "      <td>George Miller’s “Mad Max” films didn’t just ma...</td>\n",
       "      <td>https://upload.wikimedia.org/wikipedia/en/6/6e...</td>\n",
       "    </tr>\n",
       "  </tbody>\n",
       "</table>\n",
       "</div>"
      ],
      "text/plain": [
       "   ranking                      title  critic_score  number_of_critic_ratings  \\\n",
       "0        1    The Wizard of Oz (1939)            99                       110   \n",
       "1        2        Citizen Kane (1941)           100                        75   \n",
       "2        3       The Third Man (1949)           100                        77   \n",
       "3        4             Get Out (2017)            99                       282   \n",
       "4        5  Mad Max: Fury Road (2015)            97                       370   \n",
       "\n",
       "   audience_score  number_of_audience_ratings  \\\n",
       "0              89                      874425   \n",
       "1              90                      157274   \n",
       "2              93                       53081   \n",
       "3              87                       63837   \n",
       "4              86                      123937   \n",
       "\n",
       "                                          review_url  \\\n",
       "0  http://www.rogerebert.com/reviews/great-movie-...   \n",
       "1  http://www.rogerebert.com/reviews/great-movie-...   \n",
       "2  http://www.rogerebert.com/reviews/great-movie-...   \n",
       "3     http://www.rogerebert.com/reviews/get-out-2017   \n",
       "4  http://www.rogerebert.com/reviews/mad-max-fury...   \n",
       "\n",
       "                                         review_text  \\\n",
       "0  As a child I simply did not notice whether a m...   \n",
       "1  “I don't think any word can explain a man's li...   \n",
       "2  Has there ever been a film where the music mor...   \n",
       "3  With the ambitious and challenging “Get Out,” ...   \n",
       "4  George Miller’s “Mad Max” films didn’t just ma...   \n",
       "\n",
       "                                          poster_url  \n",
       "0  https://upload.wikimedia.org/wikipedia/commons...  \n",
       "1  https://upload.wikimedia.org/wikipedia/en/c/ce...  \n",
       "2  https://upload.wikimedia.org/wikipedia/en/2/21...  \n",
       "3  https://upload.wikimedia.org/wikipedia/en/e/eb...  \n",
       "4  https://upload.wikimedia.org/wikipedia/en/6/6e...  "
      ]
     },
     "execution_count": 50,
     "metadata": {},
     "output_type": "execute_result"
    }
   ],
   "source": [
    "df_gather.head()"
   ]
  },
  {
   "cell_type": "markdown",
   "id": "68791d9b",
   "metadata": {},
   "source": [
    "### Data Wrangling in SQL?\n",
    "Data wrangling can actually be performed in SQL. We believe that pandas is better equipped for gathering (pandas has a huge simplicity advantage in this area), assessing, and cleaning data, so we usually recommend that you use pandas if given the choice. If wrangling in a work setting, sometimes your tool of choice for data wrangling depends on your company infrastructure, though.\n",
    "\n",
    "Here is an interesting [Reddit thread that debates pandas vs. SQL](https://www.reddit.com/r/Python/comments/1tqjt4/why_do_you_use_pandas_instead_of_sql/) in general and touches on several topics related to data wrangling.\n",
    "\n",
    "### Summary\n",
    "Gathering is the first step in the data wrangling process:\n",
    "\n",
    "1. **Gather**\n",
    "2. Assess\n",
    "3. Clean\n",
    "\n",
    "Depending on the source of your data, and what format it's in, the steps in gathering data vary.\n",
    "\n",
    "The high-level gathering process:\n",
    "\n",
    "- Obtaining data (downloading a file from the internet, scraping a web page, querying an API, etc.)\n",
    "- Importing that data into your programming environment (e.g. Jupyter Notebook)"
   ]
  }
 ],
 "metadata": {
  "kernelspec": {
   "display_name": "Python [conda env:dand] *",
   "language": "python",
   "name": "conda-env-dand-py"
  },
  "language_info": {
   "codemirror_mode": {
    "name": "ipython",
    "version": 3
   },
   "file_extension": ".py",
   "mimetype": "text/x-python",
   "name": "python",
   "nbconvert_exporter": "python",
   "pygments_lexer": "ipython3",
   "version": "3.8.12"
  }
 },
 "nbformat": 4,
 "nbformat_minor": 5
}
