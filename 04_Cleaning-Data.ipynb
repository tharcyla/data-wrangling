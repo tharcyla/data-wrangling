{
 "cells": [
  {
   "cell_type": "markdown",
   "id": "445fcb16",
   "metadata": {},
   "source": [
    "# Cleaning Data\n",
    "The best way to clean data is to code it yourself.\n",
    "\n",
    "The same Phase II clinical trial dataset for a new oral insulin called Auralin in Lesson 3 (Assessing Data) is used here again in Lesson 4 (Cleaning Data).\n",
    "\n",
    "---\n",
    "\n",
    "## Manual vs. Programmatic Cleaning\n",
    "**Manual Data Cleaning** includes:\n",
    "\n",
    "- Retyping incorrect data\n",
    "- Copying and pasting columns and rows\n",
    "\n",
    "However, manual cleaning is inefficient, error-prone, and demoralizing. So never clean manually.\n",
    "\n",
    "**Programmatic Data Cleaning** uses code to:\n",
    "\n",
    "- Automate cleaning tasks\n",
    "- Minimize repetition\n",
    "- Save time\n",
    "\n",
    "Data wrangling takes a tremendous amount of time for the data professional, so doing anything that saves time is great.\n",
    "\n",
    "---\n",
    "\n",
    "## Data Cleaning Process\n",
    "Programmatic data cleaning is a separate process within data wrangling. It has three steps:\n",
    "\n",
    "1. **Define:** the first step is to define a data cleaning plan in writing by converting your assessments into cleaning tasks by writing little how-to guides. This plan also serves as documentation so that your work can be reproduced.\n",
    "2. **Code:** second, you'll translate these words to code and actually run it.\n",
    "3. **Test:** finally, you'll test your dataset often using code to make sure your cleaning code worked. This is like a revisiting the assess step.\n",
    "\n",
    "> Remember that before any cleaning occurs, it's good practice to make a copy of each piece of data. This can be done using the `copy`[method](https://pandas.pydata.org/pandas-docs/stable/generated/pandas.DataFrame.copy.html).\n",
    "\n",
    "---\n",
    "\n",
    "## Cleaning Sequences\n",
    "There are multiple ways of sequencing the steps in the data cleaning process. For instance:\n",
    "\n",
    "### Gather"
   ]
  },
  {
   "cell_type": "code",
   "execution_count": 1,
   "id": "a878ed29",
   "metadata": {},
   "outputs": [],
   "source": [
    "import pandas as pd\n",
    "import numpy as np"
   ]
  },
  {
   "cell_type": "code",
   "execution_count": 2,
   "id": "9c0ac082",
   "metadata": {},
   "outputs": [],
   "source": [
    "animals = pd.read_csv('support-files/04_Cleaning-Data/animals.csv')"
   ]
  },
  {
   "cell_type": "markdown",
   "id": "88ee01d5",
   "metadata": {},
   "source": [
    "### Assess"
   ]
  },
  {
   "cell_type": "code",
   "execution_count": 3,
   "id": "2fdf9874",
   "metadata": {},
   "outputs": [
    {
     "data": {
      "text/html": [
       "<div>\n",
       "<style scoped>\n",
       "    .dataframe tbody tr th:only-of-type {\n",
       "        vertical-align: middle;\n",
       "    }\n",
       "\n",
       "    .dataframe tbody tr th {\n",
       "        vertical-align: top;\n",
       "    }\n",
       "\n",
       "    .dataframe thead th {\n",
       "        text-align: right;\n",
       "    }\n",
       "</style>\n",
       "<table border=\"1\" class=\"dataframe\">\n",
       "  <thead>\n",
       "    <tr style=\"text-align: right;\">\n",
       "      <th></th>\n",
       "      <th>Animal</th>\n",
       "      <th>Body weight (kg)</th>\n",
       "      <th>Brain weight (g)</th>\n",
       "    </tr>\n",
       "  </thead>\n",
       "  <tbody>\n",
       "    <tr>\n",
       "      <th>0</th>\n",
       "      <td>bbMountain beaver</td>\n",
       "      <td>1!35</td>\n",
       "      <td>8!1</td>\n",
       "    </tr>\n",
       "    <tr>\n",
       "      <th>1</th>\n",
       "      <td>bbCow</td>\n",
       "      <td>465</td>\n",
       "      <td>423</td>\n",
       "    </tr>\n",
       "    <tr>\n",
       "      <th>2</th>\n",
       "      <td>bbGrey wolf</td>\n",
       "      <td>36!33</td>\n",
       "      <td>119!5</td>\n",
       "    </tr>\n",
       "    <tr>\n",
       "      <th>3</th>\n",
       "      <td>bbGoat</td>\n",
       "      <td>27!66</td>\n",
       "      <td>115</td>\n",
       "    </tr>\n",
       "    <tr>\n",
       "      <th>4</th>\n",
       "      <td>bbGuinea pig</td>\n",
       "      <td>1!04</td>\n",
       "      <td>5!5</td>\n",
       "    </tr>\n",
       "  </tbody>\n",
       "</table>\n",
       "</div>"
      ],
      "text/plain": [
       "              Animal Body weight (kg) Brain weight (g)\n",
       "0  bbMountain beaver             1!35              8!1\n",
       "1              bbCow              465              423\n",
       "2        bbGrey wolf            36!33            119!5\n",
       "3             bbGoat            27!66              115\n",
       "4       bbGuinea pig             1!04              5!5"
      ]
     },
     "execution_count": 3,
     "metadata": {},
     "output_type": "execute_result"
    }
   ],
   "source": [
    "animals.head()"
   ]
  },
  {
   "cell_type": "markdown",
   "id": "a105dca0",
   "metadata": {},
   "source": [
    "#### Quality\n",
    "- bb before every animal name\n",
    "- ! instead of . for decimal in body weight and brain weight\n",
    "\n",
    "### Clean"
   ]
  },
  {
   "cell_type": "code",
   "execution_count": 4,
   "id": "01a89231",
   "metadata": {},
   "outputs": [],
   "source": [
    "animals_cleaned = animals.copy()"
   ]
  },
  {
   "cell_type": "markdown",
   "id": "12c5b6b8",
   "metadata": {},
   "source": [
    "#### Define\n",
    "- Remove 'bb' before every animal name using string slicing\n",
    "- Replace ! with . in body weight and brain weight columns\n",
    "\n",
    "#### Code"
   ]
  },
  {
   "cell_type": "code",
   "execution_count": 5,
   "id": "07bbafee",
   "metadata": {},
   "outputs": [],
   "source": [
    "# remove 'bb' before every animal name using string slicing\n",
    "animals_cleaned['Animal'] = animals_cleaned['Animal'].str[2:]"
   ]
  },
  {
   "cell_type": "markdown",
   "id": "d6477cf2",
   "metadata": {},
   "source": [
    "Note: `str.replace` [documentation](https://docs.python.org/dev/library/stdtypes.html#str.replace)."
   ]
  },
  {
   "cell_type": "code",
   "execution_count": 6,
   "id": "9950d96f",
   "metadata": {},
   "outputs": [],
   "source": [
    "# replace ! with . in body weight and brain weight columns\n",
    "animals_cleaned['Body weight (kg)'] = animals_cleaned['Body weight (kg)'].str.replace('!', '.')\n",
    "animals_cleaned['Brain weight (g)'] = animals_cleaned['Brain weight (g)'].str.replace('!', '.')"
   ]
  },
  {
   "cell_type": "markdown",
   "id": "a18562a0",
   "metadata": {},
   "source": [
    "#### Test"
   ]
  },
  {
   "cell_type": "code",
   "execution_count": 7,
   "id": "7543b94c",
   "metadata": {},
   "outputs": [
    {
     "data": {
      "text/html": [
       "<div>\n",
       "<style scoped>\n",
       "    .dataframe tbody tr th:only-of-type {\n",
       "        vertical-align: middle;\n",
       "    }\n",
       "\n",
       "    .dataframe tbody tr th {\n",
       "        vertical-align: top;\n",
       "    }\n",
       "\n",
       "    .dataframe thead th {\n",
       "        text-align: right;\n",
       "    }\n",
       "</style>\n",
       "<table border=\"1\" class=\"dataframe\">\n",
       "  <thead>\n",
       "    <tr style=\"text-align: right;\">\n",
       "      <th></th>\n",
       "      <th>Animal</th>\n",
       "      <th>Body weight (kg)</th>\n",
       "      <th>Brain weight (g)</th>\n",
       "    </tr>\n",
       "  </thead>\n",
       "  <tbody>\n",
       "    <tr>\n",
       "      <th>0</th>\n",
       "      <td>Mountain beaver</td>\n",
       "      <td>1.35</td>\n",
       "      <td>8.1</td>\n",
       "    </tr>\n",
       "    <tr>\n",
       "      <th>1</th>\n",
       "      <td>Cow</td>\n",
       "      <td>465</td>\n",
       "      <td>423</td>\n",
       "    </tr>\n",
       "    <tr>\n",
       "      <th>2</th>\n",
       "      <td>Grey wolf</td>\n",
       "      <td>36.33</td>\n",
       "      <td>119.5</td>\n",
       "    </tr>\n",
       "    <tr>\n",
       "      <th>3</th>\n",
       "      <td>Goat</td>\n",
       "      <td>27.66</td>\n",
       "      <td>115</td>\n",
       "    </tr>\n",
       "    <tr>\n",
       "      <th>4</th>\n",
       "      <td>Guinea pig</td>\n",
       "      <td>1.04</td>\n",
       "      <td>5.5</td>\n",
       "    </tr>\n",
       "  </tbody>\n",
       "</table>\n",
       "</div>"
      ],
      "text/plain": [
       "            Animal Body weight (kg) Brain weight (g)\n",
       "0  Mountain beaver             1.35              8.1\n",
       "1              Cow              465              423\n",
       "2        Grey wolf            36.33            119.5\n",
       "3             Goat            27.66              115\n",
       "4       Guinea pig             1.04              5.5"
      ]
     },
     "execution_count": 7,
     "metadata": {},
     "output_type": "execute_result"
    }
   ],
   "source": [
    "animals_cleaned.head()"
   ]
  },
  {
   "cell_type": "markdown",
   "id": "6fa9decd",
   "metadata": {},
   "source": [
    "### Another possible cleaning sequence\n",
    "You can also use multiple **Define**, **Code**, and **Test** headers, one for each data quality and tidiness issue (or group of data quality and tidiness issues). Effectively, you are defining then coding then testing immediately. This sequence is helpful when you have a lot of quality and tidiness issues to clean. Since that is the case in this lesson, this sequence will be used.\n",
    "\n",
    "Pasting each assessment above the **Define** header as its own header can also be helpful."
   ]
  },
  {
   "cell_type": "code",
   "execution_count": 8,
   "id": "6ce91aa0",
   "metadata": {},
   "outputs": [],
   "source": [
    "# reload animals_cleaned\n",
    "animals_cleaned = animals.copy()"
   ]
  },
  {
   "cell_type": "code",
   "execution_count": 9,
   "id": "5bc3c74c",
   "metadata": {},
   "outputs": [
    {
     "data": {
      "text/html": [
       "<div>\n",
       "<style scoped>\n",
       "    .dataframe tbody tr th:only-of-type {\n",
       "        vertical-align: middle;\n",
       "    }\n",
       "\n",
       "    .dataframe tbody tr th {\n",
       "        vertical-align: top;\n",
       "    }\n",
       "\n",
       "    .dataframe thead th {\n",
       "        text-align: right;\n",
       "    }\n",
       "</style>\n",
       "<table border=\"1\" class=\"dataframe\">\n",
       "  <thead>\n",
       "    <tr style=\"text-align: right;\">\n",
       "      <th></th>\n",
       "      <th>Animal</th>\n",
       "      <th>Body weight (kg)</th>\n",
       "      <th>Brain weight (g)</th>\n",
       "    </tr>\n",
       "  </thead>\n",
       "  <tbody>\n",
       "    <tr>\n",
       "      <th>0</th>\n",
       "      <td>bbMountain beaver</td>\n",
       "      <td>1!35</td>\n",
       "      <td>8!1</td>\n",
       "    </tr>\n",
       "  </tbody>\n",
       "</table>\n",
       "</div>"
      ],
      "text/plain": [
       "              Animal Body weight (kg) Brain weight (g)\n",
       "0  bbMountain beaver             1!35              8!1"
      ]
     },
     "execution_count": 9,
     "metadata": {},
     "output_type": "execute_result"
    }
   ],
   "source": [
    "# checking it worked\n",
    "animals_cleaned.head(1)"
   ]
  },
  {
   "cell_type": "markdown",
   "id": "d66ed7b2",
   "metadata": {},
   "source": [
    "### Clean\n",
    "\n",
    "#### Assessment\n",
    "bb before every animal name\n",
    "\n",
    "#### Define\n",
    "Remove 'bb' before every animal name using string slicing.\n",
    "\n",
    "#### Code"
   ]
  },
  {
   "cell_type": "code",
   "execution_count": 10,
   "id": "10142569",
   "metadata": {},
   "outputs": [],
   "source": [
    "animals_cleaned['Animal'] = animals_cleaned['Animal'].str[2:]"
   ]
  },
  {
   "cell_type": "markdown",
   "id": "f56aeac3",
   "metadata": {},
   "source": [
    "#### Test"
   ]
  },
  {
   "cell_type": "code",
   "execution_count": 11,
   "id": "776e1d30",
   "metadata": {},
   "outputs": [
    {
     "data": {
      "text/html": [
       "<div>\n",
       "<style scoped>\n",
       "    .dataframe tbody tr th:only-of-type {\n",
       "        vertical-align: middle;\n",
       "    }\n",
       "\n",
       "    .dataframe tbody tr th {\n",
       "        vertical-align: top;\n",
       "    }\n",
       "\n",
       "    .dataframe thead th {\n",
       "        text-align: right;\n",
       "    }\n",
       "</style>\n",
       "<table border=\"1\" class=\"dataframe\">\n",
       "  <thead>\n",
       "    <tr style=\"text-align: right;\">\n",
       "      <th></th>\n",
       "      <th>Animal</th>\n",
       "      <th>Body weight (kg)</th>\n",
       "      <th>Brain weight (g)</th>\n",
       "    </tr>\n",
       "  </thead>\n",
       "  <tbody>\n",
       "    <tr>\n",
       "      <th>0</th>\n",
       "      <td>Mountain beaver</td>\n",
       "      <td>1!35</td>\n",
       "      <td>8!1</td>\n",
       "    </tr>\n",
       "    <tr>\n",
       "      <th>1</th>\n",
       "      <td>Cow</td>\n",
       "      <td>465</td>\n",
       "      <td>423</td>\n",
       "    </tr>\n",
       "    <tr>\n",
       "      <th>2</th>\n",
       "      <td>Grey wolf</td>\n",
       "      <td>36!33</td>\n",
       "      <td>119!5</td>\n",
       "    </tr>\n",
       "    <tr>\n",
       "      <th>3</th>\n",
       "      <td>Goat</td>\n",
       "      <td>27!66</td>\n",
       "      <td>115</td>\n",
       "    </tr>\n",
       "    <tr>\n",
       "      <th>4</th>\n",
       "      <td>Guinea pig</td>\n",
       "      <td>1!04</td>\n",
       "      <td>5!5</td>\n",
       "    </tr>\n",
       "  </tbody>\n",
       "</table>\n",
       "</div>"
      ],
      "text/plain": [
       "            Animal Body weight (kg) Brain weight (g)\n",
       "0  Mountain beaver             1!35              8!1\n",
       "1              Cow              465              423\n",
       "2        Grey wolf            36!33            119!5\n",
       "3             Goat            27!66              115\n",
       "4       Guinea pig             1!04              5!5"
      ]
     },
     "execution_count": 11,
     "metadata": {},
     "output_type": "execute_result"
    }
   ],
   "source": [
    "animals_cleaned.head()"
   ]
  },
  {
   "cell_type": "markdown",
   "id": "7f674d51",
   "metadata": {},
   "source": [
    "#### Assessment\n",
    "! instead of . for decimal in body weight and brain weight\n",
    "\n",
    "#### Define\n",
    "Replace ! with . in body weight and brain weight columns\n",
    "\n",
    "#### Code"
   ]
  },
  {
   "cell_type": "code",
   "execution_count": 12,
   "id": "38735b95",
   "metadata": {},
   "outputs": [],
   "source": [
    "animals_cleaned['Body weight (kg)'] = animals_cleaned['Body weight (kg)'].str.replace('!', '.')\n",
    "animals_cleaned['Brain weight (g)'] = animals_cleaned['Brain weight (g)'].str.replace('!', '.')"
   ]
  },
  {
   "cell_type": "markdown",
   "id": "b36dd3c3",
   "metadata": {},
   "source": [
    "#### Test"
   ]
  },
  {
   "cell_type": "code",
   "execution_count": 13,
   "id": "fd728107",
   "metadata": {},
   "outputs": [
    {
     "data": {
      "text/html": [
       "<div>\n",
       "<style scoped>\n",
       "    .dataframe tbody tr th:only-of-type {\n",
       "        vertical-align: middle;\n",
       "    }\n",
       "\n",
       "    .dataframe tbody tr th {\n",
       "        vertical-align: top;\n",
       "    }\n",
       "\n",
       "    .dataframe thead th {\n",
       "        text-align: right;\n",
       "    }\n",
       "</style>\n",
       "<table border=\"1\" class=\"dataframe\">\n",
       "  <thead>\n",
       "    <tr style=\"text-align: right;\">\n",
       "      <th></th>\n",
       "      <th>Animal</th>\n",
       "      <th>Body weight (kg)</th>\n",
       "      <th>Brain weight (g)</th>\n",
       "    </tr>\n",
       "  </thead>\n",
       "  <tbody>\n",
       "    <tr>\n",
       "      <th>0</th>\n",
       "      <td>Mountain beaver</td>\n",
       "      <td>1.35</td>\n",
       "      <td>8.1</td>\n",
       "    </tr>\n",
       "    <tr>\n",
       "      <th>1</th>\n",
       "      <td>Cow</td>\n",
       "      <td>465</td>\n",
       "      <td>423</td>\n",
       "    </tr>\n",
       "    <tr>\n",
       "      <th>2</th>\n",
       "      <td>Grey wolf</td>\n",
       "      <td>36.33</td>\n",
       "      <td>119.5</td>\n",
       "    </tr>\n",
       "    <tr>\n",
       "      <th>3</th>\n",
       "      <td>Goat</td>\n",
       "      <td>27.66</td>\n",
       "      <td>115</td>\n",
       "    </tr>\n",
       "    <tr>\n",
       "      <th>4</th>\n",
       "      <td>Guinea pig</td>\n",
       "      <td>1.04</td>\n",
       "      <td>5.5</td>\n",
       "    </tr>\n",
       "  </tbody>\n",
       "</table>\n",
       "</div>"
      ],
      "text/plain": [
       "            Animal Body weight (kg) Brain weight (g)\n",
       "0  Mountain beaver             1.35              8.1\n",
       "1              Cow              465              423\n",
       "2        Grey wolf            36.33            119.5\n",
       "3             Goat            27.66              115\n",
       "4       Guinea pig             1.04              5.5"
      ]
     },
     "execution_count": 13,
     "metadata": {},
     "output_type": "execute_result"
    }
   ],
   "source": [
    "animals_cleaned.head()"
   ]
  },
  {
   "cell_type": "markdown",
   "id": "a5405245",
   "metadata": {},
   "source": [
    "## Cleaning: Phase II Clinical Trial for Auralin\n",
    "\n",
    "### Assessments (copied from the previous lesson to avoid having two notebooks open):\n",
    "\n",
    "### Quality\n",
    "##### `patients` table: \n",
    "- Zip code is a float not a [string](https://stackoverflow.com/questions/893454/is-it-a-good-idea-to-use-an-integer-column-for-storing-us-zip-codes-in-a-databas) (validity issue)\n",
    "- Zip code has four digits sometimes (probably the spreadsheet software recognized the zip code column as a number and supressed the 0 if the zip code started with a 0) (accuracy issue). \n",
    "- Tim Neudorf height is 27 inches instead of 72 inches (accuracy issue)\n",
    "- Full state names sometimes, abbreviations other times (consistency issue)\n",
    "- Dsvid Gustafsson (name typo, patient_id: 9) (accuracy issue)\n",
    "- Missing demographic information (address through contact columns)\n",
    "- Erroneus datatypes (`assigned_sex`, `state`, `zip_code`, and `birthdate` columns)\n",
    "- Multiple phone number formats (`contact` column)\n",
    "- Default John Doe data\n",
    "- Multiple records for Jakobsen, Gersten, Taylor\n",
    "- Kgs instead of lbs for patient surname Zaitseva weight (patient_id: 211)\n",
    "- Nulls represented as dashes (-) in auralin and novodra columns\n",
    "\n",
    "##### `treatments` table:\n",
    "- Missing HbA1c changes (completeness issue)\n",
    "- The letter 'u' in starting and ending doses for Auralin and Novodra (validity issue)\n",
    "- Lowercase given names and surnames (since the patients table has the name in uppercase, this will be an issue if you decide to join tables) (consistency issue)\n",
    "- Missing records (280 instead of 350) (completeness issue)\n",
    "- Erroneus datatypes (`auralin` and `novodra` columns)\n",
    "- Inaccurate HbA1c changes \n",
    "\n",
    "##### `adverse_reactions` table:\n",
    "- Lowercase given names and surnames (consistency issue)\n",
    "\n",
    "### Tidiness\n",
    "##### `patients` table: \n",
    "- `contact` column should be split into `phone number` and `email`\n",
    "\n",
    "##### `treatments` table:\n",
    "- Three variables in two columns in `treatments` table (`treatment`, i.e., auralin or novadra, `start_dose`, and `end_dose`).\n",
    "- Include the `adverse_reaction` column from the `adverse_reactions` table\n",
    "- Include `patient_id` column from the `patients` table to serve as primary key and facilitate joining the remaining two tables (`treatments` and `patients`) afterwards\n",
    "\n",
    "##### `adverse_reactions` table:\n",
    "- After adding the `adverse_reaction` column to the `treatment` table, drop column. \n",
    "\n",
    "---"
   ]
  },
  {
   "cell_type": "code",
   "execution_count": 14,
   "id": "8a2920a6",
   "metadata": {},
   "outputs": [],
   "source": [
    "patients = pd.read_csv('support-files/04_Cleaning-Data/patients.csv')\n",
    "treatments = pd.read_csv('support-files/04_Cleaning-Data/treatments.csv')\n",
    "adverse_reactions = pd.read_csv('support-files/04_Cleaning-Data/adverse_reactions.csv')"
   ]
  },
  {
   "cell_type": "markdown",
   "id": "3ae5dcf5",
   "metadata": {},
   "source": [
    "### Remember to make a copy of the original DataFrames!"
   ]
  },
  {
   "cell_type": "code",
   "execution_count": 15,
   "id": "0c332ca3",
   "metadata": {},
   "outputs": [],
   "source": [
    "patients_clean = patients.copy()\n",
    "treatments_clean = treatments.copy()\n",
    "adverse_reactions_clean = adverse_reactions.copy()"
   ]
  },
  {
   "cell_type": "markdown",
   "id": "8698acd0",
   "metadata": {},
   "source": [
    "### Address Missing Data First\n",
    "\n",
    "When checking data quality, it is usually best to deal with **completeness issues first**. For missing data this means:\n",
    "\n",
    "- Concatenate\n",
    "- Join\n",
    "- Impute, if possible\n",
    "\n",
    "It's important to do this upfront so that subsequent data cleaning will not have to be repeated.\n",
    "\n",
    "Going through the assessments above, there are three (3) completeness issues:\n",
    "\n",
    "**`treatments` table:**\n",
    "\n",
    "- Missing HbA1c changes\n",
    "- Missing records (280 instead of 350)\n",
    "\n",
    "**`patients` table:**\n",
    "-  Missing demographic information (address - contact columns)\n",
    "\n",
    "Unfortunately, we can't do anything about the missing demographic information because we have no way of accessing that information until those patients come back. But let's deal with the other missing data issues now.\n",
    "\n",
    "### Clean\n",
    "\n",
    "#### 1. Missing Data\n",
    "\n",
    "#### `treatments`: Missing records (280 instead of 350)\n",
    "\n",
    "##### 1.1. Define: \n",
    "\n",
    "First, import the cut treatments into a DataFrame. Then, use `pd.concat` ([documentation](https://pandas.pydata.org/pandas-docs/stable/reference/api/pandas.concat.html)) to join the 70 missing records to the `treatments` table. \n",
    "\n",
    "##### Code:"
   ]
  },
  {
   "cell_type": "code",
   "execution_count": 16,
   "id": "9077514f",
   "metadata": {},
   "outputs": [],
   "source": [
    "# load the missing entries from the treatments table\n",
    "treatment_cut = pd.read_csv('support-files/04_Cleaning-Data/treatments_cut.csv')"
   ]
  },
  {
   "cell_type": "markdown",
   "id": "8d319375",
   "metadata": {},
   "source": [
    "##### Test:"
   ]
  },
  {
   "cell_type": "code",
   "execution_count": 17,
   "id": "a6350cdc",
   "metadata": {},
   "outputs": [
    {
     "name": "stdout",
     "output_type": "stream",
     "text": [
      "<class 'pandas.core.frame.DataFrame'>\n",
      "RangeIndex: 70 entries, 0 to 69\n",
      "Data columns (total 7 columns):\n",
      " #   Column        Non-Null Count  Dtype  \n",
      "---  ------        --------------  -----  \n",
      " 0   given_name    70 non-null     object \n",
      " 1   surname       70 non-null     object \n",
      " 2   auralin       70 non-null     object \n",
      " 3   novodra       70 non-null     object \n",
      " 4   hba1c_start   70 non-null     float64\n",
      " 5   hba1c_end     70 non-null     float64\n",
      " 6   hba1c_change  42 non-null     float64\n",
      "dtypes: float64(3), object(4)\n",
      "memory usage: 4.0+ KB\n"
     ]
    }
   ],
   "source": [
    "# check to see if it worked\n",
    "treatment_cut.info() # the 70 missing entries"
   ]
  },
  {
   "cell_type": "code",
   "execution_count": 18,
   "id": "e6a1dc51",
   "metadata": {},
   "outputs": [
    {
     "name": "stdout",
     "output_type": "stream",
     "text": [
      "<class 'pandas.core.frame.DataFrame'>\n",
      "RangeIndex: 280 entries, 0 to 279\n",
      "Data columns (total 7 columns):\n",
      " #   Column        Non-Null Count  Dtype  \n",
      "---  ------        --------------  -----  \n",
      " 0   given_name    280 non-null    object \n",
      " 1   surname       280 non-null    object \n",
      " 2   auralin       280 non-null    object \n",
      " 3   novodra       280 non-null    object \n",
      " 4   hba1c_start   280 non-null    float64\n",
      " 5   hba1c_end     280 non-null    float64\n",
      " 6   hba1c_change  171 non-null    float64\n",
      "dtypes: float64(3), object(4)\n",
      "memory usage: 15.4+ KB\n"
     ]
    }
   ],
   "source": [
    "# confirm that our current treatment dataframe is missing those 70 entries\n",
    "treatments_clean.info()"
   ]
  },
  {
   "cell_type": "markdown",
   "id": "b37a87e0",
   "metadata": {},
   "source": [
    "##### Code:"
   ]
  },
  {
   "cell_type": "code",
   "execution_count": 19,
   "id": "840c17f3",
   "metadata": {},
   "outputs": [],
   "source": [
    "# use pd.concat to join both dataframes\n",
    "treatments_clean = pd.concat([treatments_clean, treatment_cut], ignore_index=True)"
   ]
  },
  {
   "cell_type": "markdown",
   "id": "6ec2d903",
   "metadata": {},
   "source": [
    "##### Test:"
   ]
  },
  {
   "cell_type": "code",
   "execution_count": 20,
   "id": "3f937e0a",
   "metadata": {},
   "outputs": [
    {
     "name": "stdout",
     "output_type": "stream",
     "text": [
      "<class 'pandas.core.frame.DataFrame'>\n",
      "RangeIndex: 350 entries, 0 to 349\n",
      "Data columns (total 7 columns):\n",
      " #   Column        Non-Null Count  Dtype  \n",
      "---  ------        --------------  -----  \n",
      " 0   given_name    350 non-null    object \n",
      " 1   surname       350 non-null    object \n",
      " 2   auralin       350 non-null    object \n",
      " 3   novodra       350 non-null    object \n",
      " 4   hba1c_start   350 non-null    float64\n",
      " 5   hba1c_end     350 non-null    float64\n",
      " 6   hba1c_change  213 non-null    float64\n",
      "dtypes: float64(3), object(4)\n",
      "memory usage: 19.3+ KB\n"
     ]
    }
   ],
   "source": [
    "# check to see if it worked\n",
    "treatments_clean.info()"
   ]
  },
  {
   "cell_type": "markdown",
   "id": "d5e900f3",
   "metadata": {},
   "source": [
    "---\n",
    "#### `treatments`: Missing HbA1c changes and inaccurate HbA1c changes (leading 4s mistaken as 9s)\n",
    "\n",
    "##### 1.2. Define:\n",
    "Subtract the column `hba1c_start` from the column `hba1c_end` to get the missing `hba1c_change` entries. \n",
    "\n",
    "Note: once you perform the subtraction on the whole column, the inaccurate HbA1c changes will also be correted. Two birds, one stone. \n",
    "\n",
    "##### Code:"
   ]
  },
  {
   "cell_type": "code",
   "execution_count": 21,
   "id": "fc407a65",
   "metadata": {},
   "outputs": [
    {
     "data": {
      "text/html": [
       "<div>\n",
       "<style scoped>\n",
       "    .dataframe tbody tr th:only-of-type {\n",
       "        vertical-align: middle;\n",
       "    }\n",
       "\n",
       "    .dataframe tbody tr th {\n",
       "        vertical-align: top;\n",
       "    }\n",
       "\n",
       "    .dataframe thead th {\n",
       "        text-align: right;\n",
       "    }\n",
       "</style>\n",
       "<table border=\"1\" class=\"dataframe\">\n",
       "  <thead>\n",
       "    <tr style=\"text-align: right;\">\n",
       "      <th></th>\n",
       "      <th>given_name</th>\n",
       "      <th>surname</th>\n",
       "      <th>auralin</th>\n",
       "      <th>novodra</th>\n",
       "      <th>hba1c_start</th>\n",
       "      <th>hba1c_end</th>\n",
       "      <th>hba1c_change</th>\n",
       "    </tr>\n",
       "  </thead>\n",
       "  <tbody>\n",
       "    <tr>\n",
       "      <th>0</th>\n",
       "      <td>veronika</td>\n",
       "      <td>jindrová</td>\n",
       "      <td>41u - 48u</td>\n",
       "      <td>-</td>\n",
       "      <td>7.63</td>\n",
       "      <td>7.20</td>\n",
       "      <td>NaN</td>\n",
       "    </tr>\n",
       "    <tr>\n",
       "      <th>1</th>\n",
       "      <td>elliot</td>\n",
       "      <td>richardson</td>\n",
       "      <td>-</td>\n",
       "      <td>40u - 45u</td>\n",
       "      <td>7.56</td>\n",
       "      <td>7.09</td>\n",
       "      <td>0.97</td>\n",
       "    </tr>\n",
       "    <tr>\n",
       "      <th>2</th>\n",
       "      <td>yukitaka</td>\n",
       "      <td>takenaka</td>\n",
       "      <td>-</td>\n",
       "      <td>39u - 36u</td>\n",
       "      <td>7.68</td>\n",
       "      <td>7.25</td>\n",
       "      <td>NaN</td>\n",
       "    </tr>\n",
       "    <tr>\n",
       "      <th>3</th>\n",
       "      <td>skye</td>\n",
       "      <td>gormanston</td>\n",
       "      <td>33u - 36u</td>\n",
       "      <td>-</td>\n",
       "      <td>7.97</td>\n",
       "      <td>7.62</td>\n",
       "      <td>0.35</td>\n",
       "    </tr>\n",
       "    <tr>\n",
       "      <th>4</th>\n",
       "      <td>alissa</td>\n",
       "      <td>montez</td>\n",
       "      <td>-</td>\n",
       "      <td>33u - 29u</td>\n",
       "      <td>7.78</td>\n",
       "      <td>7.46</td>\n",
       "      <td>0.32</td>\n",
       "    </tr>\n",
       "  </tbody>\n",
       "</table>\n",
       "</div>"
      ],
      "text/plain": [
       "  given_name     surname    auralin    novodra  hba1c_start  hba1c_end  \\\n",
       "0   veronika    jindrová  41u - 48u          -         7.63       7.20   \n",
       "1     elliot  richardson          -  40u - 45u         7.56       7.09   \n",
       "2   yukitaka    takenaka          -  39u - 36u         7.68       7.25   \n",
       "3       skye  gormanston  33u - 36u          -         7.97       7.62   \n",
       "4     alissa      montez          -  33u - 29u         7.78       7.46   \n",
       "\n",
       "   hba1c_change  \n",
       "0           NaN  \n",
       "1          0.97  \n",
       "2           NaN  \n",
       "3          0.35  \n",
       "4          0.32  "
      ]
     },
     "execution_count": 21,
     "metadata": {},
     "output_type": "execute_result"
    }
   ],
   "source": [
    "# in the second entry we can spot an instance of a inaccurate HbA1c change\n",
    "treatments_clean.head()"
   ]
  },
  {
   "cell_type": "code",
   "execution_count": 22,
   "id": "c795bc0a",
   "metadata": {},
   "outputs": [],
   "source": [
    "# subtract the two columns\n",
    "treatments_clean['hba1c_change'] = treatments_clean['hba1c_start'] - treatments_clean['hba1c_end']"
   ]
  },
  {
   "cell_type": "markdown",
   "id": "6130627b",
   "metadata": {},
   "source": [
    "##### Test:"
   ]
  },
  {
   "cell_type": "code",
   "execution_count": 23,
   "id": "a56479dc",
   "metadata": {},
   "outputs": [
    {
     "data": {
      "text/plain": [
       "0    0.43\n",
       "1    0.47\n",
       "2    0.43\n",
       "3    0.35\n",
       "4    0.32\n",
       "Name: hba1c_change, dtype: float64"
      ]
     },
     "execution_count": 23,
     "metadata": {},
     "output_type": "execute_result"
    }
   ],
   "source": [
    "treatments_clean['hba1c_change'].head()"
   ]
  },
  {
   "cell_type": "markdown",
   "id": "5e804664",
   "metadata": {},
   "source": [
    "### Address Tidiness\n",
    "After dealing with structural issues (like missing data), it's best to address tidiness. Finally, deal with content issues (quality).\n",
    "\n",
    "Statistician, Hadley Wickham, is the pioneer of tidy data, and in his paper, 'Tidy data' (*The Journal of Statistical Software*, vol. 59, 2014), he makes these key points:\n",
    "\n",
    "- Tidy datasets are easy to manipulate\n",
    "- Tidy datasets with data quality issues are almost always easier to clean than untidy datasets with the same issues\n",
    "\n",
    "#### Tidiness issues in the clinical trial dataset:\n",
    "\n",
    "##### `patients` table: \n",
    "- `contact` column should be split into `phone number` and `email`\n",
    "\n",
    "##### `treatments` table:\n",
    "- Three variables in two columns in `treatments` table (`treatment`, i.e., auralin or novadra, `start_dose`, and `end_dose`).\n",
    "- Include the `adverse_reaction` column from the `adverse_reactions` table\n",
    "- Include `patient_id` column from the `patients` table to serve as primary key and facilitate joining the remaining two tables (`treatments` and `patients`) afterwards\n",
    "\n",
    "### Clean\n",
    "\n",
    "#### 2. Tidiness\n",
    "\n",
    "#### `patients`: `contact` column should be split into `phone number` and `email`\n",
    "\n",
    "#####  2.1. Define:\n",
    "In the `patients` table, use `str.extract` [method](https://pandas.pydata.org/pandas-docs/stable/generated/pandas.Series.str.extract.html) to separate phone number and email into two columns. \n",
    "\n",
    "- Hint 1: [regex tutorial](https://regexone.com/)\n",
    "- Hint 2: [various phone number regex patterns](https://stackoverflow.com/questions/16699007/regular-expression-to-match-standard-10-digit-phone-number)\n",
    "- Hint 3: [email address regex pattern](http://emailregex.com/)\n",
    "\n",
    "##### Code:"
   ]
  },
  {
   "cell_type": "code",
   "execution_count": 24,
   "id": "cbf21ebe",
   "metadata": {},
   "outputs": [
    {
     "data": {
      "text/html": [
       "<div>\n",
       "<style scoped>\n",
       "    .dataframe tbody tr th:only-of-type {\n",
       "        vertical-align: middle;\n",
       "    }\n",
       "\n",
       "    .dataframe tbody tr th {\n",
       "        vertical-align: top;\n",
       "    }\n",
       "\n",
       "    .dataframe thead th {\n",
       "        text-align: right;\n",
       "    }\n",
       "</style>\n",
       "<table border=\"1\" class=\"dataframe\">\n",
       "  <thead>\n",
       "    <tr style=\"text-align: right;\">\n",
       "      <th></th>\n",
       "      <th>patient_id</th>\n",
       "      <th>assigned_sex</th>\n",
       "      <th>given_name</th>\n",
       "      <th>surname</th>\n",
       "      <th>address</th>\n",
       "      <th>city</th>\n",
       "      <th>state</th>\n",
       "      <th>zip_code</th>\n",
       "      <th>country</th>\n",
       "      <th>contact</th>\n",
       "      <th>birthdate</th>\n",
       "      <th>weight</th>\n",
       "      <th>height</th>\n",
       "      <th>bmi</th>\n",
       "    </tr>\n",
       "  </thead>\n",
       "  <tbody>\n",
       "    <tr>\n",
       "      <th>0</th>\n",
       "      <td>1</td>\n",
       "      <td>female</td>\n",
       "      <td>Zoe</td>\n",
       "      <td>Wellish</td>\n",
       "      <td>576 Brown Bear Drive</td>\n",
       "      <td>Rancho California</td>\n",
       "      <td>California</td>\n",
       "      <td>92390.0</td>\n",
       "      <td>United States</td>\n",
       "      <td>951-719-9170ZoeWellish@superrito.com</td>\n",
       "      <td>7/10/1976</td>\n",
       "      <td>121.7</td>\n",
       "      <td>66</td>\n",
       "      <td>19.6</td>\n",
       "    </tr>\n",
       "    <tr>\n",
       "      <th>1</th>\n",
       "      <td>2</td>\n",
       "      <td>female</td>\n",
       "      <td>Pamela</td>\n",
       "      <td>Hill</td>\n",
       "      <td>2370 University Hill Road</td>\n",
       "      <td>Armstrong</td>\n",
       "      <td>Illinois</td>\n",
       "      <td>61812.0</td>\n",
       "      <td>United States</td>\n",
       "      <td>PamelaSHill@cuvox.de+1 (217) 569-3204</td>\n",
       "      <td>4/3/1967</td>\n",
       "      <td>118.8</td>\n",
       "      <td>66</td>\n",
       "      <td>19.2</td>\n",
       "    </tr>\n",
       "    <tr>\n",
       "      <th>2</th>\n",
       "      <td>3</td>\n",
       "      <td>male</td>\n",
       "      <td>Jae</td>\n",
       "      <td>Debord</td>\n",
       "      <td>1493 Poling Farm Road</td>\n",
       "      <td>York</td>\n",
       "      <td>Nebraska</td>\n",
       "      <td>68467.0</td>\n",
       "      <td>United States</td>\n",
       "      <td>402-363-6804JaeMDebord@gustr.com</td>\n",
       "      <td>2/19/1980</td>\n",
       "      <td>177.8</td>\n",
       "      <td>71</td>\n",
       "      <td>24.8</td>\n",
       "    </tr>\n",
       "    <tr>\n",
       "      <th>3</th>\n",
       "      <td>4</td>\n",
       "      <td>male</td>\n",
       "      <td>Liêm</td>\n",
       "      <td>Phan</td>\n",
       "      <td>2335 Webster Street</td>\n",
       "      <td>Woodbridge</td>\n",
       "      <td>NJ</td>\n",
       "      <td>7095.0</td>\n",
       "      <td>United States</td>\n",
       "      <td>PhanBaLiem@jourrapide.com+1 (732) 636-8246</td>\n",
       "      <td>7/26/1951</td>\n",
       "      <td>220.9</td>\n",
       "      <td>70</td>\n",
       "      <td>31.7</td>\n",
       "    </tr>\n",
       "    <tr>\n",
       "      <th>4</th>\n",
       "      <td>5</td>\n",
       "      <td>male</td>\n",
       "      <td>Tim</td>\n",
       "      <td>Neudorf</td>\n",
       "      <td>1428 Turkey Pen Lane</td>\n",
       "      <td>Dothan</td>\n",
       "      <td>AL</td>\n",
       "      <td>36303.0</td>\n",
       "      <td>United States</td>\n",
       "      <td>334-515-7487TimNeudorf@cuvox.de</td>\n",
       "      <td>2/18/1928</td>\n",
       "      <td>192.3</td>\n",
       "      <td>27</td>\n",
       "      <td>26.1</td>\n",
       "    </tr>\n",
       "  </tbody>\n",
       "</table>\n",
       "</div>"
      ],
      "text/plain": [
       "   patient_id assigned_sex given_name  surname                    address  \\\n",
       "0           1       female        Zoe  Wellish       576 Brown Bear Drive   \n",
       "1           2       female     Pamela     Hill  2370 University Hill Road   \n",
       "2           3         male        Jae   Debord      1493 Poling Farm Road   \n",
       "3           4         male       Liêm     Phan        2335 Webster Street   \n",
       "4           5         male        Tim  Neudorf       1428 Turkey Pen Lane   \n",
       "\n",
       "                city       state  zip_code        country  \\\n",
       "0  Rancho California  California   92390.0  United States   \n",
       "1          Armstrong    Illinois   61812.0  United States   \n",
       "2               York    Nebraska   68467.0  United States   \n",
       "3         Woodbridge          NJ    7095.0  United States   \n",
       "4             Dothan          AL   36303.0  United States   \n",
       "\n",
       "                                      contact  birthdate  weight  height   bmi  \n",
       "0        951-719-9170ZoeWellish@superrito.com  7/10/1976   121.7      66  19.6  \n",
       "1       PamelaSHill@cuvox.de+1 (217) 569-3204   4/3/1967   118.8      66  19.2  \n",
       "2            402-363-6804JaeMDebord@gustr.com  2/19/1980   177.8      71  24.8  \n",
       "3  PhanBaLiem@jourrapide.com+1 (732) 636-8246  7/26/1951   220.9      70  31.7  \n",
       "4             334-515-7487TimNeudorf@cuvox.de  2/18/1928   192.3      27  26.1  "
      ]
     },
     "execution_count": 24,
     "metadata": {},
     "output_type": "execute_result"
    }
   ],
   "source": [
    "patients_clean.head()"
   ]
  },
  {
   "cell_type": "markdown",
   "id": "bdfd698a",
   "metadata": {},
   "source": [
    "There are dozens of ways to format US phone number. To name a few:\n",
    "\n",
    "```###-###-####```\n",
    "\n",
    "```(###) ###-####```\n",
    "\n",
    "```### ### ####```\n",
    "\n",
    "```###.###.####```\n",
    "\n",
    "```#+ ###.###.####```\n",
    "\n",
    "The regular expression must be able to encompass them all!"
   ]
  },
  {
   "cell_type": "code",
   "execution_count": 25,
   "id": "2263c9b8",
   "metadata": {},
   "outputs": [],
   "source": [
    "# use str.extract with a regular expression to get the phone numbers\n",
    "patients_clean['phone_number'] = patients_clean['contact'].str.extract(r'(\\+?\\d?[\\s.-]?\\(?\\d{3}\\)?[\\s.-]?\\d{3}[\\s.-]?\\d{4})', expand=False)"
   ]
  },
  {
   "cell_type": "markdown",
   "id": "857c700a",
   "metadata": {},
   "source": [
    "##### Test:"
   ]
  },
  {
   "cell_type": "code",
   "execution_count": 26,
   "id": "9f8c742e",
   "metadata": {},
   "outputs": [
    {
     "data": {
      "text/html": [
       "<div>\n",
       "<style scoped>\n",
       "    .dataframe tbody tr th:only-of-type {\n",
       "        vertical-align: middle;\n",
       "    }\n",
       "\n",
       "    .dataframe tbody tr th {\n",
       "        vertical-align: top;\n",
       "    }\n",
       "\n",
       "    .dataframe thead th {\n",
       "        text-align: right;\n",
       "    }\n",
       "</style>\n",
       "<table border=\"1\" class=\"dataframe\">\n",
       "  <thead>\n",
       "    <tr style=\"text-align: right;\">\n",
       "      <th></th>\n",
       "      <th>patient_id</th>\n",
       "      <th>assigned_sex</th>\n",
       "      <th>given_name</th>\n",
       "      <th>surname</th>\n",
       "      <th>address</th>\n",
       "      <th>city</th>\n",
       "      <th>state</th>\n",
       "      <th>zip_code</th>\n",
       "      <th>country</th>\n",
       "      <th>contact</th>\n",
       "      <th>birthdate</th>\n",
       "      <th>weight</th>\n",
       "      <th>height</th>\n",
       "      <th>bmi</th>\n",
       "      <th>phone_number</th>\n",
       "    </tr>\n",
       "  </thead>\n",
       "  <tbody>\n",
       "    <tr>\n",
       "      <th>0</th>\n",
       "      <td>1</td>\n",
       "      <td>female</td>\n",
       "      <td>Zoe</td>\n",
       "      <td>Wellish</td>\n",
       "      <td>576 Brown Bear Drive</td>\n",
       "      <td>Rancho California</td>\n",
       "      <td>California</td>\n",
       "      <td>92390.0</td>\n",
       "      <td>United States</td>\n",
       "      <td>951-719-9170ZoeWellish@superrito.com</td>\n",
       "      <td>7/10/1976</td>\n",
       "      <td>121.7</td>\n",
       "      <td>66</td>\n",
       "      <td>19.6</td>\n",
       "      <td>951-719-9170</td>\n",
       "    </tr>\n",
       "    <tr>\n",
       "      <th>1</th>\n",
       "      <td>2</td>\n",
       "      <td>female</td>\n",
       "      <td>Pamela</td>\n",
       "      <td>Hill</td>\n",
       "      <td>2370 University Hill Road</td>\n",
       "      <td>Armstrong</td>\n",
       "      <td>Illinois</td>\n",
       "      <td>61812.0</td>\n",
       "      <td>United States</td>\n",
       "      <td>PamelaSHill@cuvox.de+1 (217) 569-3204</td>\n",
       "      <td>4/3/1967</td>\n",
       "      <td>118.8</td>\n",
       "      <td>66</td>\n",
       "      <td>19.2</td>\n",
       "      <td>+1 (217) 569-3204</td>\n",
       "    </tr>\n",
       "    <tr>\n",
       "      <th>2</th>\n",
       "      <td>3</td>\n",
       "      <td>male</td>\n",
       "      <td>Jae</td>\n",
       "      <td>Debord</td>\n",
       "      <td>1493 Poling Farm Road</td>\n",
       "      <td>York</td>\n",
       "      <td>Nebraska</td>\n",
       "      <td>68467.0</td>\n",
       "      <td>United States</td>\n",
       "      <td>402-363-6804JaeMDebord@gustr.com</td>\n",
       "      <td>2/19/1980</td>\n",
       "      <td>177.8</td>\n",
       "      <td>71</td>\n",
       "      <td>24.8</td>\n",
       "      <td>402-363-6804</td>\n",
       "    </tr>\n",
       "    <tr>\n",
       "      <th>3</th>\n",
       "      <td>4</td>\n",
       "      <td>male</td>\n",
       "      <td>Liêm</td>\n",
       "      <td>Phan</td>\n",
       "      <td>2335 Webster Street</td>\n",
       "      <td>Woodbridge</td>\n",
       "      <td>NJ</td>\n",
       "      <td>7095.0</td>\n",
       "      <td>United States</td>\n",
       "      <td>PhanBaLiem@jourrapide.com+1 (732) 636-8246</td>\n",
       "      <td>7/26/1951</td>\n",
       "      <td>220.9</td>\n",
       "      <td>70</td>\n",
       "      <td>31.7</td>\n",
       "      <td>+1 (732) 636-8246</td>\n",
       "    </tr>\n",
       "    <tr>\n",
       "      <th>4</th>\n",
       "      <td>5</td>\n",
       "      <td>male</td>\n",
       "      <td>Tim</td>\n",
       "      <td>Neudorf</td>\n",
       "      <td>1428 Turkey Pen Lane</td>\n",
       "      <td>Dothan</td>\n",
       "      <td>AL</td>\n",
       "      <td>36303.0</td>\n",
       "      <td>United States</td>\n",
       "      <td>334-515-7487TimNeudorf@cuvox.de</td>\n",
       "      <td>2/18/1928</td>\n",
       "      <td>192.3</td>\n",
       "      <td>27</td>\n",
       "      <td>26.1</td>\n",
       "      <td>334-515-7487</td>\n",
       "    </tr>\n",
       "  </tbody>\n",
       "</table>\n",
       "</div>"
      ],
      "text/plain": [
       "   patient_id assigned_sex given_name  surname                    address  \\\n",
       "0           1       female        Zoe  Wellish       576 Brown Bear Drive   \n",
       "1           2       female     Pamela     Hill  2370 University Hill Road   \n",
       "2           3         male        Jae   Debord      1493 Poling Farm Road   \n",
       "3           4         male       Liêm     Phan        2335 Webster Street   \n",
       "4           5         male        Tim  Neudorf       1428 Turkey Pen Lane   \n",
       "\n",
       "                city       state  zip_code        country  \\\n",
       "0  Rancho California  California   92390.0  United States   \n",
       "1          Armstrong    Illinois   61812.0  United States   \n",
       "2               York    Nebraska   68467.0  United States   \n",
       "3         Woodbridge          NJ    7095.0  United States   \n",
       "4             Dothan          AL   36303.0  United States   \n",
       "\n",
       "                                      contact  birthdate  weight  height  \\\n",
       "0        951-719-9170ZoeWellish@superrito.com  7/10/1976   121.7      66   \n",
       "1       PamelaSHill@cuvox.de+1 (217) 569-3204   4/3/1967   118.8      66   \n",
       "2            402-363-6804JaeMDebord@gustr.com  2/19/1980   177.8      71   \n",
       "3  PhanBaLiem@jourrapide.com+1 (732) 636-8246  7/26/1951   220.9      70   \n",
       "4             334-515-7487TimNeudorf@cuvox.de  2/18/1928   192.3      27   \n",
       "\n",
       "    bmi       phone_number  \n",
       "0  19.6       951-719-9170  \n",
       "1  19.2  +1 (217) 569-3204  \n",
       "2  24.8       402-363-6804  \n",
       "3  31.7  +1 (732) 636-8246  \n",
       "4  26.1       334-515-7487  "
      ]
     },
     "execution_count": 26,
     "metadata": {},
     "output_type": "execute_result"
    }
   ],
   "source": [
    "patients_clean.head()"
   ]
  },
  {
   "cell_type": "code",
   "execution_count": 27,
   "id": "b8e01162",
   "metadata": {},
   "outputs": [
    {
     "name": "stdout",
     "output_type": "stream",
     "text": [
      "<class 'pandas.core.series.Series'>\n",
      "RangeIndex: 503 entries, 0 to 502\n",
      "Series name: phone_number\n",
      "Non-Null Count  Dtype \n",
      "--------------  ----- \n",
      "491 non-null    object\n",
      "dtypes: object(1)\n",
      "memory usage: 4.1+ KB\n"
     ]
    }
   ],
   "source": [
    "# 491 is the same number of entries we have in contact\n",
    "patients_clean['phone_number'].info()"
   ]
  },
  {
   "cell_type": "markdown",
   "id": "02852df7",
   "metadata": {},
   "source": [
    "#####  Code:"
   ]
  },
  {
   "cell_type": "code",
   "execution_count": 28,
   "id": "0b8f910d",
   "metadata": {},
   "outputs": [],
   "source": [
    "# use str.extract with a regular expression to get the emails\n",
    "# the regular expression must ensure the email starts with a letter and ends with one, \n",
    "# with an \"@\" in the middle\n",
    "# use str.lower so the email is formatted all lowercase (not mandatory)\n",
    "patients_clean['email'] = patients_clean['contact'].str.extract(r'([a-zA-Z].*@[\\w\\.]*[a-zA-Z])', expand=False).str.lower()\n",
    "\n",
    "# drop 'contact' column\n",
    "patients_clean.drop(columns='contact', inplace=True)"
   ]
  },
  {
   "cell_type": "markdown",
   "id": "c9739d1e",
   "metadata": {},
   "source": [
    "##### Test:"
   ]
  },
  {
   "cell_type": "code",
   "execution_count": 29,
   "id": "7cd1b33a",
   "metadata": {},
   "outputs": [
    {
     "data": {
      "text/html": [
       "<div>\n",
       "<style scoped>\n",
       "    .dataframe tbody tr th:only-of-type {\n",
       "        vertical-align: middle;\n",
       "    }\n",
       "\n",
       "    .dataframe tbody tr th {\n",
       "        vertical-align: top;\n",
       "    }\n",
       "\n",
       "    .dataframe thead th {\n",
       "        text-align: right;\n",
       "    }\n",
       "</style>\n",
       "<table border=\"1\" class=\"dataframe\">\n",
       "  <thead>\n",
       "    <tr style=\"text-align: right;\">\n",
       "      <th></th>\n",
       "      <th>patient_id</th>\n",
       "      <th>assigned_sex</th>\n",
       "      <th>given_name</th>\n",
       "      <th>surname</th>\n",
       "      <th>address</th>\n",
       "      <th>city</th>\n",
       "      <th>state</th>\n",
       "      <th>zip_code</th>\n",
       "      <th>country</th>\n",
       "      <th>birthdate</th>\n",
       "      <th>weight</th>\n",
       "      <th>height</th>\n",
       "      <th>bmi</th>\n",
       "      <th>phone_number</th>\n",
       "      <th>email</th>\n",
       "    </tr>\n",
       "  </thead>\n",
       "  <tbody>\n",
       "    <tr>\n",
       "      <th>0</th>\n",
       "      <td>1</td>\n",
       "      <td>female</td>\n",
       "      <td>Zoe</td>\n",
       "      <td>Wellish</td>\n",
       "      <td>576 Brown Bear Drive</td>\n",
       "      <td>Rancho California</td>\n",
       "      <td>California</td>\n",
       "      <td>92390.0</td>\n",
       "      <td>United States</td>\n",
       "      <td>7/10/1976</td>\n",
       "      <td>121.7</td>\n",
       "      <td>66</td>\n",
       "      <td>19.6</td>\n",
       "      <td>951-719-9170</td>\n",
       "      <td>zoewellish@superrito.com</td>\n",
       "    </tr>\n",
       "    <tr>\n",
       "      <th>1</th>\n",
       "      <td>2</td>\n",
       "      <td>female</td>\n",
       "      <td>Pamela</td>\n",
       "      <td>Hill</td>\n",
       "      <td>2370 University Hill Road</td>\n",
       "      <td>Armstrong</td>\n",
       "      <td>Illinois</td>\n",
       "      <td>61812.0</td>\n",
       "      <td>United States</td>\n",
       "      <td>4/3/1967</td>\n",
       "      <td>118.8</td>\n",
       "      <td>66</td>\n",
       "      <td>19.2</td>\n",
       "      <td>+1 (217) 569-3204</td>\n",
       "      <td>pamelashill@cuvox.de</td>\n",
       "    </tr>\n",
       "    <tr>\n",
       "      <th>2</th>\n",
       "      <td>3</td>\n",
       "      <td>male</td>\n",
       "      <td>Jae</td>\n",
       "      <td>Debord</td>\n",
       "      <td>1493 Poling Farm Road</td>\n",
       "      <td>York</td>\n",
       "      <td>Nebraska</td>\n",
       "      <td>68467.0</td>\n",
       "      <td>United States</td>\n",
       "      <td>2/19/1980</td>\n",
       "      <td>177.8</td>\n",
       "      <td>71</td>\n",
       "      <td>24.8</td>\n",
       "      <td>402-363-6804</td>\n",
       "      <td>jaemdebord@gustr.com</td>\n",
       "    </tr>\n",
       "    <tr>\n",
       "      <th>3</th>\n",
       "      <td>4</td>\n",
       "      <td>male</td>\n",
       "      <td>Liêm</td>\n",
       "      <td>Phan</td>\n",
       "      <td>2335 Webster Street</td>\n",
       "      <td>Woodbridge</td>\n",
       "      <td>NJ</td>\n",
       "      <td>7095.0</td>\n",
       "      <td>United States</td>\n",
       "      <td>7/26/1951</td>\n",
       "      <td>220.9</td>\n",
       "      <td>70</td>\n",
       "      <td>31.7</td>\n",
       "      <td>+1 (732) 636-8246</td>\n",
       "      <td>phanbaliem@jourrapide.com</td>\n",
       "    </tr>\n",
       "    <tr>\n",
       "      <th>4</th>\n",
       "      <td>5</td>\n",
       "      <td>male</td>\n",
       "      <td>Tim</td>\n",
       "      <td>Neudorf</td>\n",
       "      <td>1428 Turkey Pen Lane</td>\n",
       "      <td>Dothan</td>\n",
       "      <td>AL</td>\n",
       "      <td>36303.0</td>\n",
       "      <td>United States</td>\n",
       "      <td>2/18/1928</td>\n",
       "      <td>192.3</td>\n",
       "      <td>27</td>\n",
       "      <td>26.1</td>\n",
       "      <td>334-515-7487</td>\n",
       "      <td>timneudorf@cuvox.de</td>\n",
       "    </tr>\n",
       "  </tbody>\n",
       "</table>\n",
       "</div>"
      ],
      "text/plain": [
       "   patient_id assigned_sex given_name  surname                    address  \\\n",
       "0           1       female        Zoe  Wellish       576 Brown Bear Drive   \n",
       "1           2       female     Pamela     Hill  2370 University Hill Road   \n",
       "2           3         male        Jae   Debord      1493 Poling Farm Road   \n",
       "3           4         male       Liêm     Phan        2335 Webster Street   \n",
       "4           5         male        Tim  Neudorf       1428 Turkey Pen Lane   \n",
       "\n",
       "                city       state  zip_code        country  birthdate  weight  \\\n",
       "0  Rancho California  California   92390.0  United States  7/10/1976   121.7   \n",
       "1          Armstrong    Illinois   61812.0  United States   4/3/1967   118.8   \n",
       "2               York    Nebraska   68467.0  United States  2/19/1980   177.8   \n",
       "3         Woodbridge          NJ    7095.0  United States  7/26/1951   220.9   \n",
       "4             Dothan          AL   36303.0  United States  2/18/1928   192.3   \n",
       "\n",
       "   height   bmi       phone_number                      email  \n",
       "0      66  19.6       951-719-9170   zoewellish@superrito.com  \n",
       "1      66  19.2  +1 (217) 569-3204       pamelashill@cuvox.de  \n",
       "2      71  24.8       402-363-6804       jaemdebord@gustr.com  \n",
       "3      70  31.7  +1 (732) 636-8246  phanbaliem@jourrapide.com  \n",
       "4      27  26.1       334-515-7487        timneudorf@cuvox.de  "
      ]
     },
     "execution_count": 29,
     "metadata": {},
     "output_type": "execute_result"
    }
   ],
   "source": [
    "# check to see if the column 'contact' was removed and\n",
    "# if the column 'email' was created\n",
    "patients_clean.head(5)"
   ]
  },
  {
   "cell_type": "code",
   "execution_count": 30,
   "id": "70f97466",
   "metadata": {},
   "outputs": [
    {
     "name": "stdout",
     "output_type": "stream",
     "text": [
      "<class 'pandas.core.series.Series'>\n",
      "RangeIndex: 503 entries, 0 to 502\n",
      "Series name: email\n",
      "Non-Null Count  Dtype \n",
      "--------------  ----- \n",
      "491 non-null    object\n",
      "dtypes: object(1)\n",
      "memory usage: 4.1+ KB\n"
     ]
    }
   ],
   "source": [
    "# 491 is the same number of entries we used to have in 'contact'\n",
    "patients_clean['email'].info()"
   ]
  },
  {
   "cell_type": "code",
   "execution_count": 31,
   "id": "b28cf857",
   "metadata": {},
   "outputs": [
    {
     "data": {
      "text/plain": [
       "404               aaliyahrice@dayrep.com\n",
       "11          abdul-nurmummarisa@rhyta.com\n",
       "332                abelefrem@fleckens.hu\n",
       "258              abelyonatan@teleworm.us\n",
       "305    addoloratalombardi@jourrapide.com\n",
       "Name: email, dtype: object"
      ]
     },
     "execution_count": 31,
     "metadata": {},
     "output_type": "execute_result"
    }
   ],
   "source": [
    "# checking if any there are any emails starting with numbers\n",
    "patients_clean['email'].sort_values().head()"
   ]
  },
  {
   "cell_type": "code",
   "execution_count": 32,
   "id": "dc3292d9",
   "metadata": {},
   "outputs": [
    {
     "data": {
      "text/plain": [
       "49              zsinkovivien@teleworm.us\n",
       "0               zoewellish@superrito.com\n",
       "165              zlatkorukavina@cuvox.de\n",
       "456    zikoranaudodimmachinedum@cuvox.de\n",
       "199           zdeneksynek@jourrapide.com\n",
       "Name: email, dtype: object"
      ]
     },
     "execution_count": 32,
     "metadata": {},
     "output_type": "execute_result"
    }
   ],
   "source": [
    "# checking if any there are any emails ending with numbers\n",
    "patients_clean['email'].sort_values(ascending=False).head()"
   ]
  },
  {
   "cell_type": "markdown",
   "id": "210039bc",
   "metadata": {},
   "source": [
    "---\n",
    "\n",
    "#### `treatments`: three variables in two columns in (`treatment`, i.e., auralin or novadra, `start_dose`, and `end_dose`).\n",
    "\n",
    "##### 2.2. Define: \n",
    "\n",
    "Use panda's `melt` [function](https://pandas.pydata.org/pandas-docs/stable/generated/pandas.melt.html) and `str.split()` [method](https://pandas.pydata.org/pandas-docs/stable/generated/pandas.Series.str.split.html) to transform these two columns into three. \n",
    "\n",
    "`melt` [tutorial](https://deparkes.co.uk/2016/10/28/reshape-pandas-data-with-melt/)\n",
    "\n",
    "##### Code:"
   ]
  },
  {
   "cell_type": "code",
   "execution_count": 33,
   "id": "539c8133",
   "metadata": {},
   "outputs": [
    {
     "data": {
      "text/html": [
       "<div>\n",
       "<style scoped>\n",
       "    .dataframe tbody tr th:only-of-type {\n",
       "        vertical-align: middle;\n",
       "    }\n",
       "\n",
       "    .dataframe tbody tr th {\n",
       "        vertical-align: top;\n",
       "    }\n",
       "\n",
       "    .dataframe thead th {\n",
       "        text-align: right;\n",
       "    }\n",
       "</style>\n",
       "<table border=\"1\" class=\"dataframe\">\n",
       "  <thead>\n",
       "    <tr style=\"text-align: right;\">\n",
       "      <th></th>\n",
       "      <th>given_name</th>\n",
       "      <th>surname</th>\n",
       "      <th>auralin</th>\n",
       "      <th>novodra</th>\n",
       "      <th>hba1c_start</th>\n",
       "      <th>hba1c_end</th>\n",
       "      <th>hba1c_change</th>\n",
       "    </tr>\n",
       "  </thead>\n",
       "  <tbody>\n",
       "    <tr>\n",
       "      <th>0</th>\n",
       "      <td>veronika</td>\n",
       "      <td>jindrová</td>\n",
       "      <td>41u - 48u</td>\n",
       "      <td>-</td>\n",
       "      <td>7.63</td>\n",
       "      <td>7.2</td>\n",
       "      <td>0.43</td>\n",
       "    </tr>\n",
       "  </tbody>\n",
       "</table>\n",
       "</div>"
      ],
      "text/plain": [
       "  given_name   surname    auralin novodra  hba1c_start  hba1c_end  \\\n",
       "0   veronika  jindrová  41u - 48u       -         7.63        7.2   \n",
       "\n",
       "   hba1c_change  \n",
       "0          0.43  "
      ]
     },
     "execution_count": 33,
     "metadata": {},
     "output_type": "execute_result"
    }
   ],
   "source": [
    "# checking column headers before melting the dataframe\n",
    "treatments_clean.head(1)"
   ]
  },
  {
   "cell_type": "code",
   "execution_count": 34,
   "id": "424682b0",
   "metadata": {},
   "outputs": [],
   "source": [
    "treatments_index = treatments_clean.index\n",
    "treatments_clean = pd.melt(treatments_clean, \n",
    "               id_vars=['given_name', 'surname', 'hba1c_start', 'hba1c_end', 'hba1c_change'],\n",
    "               value_vars=['auralin', 'novodra'],\n",
    "               var_name='treatment',\n",
    "               value_name='dose')"
   ]
  },
  {
   "cell_type": "markdown",
   "id": "3cb38442",
   "metadata": {},
   "source": [
    "##### Test:"
   ]
  },
  {
   "cell_type": "code",
   "execution_count": 35,
   "id": "b250b95f",
   "metadata": {},
   "outputs": [
    {
     "name": "stdout",
     "output_type": "stream",
     "text": [
      "<class 'pandas.core.frame.DataFrame'>\n",
      "RangeIndex: 700 entries, 0 to 699\n",
      "Data columns (total 7 columns):\n",
      " #   Column        Non-Null Count  Dtype  \n",
      "---  ------        --------------  -----  \n",
      " 0   given_name    700 non-null    object \n",
      " 1   surname       700 non-null    object \n",
      " 2   hba1c_start   700 non-null    float64\n",
      " 3   hba1c_end     700 non-null    float64\n",
      " 4   hba1c_change  700 non-null    float64\n",
      " 5   treatment     700 non-null    object \n",
      " 6   dose          700 non-null    object \n",
      "dtypes: float64(3), object(4)\n",
      "memory usage: 38.4+ KB\n"
     ]
    }
   ],
   "source": [
    "# the columns 'auralin' and 'novodra' were stacked into a single column 'treatment'\n",
    "# so, having 700 entries is expected\n",
    "treatments_clean.info()"
   ]
  },
  {
   "cell_type": "markdown",
   "id": "e7fab1cd",
   "metadata": {},
   "source": [
    "##### Code:"
   ]
  },
  {
   "cell_type": "code",
   "execution_count": 36,
   "id": "42996fd8",
   "metadata": {},
   "outputs": [],
   "source": [
    "# get the indexes of every row with a '-' \n",
    "to_drop = treatments_clean.query('dose == \"-\"').index\n",
    "\n",
    "# drop those rows and we should have 350 entries once again\n",
    "treatments_clean = treatments_clean.drop(index=to_drop)"
   ]
  },
  {
   "cell_type": "markdown",
   "id": "81bd15b5",
   "metadata": {},
   "source": [
    "##### Test:"
   ]
  },
  {
   "cell_type": "code",
   "execution_count": 37,
   "id": "ff779d30",
   "metadata": {},
   "outputs": [
    {
     "name": "stdout",
     "output_type": "stream",
     "text": [
      "<class 'pandas.core.frame.DataFrame'>\n",
      "Int64Index: 350 entries, 0 to 698\n",
      "Data columns (total 7 columns):\n",
      " #   Column        Non-Null Count  Dtype  \n",
      "---  ------        --------------  -----  \n",
      " 0   given_name    350 non-null    object \n",
      " 1   surname       350 non-null    object \n",
      " 2   hba1c_start   350 non-null    float64\n",
      " 3   hba1c_end     350 non-null    float64\n",
      " 4   hba1c_change  350 non-null    float64\n",
      " 5   treatment     350 non-null    object \n",
      " 6   dose          350 non-null    object \n",
      "dtypes: float64(3), object(4)\n",
      "memory usage: 21.9+ KB\n"
     ]
    }
   ],
   "source": [
    "# check to see if there are 350 rows\n",
    "treatments_clean.info()"
   ]
  },
  {
   "cell_type": "markdown",
   "id": "89160dee",
   "metadata": {},
   "source": [
    "##### Code: "
   ]
  },
  {
   "cell_type": "code",
   "execution_count": 38,
   "id": "9da0da56",
   "metadata": {},
   "outputs": [],
   "source": [
    "# separate the 'dose' column into two: 'start_dose' and 'end_dose'\n",
    "treatments_clean[['start_dose', 'end_dose']] = treatments_clean['dose'].str.split(pat=' - ', expand=True)\n",
    "\n",
    "# drop the column 'dose', since it will no longer be necessary\n",
    "treatments_clean.drop(columns='dose', inplace=True)"
   ]
  },
  {
   "cell_type": "markdown",
   "id": "cc2b1a0a",
   "metadata": {},
   "source": [
    "##### Test:"
   ]
  },
  {
   "cell_type": "code",
   "execution_count": 39,
   "id": "2ee69155",
   "metadata": {},
   "outputs": [
    {
     "data": {
      "text/html": [
       "<div>\n",
       "<style scoped>\n",
       "    .dataframe tbody tr th:only-of-type {\n",
       "        vertical-align: middle;\n",
       "    }\n",
       "\n",
       "    .dataframe tbody tr th {\n",
       "        vertical-align: top;\n",
       "    }\n",
       "\n",
       "    .dataframe thead th {\n",
       "        text-align: right;\n",
       "    }\n",
       "</style>\n",
       "<table border=\"1\" class=\"dataframe\">\n",
       "  <thead>\n",
       "    <tr style=\"text-align: right;\">\n",
       "      <th></th>\n",
       "      <th>given_name</th>\n",
       "      <th>surname</th>\n",
       "      <th>hba1c_start</th>\n",
       "      <th>hba1c_end</th>\n",
       "      <th>hba1c_change</th>\n",
       "      <th>treatment</th>\n",
       "      <th>start_dose</th>\n",
       "      <th>end_dose</th>\n",
       "    </tr>\n",
       "  </thead>\n",
       "  <tbody>\n",
       "    <tr>\n",
       "      <th>0</th>\n",
       "      <td>veronika</td>\n",
       "      <td>jindrová</td>\n",
       "      <td>7.63</td>\n",
       "      <td>7.20</td>\n",
       "      <td>0.43</td>\n",
       "      <td>auralin</td>\n",
       "      <td>41u</td>\n",
       "      <td>48u</td>\n",
       "    </tr>\n",
       "    <tr>\n",
       "      <th>3</th>\n",
       "      <td>skye</td>\n",
       "      <td>gormanston</td>\n",
       "      <td>7.97</td>\n",
       "      <td>7.62</td>\n",
       "      <td>0.35</td>\n",
       "      <td>auralin</td>\n",
       "      <td>33u</td>\n",
       "      <td>36u</td>\n",
       "    </tr>\n",
       "    <tr>\n",
       "      <th>6</th>\n",
       "      <td>sophia</td>\n",
       "      <td>haugen</td>\n",
       "      <td>7.65</td>\n",
       "      <td>7.27</td>\n",
       "      <td>0.38</td>\n",
       "      <td>auralin</td>\n",
       "      <td>37u</td>\n",
       "      <td>42u</td>\n",
       "    </tr>\n",
       "    <tr>\n",
       "      <th>7</th>\n",
       "      <td>eddie</td>\n",
       "      <td>archer</td>\n",
       "      <td>7.89</td>\n",
       "      <td>7.55</td>\n",
       "      <td>0.34</td>\n",
       "      <td>auralin</td>\n",
       "      <td>31u</td>\n",
       "      <td>38u</td>\n",
       "    </tr>\n",
       "    <tr>\n",
       "      <th>9</th>\n",
       "      <td>asia</td>\n",
       "      <td>woźniak</td>\n",
       "      <td>7.76</td>\n",
       "      <td>7.37</td>\n",
       "      <td>0.39</td>\n",
       "      <td>auralin</td>\n",
       "      <td>30u</td>\n",
       "      <td>36u</td>\n",
       "    </tr>\n",
       "  </tbody>\n",
       "</table>\n",
       "</div>"
      ],
      "text/plain": [
       "  given_name     surname  hba1c_start  hba1c_end  hba1c_change treatment  \\\n",
       "0   veronika    jindrová         7.63       7.20          0.43   auralin   \n",
       "3       skye  gormanston         7.97       7.62          0.35   auralin   \n",
       "6     sophia      haugen         7.65       7.27          0.38   auralin   \n",
       "7      eddie      archer         7.89       7.55          0.34   auralin   \n",
       "9       asia     woźniak         7.76       7.37          0.39   auralin   \n",
       "\n",
       "  start_dose end_dose  \n",
       "0        41u      48u  \n",
       "3        33u      36u  \n",
       "6        37u      42u  \n",
       "7        31u      38u  \n",
       "9        30u      36u  "
      ]
     },
     "execution_count": 39,
     "metadata": {},
     "output_type": "execute_result"
    }
   ],
   "source": [
    "# confirm the 'dose' column was indeed dropped\n",
    "treatments_clean.head()"
   ]
  },
  {
   "cell_type": "markdown",
   "id": "b1be1d40",
   "metadata": {},
   "source": [
    "---\n",
    "\n",
    "#### `treatments`: include the `adverse_reaction` column from the `adverse_reactions` table\n",
    "\n",
    "##### 2.3 Define: \n",
    "\n",
    "Using [`df.merge`](https://pandas.pydata.org/docs/reference/api/pandas.DataFrame.merge.html), left join the `adverse_reactions` table into the `treatments` table\n",
    "\n",
    "##### Code: "
   ]
  },
  {
   "cell_type": "code",
   "execution_count": 40,
   "id": "ea9b1efb",
   "metadata": {},
   "outputs": [],
   "source": [
    "treatments_clean = treatments_clean.merge(adverse_reactions, on=['given_name', 'surname'], how='left')"
   ]
  },
  {
   "cell_type": "markdown",
   "id": "0ddf2ff0",
   "metadata": {},
   "source": [
    "##### Test:"
   ]
  },
  {
   "cell_type": "code",
   "execution_count": 41,
   "id": "ccdb67e5",
   "metadata": {},
   "outputs": [
    {
     "name": "stdout",
     "output_type": "stream",
     "text": [
      "<class 'pandas.core.frame.DataFrame'>\n",
      "RangeIndex: 34 entries, 0 to 33\n",
      "Data columns (total 3 columns):\n",
      " #   Column            Non-Null Count  Dtype \n",
      "---  ------            --------------  ----- \n",
      " 0   given_name        34 non-null     object\n",
      " 1   surname           34 non-null     object\n",
      " 2   adverse_reaction  34 non-null     object\n",
      "dtypes: object(3)\n",
      "memory usage: 944.0+ bytes\n"
     ]
    }
   ],
   "source": [
    "# check how many patients had adverse reactions\n",
    "adverse_reactions.info()"
   ]
  },
  {
   "cell_type": "code",
   "execution_count": 42,
   "id": "0181765b",
   "metadata": {},
   "outputs": [
    {
     "data": {
      "text/plain": [
       "35"
      ]
     },
     "execution_count": 42,
     "metadata": {},
     "output_type": "execute_result"
    }
   ],
   "source": [
    "# check to see if there are indeed 35\n",
    "treatments_clean.query('adverse_reaction != None')['adverse_reaction'].count()"
   ]
  },
  {
   "cell_type": "markdown",
   "id": "f856bc9f",
   "metadata": {},
   "source": [
    "--- \n",
    "\n",
    "#### Include `patient_id` column from the `patients` table to serve as primary key and facilitate joining the remaining two tables (`treatments` and `patients`) afterwards\n",
    "\n",
    "##### 2.4. Define: \n",
    "Before including the patient_id in the `treatments` table, we must first capitalize `given_name` and `surname`. Otherwise, we won't be able to use those columns as the primary keys for the merge. Then, we create a new DataFrame (`names_id`) from the `patients` table, containing three columns: `patient_id`, `given_name` and `surname`. The first one is the column we actually need to add to the `treatments` table. The other two will be used as the keys for the join. Finally, drop the columns `given_name` and `surname`, since they will no longer be needed. \n",
    "\n",
    "##### Code:"
   ]
  },
  {
   "cell_type": "code",
   "execution_count": 43,
   "id": "d0a899b3",
   "metadata": {},
   "outputs": [],
   "source": [
    "# capitalize column\n",
    "treatments_clean['given_name'] = treatments_clean['given_name'].str.capitalize()\n",
    "\n",
    "# capitalize column\n",
    "treatments_clean['surname'] = treatments_clean['surname'].str.capitalize()"
   ]
  },
  {
   "cell_type": "markdown",
   "id": "ee349000",
   "metadata": {},
   "source": [
    "##### Test:"
   ]
  },
  {
   "cell_type": "code",
   "execution_count": 44,
   "id": "87f929c7",
   "metadata": {
    "scrolled": true
   },
   "outputs": [
    {
     "data": {
      "text/html": [
       "<div>\n",
       "<style scoped>\n",
       "    .dataframe tbody tr th:only-of-type {\n",
       "        vertical-align: middle;\n",
       "    }\n",
       "\n",
       "    .dataframe tbody tr th {\n",
       "        vertical-align: top;\n",
       "    }\n",
       "\n",
       "    .dataframe thead th {\n",
       "        text-align: right;\n",
       "    }\n",
       "</style>\n",
       "<table border=\"1\" class=\"dataframe\">\n",
       "  <thead>\n",
       "    <tr style=\"text-align: right;\">\n",
       "      <th></th>\n",
       "      <th>given_name</th>\n",
       "      <th>surname</th>\n",
       "      <th>hba1c_start</th>\n",
       "      <th>hba1c_end</th>\n",
       "      <th>hba1c_change</th>\n",
       "      <th>treatment</th>\n",
       "      <th>start_dose</th>\n",
       "      <th>end_dose</th>\n",
       "      <th>adverse_reaction</th>\n",
       "    </tr>\n",
       "  </thead>\n",
       "  <tbody>\n",
       "    <tr>\n",
       "      <th>0</th>\n",
       "      <td>Veronika</td>\n",
       "      <td>Jindrová</td>\n",
       "      <td>7.63</td>\n",
       "      <td>7.20</td>\n",
       "      <td>0.43</td>\n",
       "      <td>auralin</td>\n",
       "      <td>41u</td>\n",
       "      <td>48u</td>\n",
       "      <td>NaN</td>\n",
       "    </tr>\n",
       "    <tr>\n",
       "      <th>1</th>\n",
       "      <td>Skye</td>\n",
       "      <td>Gormanston</td>\n",
       "      <td>7.97</td>\n",
       "      <td>7.62</td>\n",
       "      <td>0.35</td>\n",
       "      <td>auralin</td>\n",
       "      <td>33u</td>\n",
       "      <td>36u</td>\n",
       "      <td>NaN</td>\n",
       "    </tr>\n",
       "    <tr>\n",
       "      <th>2</th>\n",
       "      <td>Sophia</td>\n",
       "      <td>Haugen</td>\n",
       "      <td>7.65</td>\n",
       "      <td>7.27</td>\n",
       "      <td>0.38</td>\n",
       "      <td>auralin</td>\n",
       "      <td>37u</td>\n",
       "      <td>42u</td>\n",
       "      <td>NaN</td>\n",
       "    </tr>\n",
       "    <tr>\n",
       "      <th>3</th>\n",
       "      <td>Eddie</td>\n",
       "      <td>Archer</td>\n",
       "      <td>7.89</td>\n",
       "      <td>7.55</td>\n",
       "      <td>0.34</td>\n",
       "      <td>auralin</td>\n",
       "      <td>31u</td>\n",
       "      <td>38u</td>\n",
       "      <td>NaN</td>\n",
       "    </tr>\n",
       "    <tr>\n",
       "      <th>4</th>\n",
       "      <td>Asia</td>\n",
       "      <td>Woźniak</td>\n",
       "      <td>7.76</td>\n",
       "      <td>7.37</td>\n",
       "      <td>0.39</td>\n",
       "      <td>auralin</td>\n",
       "      <td>30u</td>\n",
       "      <td>36u</td>\n",
       "      <td>NaN</td>\n",
       "    </tr>\n",
       "  </tbody>\n",
       "</table>\n",
       "</div>"
      ],
      "text/plain": [
       "  given_name     surname  hba1c_start  hba1c_end  hba1c_change treatment  \\\n",
       "0   Veronika    Jindrová         7.63       7.20          0.43   auralin   \n",
       "1       Skye  Gormanston         7.97       7.62          0.35   auralin   \n",
       "2     Sophia      Haugen         7.65       7.27          0.38   auralin   \n",
       "3      Eddie      Archer         7.89       7.55          0.34   auralin   \n",
       "4       Asia     Woźniak         7.76       7.37          0.39   auralin   \n",
       "\n",
       "  start_dose end_dose adverse_reaction  \n",
       "0        41u      48u              NaN  \n",
       "1        33u      36u              NaN  \n",
       "2        37u      42u              NaN  \n",
       "3        31u      38u              NaN  \n",
       "4        30u      36u              NaN  "
      ]
     },
     "execution_count": 44,
     "metadata": {},
     "output_type": "execute_result"
    }
   ],
   "source": [
    "# check if name and surname were indeed capitalized\n",
    "treatments_clean.head()"
   ]
  },
  {
   "cell_type": "markdown",
   "id": "8043161f",
   "metadata": {},
   "source": [
    "##### Code:"
   ]
  },
  {
   "cell_type": "code",
   "execution_count": 45,
   "id": "53b009a5",
   "metadata": {},
   "outputs": [],
   "source": [
    "# create a dataframe with name, surname and id\n",
    "id_names = patients_clean[['given_name', 'surname', 'patient_id']]\n",
    "\n",
    "# merge id_names with treatments on given name and surname\n",
    "treatments_clean = treatments_clean.merge(id_names, on=['given_name', 'surname'])\n",
    "\n",
    "# since these columns are duplicated and no longer needed, we can drop them\n",
    "treatments_clean.drop(columns=['given_name', 'surname'], inplace=True)"
   ]
  },
  {
   "cell_type": "markdown",
   "id": "b9b4727c",
   "metadata": {},
   "source": [
    "##### Test:"
   ]
  },
  {
   "cell_type": "code",
   "execution_count": 46,
   "id": "2128cc6d",
   "metadata": {},
   "outputs": [
    {
     "data": {
      "text/html": [
       "<div>\n",
       "<style scoped>\n",
       "    .dataframe tbody tr th:only-of-type {\n",
       "        vertical-align: middle;\n",
       "    }\n",
       "\n",
       "    .dataframe tbody tr th {\n",
       "        vertical-align: top;\n",
       "    }\n",
       "\n",
       "    .dataframe thead th {\n",
       "        text-align: right;\n",
       "    }\n",
       "</style>\n",
       "<table border=\"1\" class=\"dataframe\">\n",
       "  <thead>\n",
       "    <tr style=\"text-align: right;\">\n",
       "      <th></th>\n",
       "      <th>hba1c_start</th>\n",
       "      <th>hba1c_end</th>\n",
       "      <th>hba1c_change</th>\n",
       "      <th>treatment</th>\n",
       "      <th>start_dose</th>\n",
       "      <th>end_dose</th>\n",
       "      <th>adverse_reaction</th>\n",
       "      <th>patient_id</th>\n",
       "    </tr>\n",
       "  </thead>\n",
       "  <tbody>\n",
       "    <tr>\n",
       "      <th>0</th>\n",
       "      <td>7.63</td>\n",
       "      <td>7.20</td>\n",
       "      <td>0.43</td>\n",
       "      <td>auralin</td>\n",
       "      <td>41u</td>\n",
       "      <td>48u</td>\n",
       "      <td>NaN</td>\n",
       "      <td>225</td>\n",
       "    </tr>\n",
       "    <tr>\n",
       "      <th>1</th>\n",
       "      <td>7.97</td>\n",
       "      <td>7.62</td>\n",
       "      <td>0.35</td>\n",
       "      <td>auralin</td>\n",
       "      <td>33u</td>\n",
       "      <td>36u</td>\n",
       "      <td>NaN</td>\n",
       "      <td>242</td>\n",
       "    </tr>\n",
       "    <tr>\n",
       "      <th>2</th>\n",
       "      <td>7.65</td>\n",
       "      <td>7.27</td>\n",
       "      <td>0.38</td>\n",
       "      <td>auralin</td>\n",
       "      <td>37u</td>\n",
       "      <td>42u</td>\n",
       "      <td>NaN</td>\n",
       "      <td>345</td>\n",
       "    </tr>\n",
       "    <tr>\n",
       "      <th>3</th>\n",
       "      <td>7.89</td>\n",
       "      <td>7.55</td>\n",
       "      <td>0.34</td>\n",
       "      <td>auralin</td>\n",
       "      <td>31u</td>\n",
       "      <td>38u</td>\n",
       "      <td>NaN</td>\n",
       "      <td>276</td>\n",
       "    </tr>\n",
       "    <tr>\n",
       "      <th>4</th>\n",
       "      <td>7.76</td>\n",
       "      <td>7.37</td>\n",
       "      <td>0.39</td>\n",
       "      <td>auralin</td>\n",
       "      <td>30u</td>\n",
       "      <td>36u</td>\n",
       "      <td>NaN</td>\n",
       "      <td>15</td>\n",
       "    </tr>\n",
       "  </tbody>\n",
       "</table>\n",
       "</div>"
      ],
      "text/plain": [
       "   hba1c_start  hba1c_end  hba1c_change treatment start_dose end_dose  \\\n",
       "0         7.63       7.20          0.43   auralin        41u      48u   \n",
       "1         7.97       7.62          0.35   auralin        33u      36u   \n",
       "2         7.65       7.27          0.38   auralin        37u      42u   \n",
       "3         7.89       7.55          0.34   auralin        31u      38u   \n",
       "4         7.76       7.37          0.39   auralin        30u      36u   \n",
       "\n",
       "  adverse_reaction  patient_id  \n",
       "0              NaN         225  \n",
       "1              NaN         242  \n",
       "2              NaN         345  \n",
       "3              NaN         276  \n",
       "4              NaN          15  "
      ]
     },
     "execution_count": 46,
     "metadata": {},
     "output_type": "execute_result"
    }
   ],
   "source": [
    "# check to see if given_name and surname were dropped\n",
    "treatments_clean.head()"
   ]
  },
  {
   "cell_type": "code",
   "execution_count": 47,
   "id": "a1a5e88f",
   "metadata": {},
   "outputs": [
    {
     "data": {
      "text/plain": [
       "22    patient_id\n",
       "dtype: object"
      ]
     },
     "execution_count": 47,
     "metadata": {},
     "output_type": "execute_result"
    }
   ],
   "source": [
    "# patient_id should be the only duplicate column\n",
    "all_columns = pd.Series(list(patients_clean) + list(treatments_clean))\n",
    "all_columns[all_columns.duplicated()]"
   ]
  },
  {
   "cell_type": "markdown",
   "id": "f7440d6d",
   "metadata": {},
   "source": [
    "---\n",
    "\n",
    "### Address Quality\n",
    "Once the missing data and tidiness issues are cleaned, all that remains is cleaning the remaining data quality issues.\n",
    "\n",
    "##### `patients` table: \n",
    "- Zip code is a float not a [string](https://stackoverflow.com/questions/893454/is-it-a-good-idea-to-use-an-integer-column-for-storing-us-zip-codes-in-a-databas) (validity issue)\n",
    "- Zip code has four digits sometimes (probably the spreadsheet software recognized the zip code column as a number and supressed the 0 if the zip code started with a 0) (accuracy issue). \n",
    "- Tim Neudorf height is 27 inches instead of 72 inches (accuracy issue)\n",
    "- Full state names sometimes, abbreviations other times (consistency issue)\n",
    "- Dsvid Gustafsson (name typo, patient_id: 9) (accuracy issue)\n",
    "- Erroneus datatypes (`assigned_sex`, `state`, `zip_code`, and `birthdate` columns)\n",
    "- Multiple phone number formats (`contact` column)\n",
    "- Default John Doe data\n",
    "- Multiple records for Jakobsen, Gersten, Taylor\n",
    "- Kgs instead of lbs for patient surname Zaitseva weight (patient_id: 211)\n",
    "- Nulls represented as dashes (-) in auralin and novodra columns\n",
    "\n",
    "##### `treatments` table:\n",
    "- The letter 'u' in starting and ending doses for Auralin and Novodra (validity issue)\n",
    "- Lowercase given names and surnames (since the patients table has the name in uppercase, this will be an issue if you decide to join tables) (consistency issue)\n",
    "- Erroneus datatypes (`auralin` and `novodra` columns)\n",
    "- Inaccurate HbA1c changes \n",
    "\n",
    "##### `adverse_reactions` table:\n",
    "- Lowercase given names and surnames (consistency issue)\n",
    "\n",
    "### Clean\n",
    "\n",
    "#### 3. Quality\n",
    "\n",
    "- `patients`: Zip code is a float not a [string](https://stackoverflow.com/questions/893454/is-it-a-good-idea-to-use-an-integer-column-for-storing-us-zip-codes-in-a-databas) (validity issue)\n",
    "- `patients`: Zip code has four digits sometimes (probably the spreadsheet software recognized the zip code column as a number and supressed the 0 if the zip code started with a 0) (accuracy issue). \n",
    "\n",
    "#####  3.1. Define:\n",
    "First, use astype to convert the zip_code column to string. The '.0' will remain, so use string slicing to remove them. There are some zip codes that start with a zero, but they aren't being displayed. Use zfill to pad the zip codes with only four characters with a leading 0. Finally, use DataFrame.replace and np.nan to convert the NaNs who were converted to string in the beginning back to null values. \n",
    "\n",
    "##### Code:"
   ]
  },
  {
   "cell_type": "code",
   "execution_count": 48,
   "id": "33ae6397",
   "metadata": {},
   "outputs": [
    {
     "name": "stdout",
     "output_type": "stream",
     "text": [
      "<class 'pandas.core.series.Series'>\n",
      "RangeIndex: 503 entries, 0 to 502\n",
      "Series name: zip_code\n",
      "Non-Null Count  Dtype  \n",
      "--------------  -----  \n",
      "491 non-null    float64\n",
      "dtypes: float64(1)\n",
      "memory usage: 4.1 KB\n"
     ]
    }
   ],
   "source": [
    "# check the data type for zip_code\n",
    "patients_clean['zip_code'].info()"
   ]
  },
  {
   "cell_type": "code",
   "execution_count": 49,
   "id": "3162f263",
   "metadata": {},
   "outputs": [],
   "source": [
    "# convert the column to str\n",
    "patients_clean['zip_code'] = patients_clean['zip_code'].astype(str)"
   ]
  },
  {
   "cell_type": "markdown",
   "id": "a6f83de3",
   "metadata": {},
   "source": [
    "##### Test:"
   ]
  },
  {
   "cell_type": "code",
   "execution_count": 50,
   "id": "6b4e61f4",
   "metadata": {},
   "outputs": [
    {
     "name": "stdout",
     "output_type": "stream",
     "text": [
      "<class 'pandas.core.series.Series'>\n",
      "RangeIndex: 503 entries, 0 to 502\n",
      "Series name: zip_code\n",
      "Non-Null Count  Dtype \n",
      "--------------  ----- \n",
      "503 non-null    object\n",
      "dtypes: object(1)\n",
      "memory usage: 4.1+ KB\n"
     ]
    }
   ],
   "source": [
    "# confirm it worked\n",
    "# later, we will have to reconvert the missing values to NaNs\n",
    "patients_clean['zip_code'].info()"
   ]
  },
  {
   "cell_type": "code",
   "execution_count": 51,
   "id": "731a2cd6",
   "metadata": {},
   "outputs": [
    {
     "data": {
      "text/html": [
       "<div>\n",
       "<style scoped>\n",
       "    .dataframe tbody tr th:only-of-type {\n",
       "        vertical-align: middle;\n",
       "    }\n",
       "\n",
       "    .dataframe tbody tr th {\n",
       "        vertical-align: top;\n",
       "    }\n",
       "\n",
       "    .dataframe thead th {\n",
       "        text-align: right;\n",
       "    }\n",
       "</style>\n",
       "<table border=\"1\" class=\"dataframe\">\n",
       "  <thead>\n",
       "    <tr style=\"text-align: right;\">\n",
       "      <th></th>\n",
       "      <th>patient_id</th>\n",
       "      <th>assigned_sex</th>\n",
       "      <th>given_name</th>\n",
       "      <th>surname</th>\n",
       "      <th>address</th>\n",
       "      <th>city</th>\n",
       "      <th>state</th>\n",
       "      <th>zip_code</th>\n",
       "      <th>country</th>\n",
       "      <th>birthdate</th>\n",
       "      <th>weight</th>\n",
       "      <th>height</th>\n",
       "      <th>bmi</th>\n",
       "      <th>phone_number</th>\n",
       "      <th>email</th>\n",
       "    </tr>\n",
       "  </thead>\n",
       "  <tbody>\n",
       "    <tr>\n",
       "      <th>0</th>\n",
       "      <td>1</td>\n",
       "      <td>female</td>\n",
       "      <td>Zoe</td>\n",
       "      <td>Wellish</td>\n",
       "      <td>576 Brown Bear Drive</td>\n",
       "      <td>Rancho California</td>\n",
       "      <td>California</td>\n",
       "      <td>92390.0</td>\n",
       "      <td>United States</td>\n",
       "      <td>7/10/1976</td>\n",
       "      <td>121.7</td>\n",
       "      <td>66</td>\n",
       "      <td>19.6</td>\n",
       "      <td>951-719-9170</td>\n",
       "      <td>zoewellish@superrito.com</td>\n",
       "    </tr>\n",
       "    <tr>\n",
       "      <th>1</th>\n",
       "      <td>2</td>\n",
       "      <td>female</td>\n",
       "      <td>Pamela</td>\n",
       "      <td>Hill</td>\n",
       "      <td>2370 University Hill Road</td>\n",
       "      <td>Armstrong</td>\n",
       "      <td>Illinois</td>\n",
       "      <td>61812.0</td>\n",
       "      <td>United States</td>\n",
       "      <td>4/3/1967</td>\n",
       "      <td>118.8</td>\n",
       "      <td>66</td>\n",
       "      <td>19.2</td>\n",
       "      <td>+1 (217) 569-3204</td>\n",
       "      <td>pamelashill@cuvox.de</td>\n",
       "    </tr>\n",
       "    <tr>\n",
       "      <th>2</th>\n",
       "      <td>3</td>\n",
       "      <td>male</td>\n",
       "      <td>Jae</td>\n",
       "      <td>Debord</td>\n",
       "      <td>1493 Poling Farm Road</td>\n",
       "      <td>York</td>\n",
       "      <td>Nebraska</td>\n",
       "      <td>68467.0</td>\n",
       "      <td>United States</td>\n",
       "      <td>2/19/1980</td>\n",
       "      <td>177.8</td>\n",
       "      <td>71</td>\n",
       "      <td>24.8</td>\n",
       "      <td>402-363-6804</td>\n",
       "      <td>jaemdebord@gustr.com</td>\n",
       "    </tr>\n",
       "    <tr>\n",
       "      <th>3</th>\n",
       "      <td>4</td>\n",
       "      <td>male</td>\n",
       "      <td>Liêm</td>\n",
       "      <td>Phan</td>\n",
       "      <td>2335 Webster Street</td>\n",
       "      <td>Woodbridge</td>\n",
       "      <td>NJ</td>\n",
       "      <td>7095.0</td>\n",
       "      <td>United States</td>\n",
       "      <td>7/26/1951</td>\n",
       "      <td>220.9</td>\n",
       "      <td>70</td>\n",
       "      <td>31.7</td>\n",
       "      <td>+1 (732) 636-8246</td>\n",
       "      <td>phanbaliem@jourrapide.com</td>\n",
       "    </tr>\n",
       "    <tr>\n",
       "      <th>4</th>\n",
       "      <td>5</td>\n",
       "      <td>male</td>\n",
       "      <td>Tim</td>\n",
       "      <td>Neudorf</td>\n",
       "      <td>1428 Turkey Pen Lane</td>\n",
       "      <td>Dothan</td>\n",
       "      <td>AL</td>\n",
       "      <td>36303.0</td>\n",
       "      <td>United States</td>\n",
       "      <td>2/18/1928</td>\n",
       "      <td>192.3</td>\n",
       "      <td>27</td>\n",
       "      <td>26.1</td>\n",
       "      <td>334-515-7487</td>\n",
       "      <td>timneudorf@cuvox.de</td>\n",
       "    </tr>\n",
       "  </tbody>\n",
       "</table>\n",
       "</div>"
      ],
      "text/plain": [
       "   patient_id assigned_sex given_name  surname                    address  \\\n",
       "0           1       female        Zoe  Wellish       576 Brown Bear Drive   \n",
       "1           2       female     Pamela     Hill  2370 University Hill Road   \n",
       "2           3         male        Jae   Debord      1493 Poling Farm Road   \n",
       "3           4         male       Liêm     Phan        2335 Webster Street   \n",
       "4           5         male        Tim  Neudorf       1428 Turkey Pen Lane   \n",
       "\n",
       "                city       state zip_code        country  birthdate  weight  \\\n",
       "0  Rancho California  California  92390.0  United States  7/10/1976   121.7   \n",
       "1          Armstrong    Illinois  61812.0  United States   4/3/1967   118.8   \n",
       "2               York    Nebraska  68467.0  United States  2/19/1980   177.8   \n",
       "3         Woodbridge          NJ   7095.0  United States  7/26/1951   220.9   \n",
       "4             Dothan          AL  36303.0  United States  2/18/1928   192.3   \n",
       "\n",
       "   height   bmi       phone_number                      email  \n",
       "0      66  19.6       951-719-9170   zoewellish@superrito.com  \n",
       "1      66  19.2  +1 (217) 569-3204       pamelashill@cuvox.de  \n",
       "2      71  24.8       402-363-6804       jaemdebord@gustr.com  \n",
       "3      70  31.7  +1 (732) 636-8246  phanbaliem@jourrapide.com  \n",
       "4      27  26.1       334-515-7487        timneudorf@cuvox.de  "
      ]
     },
     "execution_count": 51,
     "metadata": {},
     "output_type": "execute_result"
    }
   ],
   "source": [
    "# the .0 are still showing\n",
    "patients_clean.head()"
   ]
  },
  {
   "cell_type": "markdown",
   "id": "d6ceaf4c",
   "metadata": {},
   "source": [
    "##### Code:"
   ]
  },
  {
   "cell_type": "code",
   "execution_count": 52,
   "id": "8e0c2091",
   "metadata": {},
   "outputs": [],
   "source": [
    "# remove the '.0's using string slicing\n",
    "patients_clean['zip_code'] = patients_clean['zip_code'].str[:-2]"
   ]
  },
  {
   "cell_type": "markdown",
   "id": "2d9fb1e8",
   "metadata": {},
   "source": [
    "##### Test:"
   ]
  },
  {
   "cell_type": "code",
   "execution_count": 53,
   "id": "17e9942e",
   "metadata": {},
   "outputs": [
    {
     "data": {
      "text/html": [
       "<div>\n",
       "<style scoped>\n",
       "    .dataframe tbody tr th:only-of-type {\n",
       "        vertical-align: middle;\n",
       "    }\n",
       "\n",
       "    .dataframe tbody tr th {\n",
       "        vertical-align: top;\n",
       "    }\n",
       "\n",
       "    .dataframe thead th {\n",
       "        text-align: right;\n",
       "    }\n",
       "</style>\n",
       "<table border=\"1\" class=\"dataframe\">\n",
       "  <thead>\n",
       "    <tr style=\"text-align: right;\">\n",
       "      <th></th>\n",
       "      <th>patient_id</th>\n",
       "      <th>assigned_sex</th>\n",
       "      <th>given_name</th>\n",
       "      <th>surname</th>\n",
       "      <th>address</th>\n",
       "      <th>city</th>\n",
       "      <th>state</th>\n",
       "      <th>zip_code</th>\n",
       "      <th>country</th>\n",
       "      <th>birthdate</th>\n",
       "      <th>weight</th>\n",
       "      <th>height</th>\n",
       "      <th>bmi</th>\n",
       "      <th>phone_number</th>\n",
       "      <th>email</th>\n",
       "    </tr>\n",
       "  </thead>\n",
       "  <tbody>\n",
       "    <tr>\n",
       "      <th>0</th>\n",
       "      <td>1</td>\n",
       "      <td>female</td>\n",
       "      <td>Zoe</td>\n",
       "      <td>Wellish</td>\n",
       "      <td>576 Brown Bear Drive</td>\n",
       "      <td>Rancho California</td>\n",
       "      <td>California</td>\n",
       "      <td>92390</td>\n",
       "      <td>United States</td>\n",
       "      <td>7/10/1976</td>\n",
       "      <td>121.7</td>\n",
       "      <td>66</td>\n",
       "      <td>19.6</td>\n",
       "      <td>951-719-9170</td>\n",
       "      <td>zoewellish@superrito.com</td>\n",
       "    </tr>\n",
       "    <tr>\n",
       "      <th>1</th>\n",
       "      <td>2</td>\n",
       "      <td>female</td>\n",
       "      <td>Pamela</td>\n",
       "      <td>Hill</td>\n",
       "      <td>2370 University Hill Road</td>\n",
       "      <td>Armstrong</td>\n",
       "      <td>Illinois</td>\n",
       "      <td>61812</td>\n",
       "      <td>United States</td>\n",
       "      <td>4/3/1967</td>\n",
       "      <td>118.8</td>\n",
       "      <td>66</td>\n",
       "      <td>19.2</td>\n",
       "      <td>+1 (217) 569-3204</td>\n",
       "      <td>pamelashill@cuvox.de</td>\n",
       "    </tr>\n",
       "    <tr>\n",
       "      <th>2</th>\n",
       "      <td>3</td>\n",
       "      <td>male</td>\n",
       "      <td>Jae</td>\n",
       "      <td>Debord</td>\n",
       "      <td>1493 Poling Farm Road</td>\n",
       "      <td>York</td>\n",
       "      <td>Nebraska</td>\n",
       "      <td>68467</td>\n",
       "      <td>United States</td>\n",
       "      <td>2/19/1980</td>\n",
       "      <td>177.8</td>\n",
       "      <td>71</td>\n",
       "      <td>24.8</td>\n",
       "      <td>402-363-6804</td>\n",
       "      <td>jaemdebord@gustr.com</td>\n",
       "    </tr>\n",
       "    <tr>\n",
       "      <th>3</th>\n",
       "      <td>4</td>\n",
       "      <td>male</td>\n",
       "      <td>Liêm</td>\n",
       "      <td>Phan</td>\n",
       "      <td>2335 Webster Street</td>\n",
       "      <td>Woodbridge</td>\n",
       "      <td>NJ</td>\n",
       "      <td>7095</td>\n",
       "      <td>United States</td>\n",
       "      <td>7/26/1951</td>\n",
       "      <td>220.9</td>\n",
       "      <td>70</td>\n",
       "      <td>31.7</td>\n",
       "      <td>+1 (732) 636-8246</td>\n",
       "      <td>phanbaliem@jourrapide.com</td>\n",
       "    </tr>\n",
       "    <tr>\n",
       "      <th>4</th>\n",
       "      <td>5</td>\n",
       "      <td>male</td>\n",
       "      <td>Tim</td>\n",
       "      <td>Neudorf</td>\n",
       "      <td>1428 Turkey Pen Lane</td>\n",
       "      <td>Dothan</td>\n",
       "      <td>AL</td>\n",
       "      <td>36303</td>\n",
       "      <td>United States</td>\n",
       "      <td>2/18/1928</td>\n",
       "      <td>192.3</td>\n",
       "      <td>27</td>\n",
       "      <td>26.1</td>\n",
       "      <td>334-515-7487</td>\n",
       "      <td>timneudorf@cuvox.de</td>\n",
       "    </tr>\n",
       "  </tbody>\n",
       "</table>\n",
       "</div>"
      ],
      "text/plain": [
       "   patient_id assigned_sex given_name  surname                    address  \\\n",
       "0           1       female        Zoe  Wellish       576 Brown Bear Drive   \n",
       "1           2       female     Pamela     Hill  2370 University Hill Road   \n",
       "2           3         male        Jae   Debord      1493 Poling Farm Road   \n",
       "3           4         male       Liêm     Phan        2335 Webster Street   \n",
       "4           5         male        Tim  Neudorf       1428 Turkey Pen Lane   \n",
       "\n",
       "                city       state zip_code        country  birthdate  weight  \\\n",
       "0  Rancho California  California    92390  United States  7/10/1976   121.7   \n",
       "1          Armstrong    Illinois    61812  United States   4/3/1967   118.8   \n",
       "2               York    Nebraska    68467  United States  2/19/1980   177.8   \n",
       "3         Woodbridge          NJ     7095  United States  7/26/1951   220.9   \n",
       "4             Dothan          AL    36303  United States  2/18/1928   192.3   \n",
       "\n",
       "   height   bmi       phone_number                      email  \n",
       "0      66  19.6       951-719-9170   zoewellish@superrito.com  \n",
       "1      66  19.2  +1 (217) 569-3204       pamelashill@cuvox.de  \n",
       "2      71  24.8       402-363-6804       jaemdebord@gustr.com  \n",
       "3      70  31.7  +1 (732) 636-8246  phanbaliem@jourrapide.com  \n",
       "4      27  26.1       334-515-7487        timneudorf@cuvox.de  "
      ]
     },
     "execution_count": 53,
     "metadata": {},
     "output_type": "execute_result"
    }
   ],
   "source": [
    "# confirm it worked\n",
    "patients_clean.head()"
   ]
  },
  {
   "cell_type": "markdown",
   "id": "4f96c63e",
   "metadata": {},
   "source": [
    "##### Code:"
   ]
  },
  {
   "cell_type": "code",
   "execution_count": 54,
   "id": "dc9a1985",
   "metadata": {},
   "outputs": [
    {
     "data": {
      "text/plain": [
       "61"
      ]
     },
     "execution_count": 54,
     "metadata": {},
     "output_type": "execute_result"
    }
   ],
   "source": [
    "# check how many zip_codes need to be padded with a leading 0\n",
    "patients_clean.query('zip_code.str.len() < 5')['zip_code'].count()"
   ]
  },
  {
   "cell_type": "code",
   "execution_count": 55,
   "id": "7a6bdb30",
   "metadata": {},
   "outputs": [],
   "source": [
    "# pad the entries with fewer than 5 characters with a leading 0\n",
    "patients_clean['zip_code'] = patients_clean['zip_code'].str.zfill(5)"
   ]
  },
  {
   "cell_type": "markdown",
   "id": "13cd48b9",
   "metadata": {},
   "source": [
    "##### Test:"
   ]
  },
  {
   "cell_type": "code",
   "execution_count": 56,
   "id": "64a9a25d",
   "metadata": {},
   "outputs": [
    {
     "data": {
      "text/plain": [
       "0"
      ]
     },
     "execution_count": 56,
     "metadata": {},
     "output_type": "execute_result"
    }
   ],
   "source": [
    "# confirm it worked\n",
    "patients_clean.query('zip_code.str.len() < 5')['zip_code'].count()"
   ]
  },
  {
   "cell_type": "code",
   "execution_count": 57,
   "id": "91942be7",
   "metadata": {},
   "outputs": [
    {
     "data": {
      "text/plain": [
       "249    0000n\n",
       "264    0000n\n",
       "269    0000n\n",
       "278    0000n\n",
       "242    0000n\n",
       "Name: zip_code, dtype: object"
      ]
     },
     "execution_count": 57,
     "metadata": {},
     "output_type": "execute_result"
    }
   ],
   "source": [
    "# these \"0000n\" will need to go back to NaNs\n",
    "patients_clean['zip_code'].sort_values().head()"
   ]
  },
  {
   "cell_type": "markdown",
   "id": "3ca55d4e",
   "metadata": {},
   "source": [
    "##### Code:"
   ]
  },
  {
   "cell_type": "code",
   "execution_count": 58,
   "id": "90cf3b87",
   "metadata": {},
   "outputs": [],
   "source": [
    "# replace '0000n' with NaN using np.nan\n",
    "patients_clean['zip_code'] = patients_clean['zip_code'].replace('0000n', np.nan)"
   ]
  },
  {
   "cell_type": "markdown",
   "id": "3795de38",
   "metadata": {},
   "source": [
    "##### Test:"
   ]
  },
  {
   "cell_type": "code",
   "execution_count": 59,
   "id": "cb41ad20",
   "metadata": {},
   "outputs": [
    {
     "data": {
      "text/plain": [
       "316    01002\n",
       "38     01581\n",
       "290    01730\n",
       "252    01730\n",
       "167    01730\n",
       "Name: zip_code, dtype: object"
      ]
     },
     "execution_count": 59,
     "metadata": {},
     "output_type": "execute_result"
    }
   ],
   "source": [
    "# check to see if it worked\n",
    "patients_clean['zip_code'].sort_values().head()"
   ]
  },
  {
   "cell_type": "code",
   "execution_count": 60,
   "id": "9ba93d29",
   "metadata": {},
   "outputs": [
    {
     "name": "stdout",
     "output_type": "stream",
     "text": [
      "<class 'pandas.core.series.Series'>\n",
      "RangeIndex: 503 entries, 0 to 502\n",
      "Series name: zip_code\n",
      "Non-Null Count  Dtype \n",
      "--------------  ----- \n",
      "491 non-null    object\n",
      "dtypes: object(1)\n",
      "memory usage: 4.1+ KB\n"
     ]
    }
   ],
   "source": [
    "# confirm there are still 12 null values\n",
    "patients_clean['zip_code'].info()"
   ]
  },
  {
   "cell_type": "markdown",
   "id": "0549df6a",
   "metadata": {},
   "source": [
    "---\n",
    "\n",
    "#### `patients`: Tim Neudorf height is 27 inches instead of 72 inches (accuracy issue)\n",
    "\n",
    "##### 3.2. Define: \n",
    "Use [`DataFrame.at`](https://pandas.pydata.org/docs/reference/api/pandas.DataFrame.at.html) to access the height for Tim Neudorf (iloc 4) and change it to 72. \n",
    "\n",
    "##### Code:"
   ]
  },
  {
   "cell_type": "code",
   "execution_count": 61,
   "id": "d6a6baa8",
   "metadata": {},
   "outputs": [
    {
     "data": {
      "text/html": [
       "<div>\n",
       "<style scoped>\n",
       "    .dataframe tbody tr th:only-of-type {\n",
       "        vertical-align: middle;\n",
       "    }\n",
       "\n",
       "    .dataframe tbody tr th {\n",
       "        vertical-align: top;\n",
       "    }\n",
       "\n",
       "    .dataframe thead th {\n",
       "        text-align: right;\n",
       "    }\n",
       "</style>\n",
       "<table border=\"1\" class=\"dataframe\">\n",
       "  <thead>\n",
       "    <tr style=\"text-align: right;\">\n",
       "      <th></th>\n",
       "      <th>patient_id</th>\n",
       "      <th>assigned_sex</th>\n",
       "      <th>given_name</th>\n",
       "      <th>surname</th>\n",
       "      <th>address</th>\n",
       "      <th>city</th>\n",
       "      <th>state</th>\n",
       "      <th>zip_code</th>\n",
       "      <th>country</th>\n",
       "      <th>birthdate</th>\n",
       "      <th>weight</th>\n",
       "      <th>height</th>\n",
       "      <th>bmi</th>\n",
       "      <th>phone_number</th>\n",
       "      <th>email</th>\n",
       "    </tr>\n",
       "  </thead>\n",
       "  <tbody>\n",
       "    <tr>\n",
       "      <th>4</th>\n",
       "      <td>5</td>\n",
       "      <td>male</td>\n",
       "      <td>Tim</td>\n",
       "      <td>Neudorf</td>\n",
       "      <td>1428 Turkey Pen Lane</td>\n",
       "      <td>Dothan</td>\n",
       "      <td>AL</td>\n",
       "      <td>36303</td>\n",
       "      <td>United States</td>\n",
       "      <td>2/18/1928</td>\n",
       "      <td>192.3</td>\n",
       "      <td>27</td>\n",
       "      <td>26.1</td>\n",
       "      <td>334-515-7487</td>\n",
       "      <td>timneudorf@cuvox.de</td>\n",
       "    </tr>\n",
       "  </tbody>\n",
       "</table>\n",
       "</div>"
      ],
      "text/plain": [
       "   patient_id assigned_sex given_name  surname               address    city  \\\n",
       "4           5         male        Tim  Neudorf  1428 Turkey Pen Lane  Dothan   \n",
       "\n",
       "  state zip_code        country  birthdate  weight  height   bmi  \\\n",
       "4    AL    36303  United States  2/18/1928   192.3      27  26.1   \n",
       "\n",
       "   phone_number                email  \n",
       "4  334-515-7487  timneudorf@cuvox.de  "
      ]
     },
     "execution_count": 61,
     "metadata": {},
     "output_type": "execute_result"
    }
   ],
   "source": [
    "# display height for Tim Neudorf\n",
    "patients_clean.query('surname == \"Neudorf\"')"
   ]
  },
  {
   "cell_type": "markdown",
   "id": "100d8f3c",
   "metadata": {},
   "source": [
    "Note: acesssing a single value in a row/column pair using [`DataFrame.at`](https://pandas.pydata.org/docs/reference/api/pandas.DataFrame.at.html)"
   ]
  },
  {
   "cell_type": "code",
   "execution_count": 62,
   "id": "e835115c",
   "metadata": {},
   "outputs": [],
   "source": [
    "# change it to 72\n",
    "patients_clean.at[4, 'height'] = 72"
   ]
  },
  {
   "cell_type": "markdown",
   "id": "e3fa9c62",
   "metadata": {},
   "source": [
    "##### Test:"
   ]
  },
  {
   "cell_type": "code",
   "execution_count": 63,
   "id": "51848522",
   "metadata": {},
   "outputs": [
    {
     "data": {
      "text/html": [
       "<div>\n",
       "<style scoped>\n",
       "    .dataframe tbody tr th:only-of-type {\n",
       "        vertical-align: middle;\n",
       "    }\n",
       "\n",
       "    .dataframe tbody tr th {\n",
       "        vertical-align: top;\n",
       "    }\n",
       "\n",
       "    .dataframe thead th {\n",
       "        text-align: right;\n",
       "    }\n",
       "</style>\n",
       "<table border=\"1\" class=\"dataframe\">\n",
       "  <thead>\n",
       "    <tr style=\"text-align: right;\">\n",
       "      <th></th>\n",
       "      <th>patient_id</th>\n",
       "      <th>assigned_sex</th>\n",
       "      <th>given_name</th>\n",
       "      <th>surname</th>\n",
       "      <th>address</th>\n",
       "      <th>city</th>\n",
       "      <th>state</th>\n",
       "      <th>zip_code</th>\n",
       "      <th>country</th>\n",
       "      <th>birthdate</th>\n",
       "      <th>weight</th>\n",
       "      <th>height</th>\n",
       "      <th>bmi</th>\n",
       "      <th>phone_number</th>\n",
       "      <th>email</th>\n",
       "    </tr>\n",
       "  </thead>\n",
       "  <tbody>\n",
       "    <tr>\n",
       "      <th>4</th>\n",
       "      <td>5</td>\n",
       "      <td>male</td>\n",
       "      <td>Tim</td>\n",
       "      <td>Neudorf</td>\n",
       "      <td>1428 Turkey Pen Lane</td>\n",
       "      <td>Dothan</td>\n",
       "      <td>AL</td>\n",
       "      <td>36303</td>\n",
       "      <td>United States</td>\n",
       "      <td>2/18/1928</td>\n",
       "      <td>192.3</td>\n",
       "      <td>72</td>\n",
       "      <td>26.1</td>\n",
       "      <td>334-515-7487</td>\n",
       "      <td>timneudorf@cuvox.de</td>\n",
       "    </tr>\n",
       "  </tbody>\n",
       "</table>\n",
       "</div>"
      ],
      "text/plain": [
       "   patient_id assigned_sex given_name  surname               address    city  \\\n",
       "4           5         male        Tim  Neudorf  1428 Turkey Pen Lane  Dothan   \n",
       "\n",
       "  state zip_code        country  birthdate  weight  height   bmi  \\\n",
       "4    AL    36303  United States  2/18/1928   192.3      72  26.1   \n",
       "\n",
       "   phone_number                email  \n",
       "4  334-515-7487  timneudorf@cuvox.de  "
      ]
     },
     "execution_count": 63,
     "metadata": {},
     "output_type": "execute_result"
    }
   ],
   "source": [
    "# confirm it worked\n",
    "patients_clean.query('surname == \"Neudorf\"')"
   ]
  },
  {
   "cell_type": "code",
   "execution_count": 64,
   "id": "97e0bf64",
   "metadata": {},
   "outputs": [
    {
     "data": {
      "text/plain": [
       "patient_id                         5\n",
       "assigned_sex                    male\n",
       "given_name                       Tim\n",
       "surname                      Neudorf\n",
       "address         1428 Turkey Pen Lane\n",
       "city                          Dothan\n",
       "state                             AL\n",
       "zip_code                       36303\n",
       "country                United States\n",
       "birthdate                  2/18/1928\n",
       "weight                         192.3\n",
       "height                            72\n",
       "bmi                             26.1\n",
       "phone_number            334-515-7487\n",
       "email            timneudorf@cuvox.de\n",
       "Name: 4, dtype: object"
      ]
     },
     "execution_count": 64,
     "metadata": {},
     "output_type": "execute_result"
    }
   ],
   "source": [
    "# confirm it worked\n",
    "patients_clean.iloc[4]"
   ]
  },
  {
   "cell_type": "markdown",
   "id": "d6008aaa",
   "metadata": {},
   "source": [
    "---\n",
    "\n",
    "#### Full state names sometimes, abbreviations other times\n",
    "\n",
    "##### 3.3. Define: \n",
    "\n",
    "Find out which states are represented by their full name. Then, create a dictionary with these states. After that, create a function to later apply to the whole column. The logic is that, if the state is one of the keys in the dict (their full name), then change it to the abbreviation. If not, leave the entry untouched. Finally, use [`df.apply`](https://pandas.pydata.org/docs/reference/api/pandas.DataFrame.apply.html) to apply the function to the `state` column.\n",
    "\n",
    "##### Code:"
   ]
  },
  {
   "cell_type": "code",
   "execution_count": 65,
   "id": "c2ceaa8b",
   "metadata": {},
   "outputs": [
    {
     "data": {
      "text/plain": [
       "array(['California', 'Illinois', 'Nebraska', 'NJ', 'AL', 'Florida', 'NV',\n",
       "       'CA', 'MO', 'New York', 'MI', 'TN', 'VA', 'OK', 'GA', 'MT', 'MA',\n",
       "       'NY', 'NM', 'IL', 'LA', 'PA', 'CO', 'ME', 'WI', 'SD', 'MN', 'FL',\n",
       "       'WY', 'OH', 'IA', 'NC', 'IN', 'CT', 'KY', 'DE', 'MD', 'AZ', 'TX',\n",
       "       'NE', 'AK', 'ND', 'KS', 'MS', 'WA', 'SC', 'WV', 'RI', 'NH', 'OR',\n",
       "       nan, 'VT', 'ID', 'DC', 'AR'], dtype=object)"
      ]
     },
     "execution_count": 65,
     "metadata": {},
     "output_type": "execute_result"
    }
   ],
   "source": [
    "# check which states are represented by their full name\n",
    "patients_clean['state'].unique()"
   ]
  },
  {
   "cell_type": "code",
   "execution_count": 66,
   "id": "c75052fa",
   "metadata": {},
   "outputs": [],
   "source": [
    "# create a dict with these states\n",
    "state_abbrev = {'California': 'CA',\n",
    "                'Illinois': 'IL',\n",
    "                'Nebraska': 'NE',\n",
    "                'Florida': 'FL',\n",
    "                'New York': 'NY'}\n",
    "\n",
    "# create a function to apply to the column\n",
    "def abbreviate_state(df):\n",
    "    if df['state'] in state_abbrev.keys():\n",
    "        abbrev = state_abbrev[df['state']]\n",
    "        return abbrev\n",
    "    else:\n",
    "        return df['state']\n",
    "\n",
    "# apply function\n",
    "patients_clean['state'] = patients_clean.apply(abbreviate_state, axis=1)"
   ]
  },
  {
   "cell_type": "markdown",
   "id": "1315ca0c",
   "metadata": {},
   "source": [
    "##### Test:"
   ]
  },
  {
   "cell_type": "code",
   "execution_count": 67,
   "id": "67be233e",
   "metadata": {},
   "outputs": [
    {
     "data": {
      "text/plain": [
       "array(['CA', 'IL', 'NE', 'NJ', 'AL', 'FL', 'NV', 'MO', 'NY', 'MI', 'TN',\n",
       "       'VA', 'OK', 'GA', 'MT', 'MA', 'NM', 'LA', 'PA', 'CO', 'ME', 'WI',\n",
       "       'SD', 'MN', 'WY', 'OH', 'IA', 'NC', 'IN', 'CT', 'KY', 'DE', 'MD',\n",
       "       'AZ', 'TX', 'AK', 'ND', 'KS', 'MS', 'WA', 'SC', 'WV', 'RI', 'NH',\n",
       "       'OR', nan, 'VT', 'ID', 'DC', 'AR'], dtype=object)"
      ]
     },
     "execution_count": 67,
     "metadata": {},
     "output_type": "execute_result"
    }
   ],
   "source": [
    "# there are no more full name states\n",
    "patients_clean['state'].unique()"
   ]
  },
  {
   "cell_type": "markdown",
   "id": "a460507c",
   "metadata": {},
   "source": [
    "---\n",
    "\n",
    "#### `patients`: Dsvid Gustafsson (name typo, patient_id: 9) (accuracy issue)\n",
    "\n",
    "##### 3.4. Define: \n",
    "Use [`pd.series.at`](https://pandas.pydata.org/docs/reference/api/pandas.Series.at.html) to correct David's given name\n",
    "\n",
    "##### Code:"
   ]
  },
  {
   "cell_type": "code",
   "execution_count": 68,
   "id": "ed6a3fc0",
   "metadata": {},
   "outputs": [],
   "source": [
    "# use pd.series.at to correct David's given name\n",
    "patients_clean.at[8, 'given_name'] = 'David'"
   ]
  },
  {
   "cell_type": "markdown",
   "id": "7b965d10",
   "metadata": {},
   "source": [
    "##### Test:"
   ]
  },
  {
   "cell_type": "code",
   "execution_count": 69,
   "id": "da003eb9",
   "metadata": {},
   "outputs": [
    {
     "data": {
      "text/html": [
       "<div>\n",
       "<style scoped>\n",
       "    .dataframe tbody tr th:only-of-type {\n",
       "        vertical-align: middle;\n",
       "    }\n",
       "\n",
       "    .dataframe tbody tr th {\n",
       "        vertical-align: top;\n",
       "    }\n",
       "\n",
       "    .dataframe thead th {\n",
       "        text-align: right;\n",
       "    }\n",
       "</style>\n",
       "<table border=\"1\" class=\"dataframe\">\n",
       "  <thead>\n",
       "    <tr style=\"text-align: right;\">\n",
       "      <th></th>\n",
       "      <th>patient_id</th>\n",
       "      <th>assigned_sex</th>\n",
       "      <th>given_name</th>\n",
       "      <th>surname</th>\n",
       "      <th>address</th>\n",
       "      <th>city</th>\n",
       "      <th>state</th>\n",
       "      <th>zip_code</th>\n",
       "      <th>country</th>\n",
       "      <th>birthdate</th>\n",
       "      <th>weight</th>\n",
       "      <th>height</th>\n",
       "      <th>bmi</th>\n",
       "      <th>phone_number</th>\n",
       "      <th>email</th>\n",
       "    </tr>\n",
       "  </thead>\n",
       "  <tbody>\n",
       "    <tr>\n",
       "      <th>8</th>\n",
       "      <td>9</td>\n",
       "      <td>male</td>\n",
       "      <td>David</td>\n",
       "      <td>Gustafsson</td>\n",
       "      <td>1790 Nutter Street</td>\n",
       "      <td>Kansas City</td>\n",
       "      <td>MO</td>\n",
       "      <td>64105</td>\n",
       "      <td>United States</td>\n",
       "      <td>3/6/1937</td>\n",
       "      <td>163.9</td>\n",
       "      <td>66</td>\n",
       "      <td>26.5</td>\n",
       "      <td>816-265-9578</td>\n",
       "      <td>davidgustafsson@armyspy.com</td>\n",
       "    </tr>\n",
       "  </tbody>\n",
       "</table>\n",
       "</div>"
      ],
      "text/plain": [
       "   patient_id assigned_sex given_name     surname             address  \\\n",
       "8           9         male      David  Gustafsson  1790 Nutter Street   \n",
       "\n",
       "          city state zip_code        country birthdate  weight  height   bmi  \\\n",
       "8  Kansas City    MO    64105  United States  3/6/1937   163.9      66  26.5   \n",
       "\n",
       "   phone_number                        email  \n",
       "8  816-265-9578  davidgustafsson@armyspy.com  "
      ]
     },
     "execution_count": 69,
     "metadata": {},
     "output_type": "execute_result"
    }
   ],
   "source": [
    "# confirm it worked\n",
    "patients_clean.query('surname == \"Gustafsson\"')"
   ]
  },
  {
   "cell_type": "code",
   "execution_count": 70,
   "id": "35ccba59",
   "metadata": {},
   "outputs": [
    {
     "data": {
      "text/plain": [
       "patient_id                                9\n",
       "assigned_sex                           male\n",
       "given_name                            David\n",
       "surname                          Gustafsson\n",
       "address                  1790 Nutter Street\n",
       "city                            Kansas City\n",
       "state                                    MO\n",
       "zip_code                              64105\n",
       "country                       United States\n",
       "birthdate                          3/6/1937\n",
       "weight                                163.9\n",
       "height                                   66\n",
       "bmi                                    26.5\n",
       "phone_number                   816-265-9578\n",
       "email           davidgustafsson@armyspy.com\n",
       "Name: 8, dtype: object"
      ]
     },
     "execution_count": 70,
     "metadata": {},
     "output_type": "execute_result"
    }
   ],
   "source": [
    "# confirm it worked\n",
    "patients_clean.iloc[8]"
   ]
  },
  {
   "cell_type": "markdown",
   "id": "489d76fe",
   "metadata": {},
   "source": [
    "---\n",
    "#### `patients`: erroneus datatypes (`assigned_sex`, `state`, `zip_code`, and `birthdate` columns)\n",
    "\n",
    "##### 3.5. Define:\n",
    "\n",
    "- `patients['assigned_sex']`: Use [`pd.Series.astype`](https://pandas.pydata.org/docs/reference/api/pandas.Series.astype.html) to change the column's dtype to `category`. \n",
    "- `patients['state']`: Use [`pd.Series.astype`](https://pandas.pydata.org/docs/reference/api/pandas.Series.astype.html) to change the column's dtype to `category`. \n",
    "- `patients['zip_code']`: Zip code was already addressed in item 3.1. \n",
    "- `patients['birthdate']`: Use [`pd.to_datetime`](https://pandas.pydata.org/docs/reference/api/pandas.to_datetime.html) to change the column's dtype to `datetime`. \n",
    "\n",
    "##### Code:"
   ]
  },
  {
   "cell_type": "code",
   "execution_count": 71,
   "id": "c24fcd63",
   "metadata": {},
   "outputs": [
    {
     "data": {
      "text/plain": [
       "array(['female', 'male'], dtype=object)"
      ]
     },
     "execution_count": 71,
     "metadata": {},
     "output_type": "execute_result"
    }
   ],
   "source": [
    "# check which dtype 'assigned_sex' currently has\n",
    "patients_clean['assigned_sex'].unique()"
   ]
  },
  {
   "cell_type": "code",
   "execution_count": 72,
   "id": "df4ee08e",
   "metadata": {},
   "outputs": [],
   "source": [
    "# use pd.series.astype to change it to 'category'\n",
    "patients_clean['assigned_sex'] = patients_clean['assigned_sex'].astype('category')"
   ]
  },
  {
   "cell_type": "markdown",
   "id": "6407a926",
   "metadata": {},
   "source": [
    "##### Test:"
   ]
  },
  {
   "cell_type": "code",
   "execution_count": 73,
   "id": "30ca1e43",
   "metadata": {},
   "outputs": [
    {
     "name": "stdout",
     "output_type": "stream",
     "text": [
      "<class 'pandas.core.series.Series'>\n",
      "RangeIndex: 503 entries, 0 to 502\n",
      "Series name: assigned_sex\n",
      "Non-Null Count  Dtype   \n",
      "--------------  -----   \n",
      "503 non-null    category\n",
      "dtypes: category(1)\n",
      "memory usage: 755.0 bytes\n"
     ]
    }
   ],
   "source": [
    "# check to see if it worked\n",
    "patients_clean['assigned_sex'].info()"
   ]
  },
  {
   "cell_type": "code",
   "execution_count": 74,
   "id": "651acc36",
   "metadata": {},
   "outputs": [
    {
     "data": {
      "text/plain": [
       "['female', 'male']\n",
       "Categories (2, object): ['female', 'male']"
      ]
     },
     "execution_count": 74,
     "metadata": {},
     "output_type": "execute_result"
    }
   ],
   "source": [
    "# check to see if it worked\n",
    "patients_clean['assigned_sex'].unique()"
   ]
  },
  {
   "cell_type": "markdown",
   "id": "a7bee02d",
   "metadata": {},
   "source": [
    "##### Code:"
   ]
  },
  {
   "cell_type": "code",
   "execution_count": 75,
   "id": "50f5f0ee",
   "metadata": {},
   "outputs": [
    {
     "data": {
      "text/plain": [
       "array(['CA', 'IL', 'NE', 'NJ', 'AL', 'FL', 'NV', 'MO', 'NY', 'MI', 'TN',\n",
       "       'VA', 'OK', 'GA', 'MT', 'MA', 'NM', 'LA', 'PA', 'CO', 'ME', 'WI',\n",
       "       'SD', 'MN', 'WY', 'OH', 'IA', 'NC', 'IN', 'CT', 'KY', 'DE', 'MD',\n",
       "       'AZ', 'TX', 'AK', 'ND', 'KS', 'MS', 'WA', 'SC', 'WV', 'RI', 'NH',\n",
       "       'OR', nan, 'VT', 'ID', 'DC', 'AR'], dtype=object)"
      ]
     },
     "execution_count": 75,
     "metadata": {},
     "output_type": "execute_result"
    }
   ],
   "source": [
    "# check which dtype 'state' currently has\n",
    "patients_clean['state'].unique()"
   ]
  },
  {
   "cell_type": "code",
   "execution_count": 76,
   "id": "4da018fd",
   "metadata": {},
   "outputs": [],
   "source": [
    "# use pd.series.astype to change it to 'category'\n",
    "patients_clean['state'] = patients_clean['state'].astype('category')"
   ]
  },
  {
   "cell_type": "markdown",
   "id": "c3e988e6",
   "metadata": {},
   "source": [
    "##### Test:"
   ]
  },
  {
   "cell_type": "code",
   "execution_count": 77,
   "id": "8a94901b",
   "metadata": {},
   "outputs": [
    {
     "name": "stdout",
     "output_type": "stream",
     "text": [
      "<class 'pandas.core.series.Series'>\n",
      "RangeIndex: 503 entries, 0 to 502\n",
      "Series name: state\n",
      "Non-Null Count  Dtype   \n",
      "--------------  -----   \n",
      "491 non-null    category\n",
      "dtypes: category(1)\n",
      "memory usage: 2.0 KB\n"
     ]
    }
   ],
   "source": [
    "# check to see if it worked\n",
    "patients_clean['state'].info()"
   ]
  },
  {
   "cell_type": "code",
   "execution_count": 78,
   "id": "e57094d2",
   "metadata": {},
   "outputs": [
    {
     "data": {
      "text/plain": [
       "['CA', 'IL', 'NE', 'NJ', 'AL', ..., NaN, 'VT', 'ID', 'DC', 'AR']\n",
       "Length: 50\n",
       "Categories (49, object): ['AK', 'AL', 'AR', 'AZ', ..., 'WA', 'WI', 'WV', 'WY']"
      ]
     },
     "execution_count": 78,
     "metadata": {},
     "output_type": "execute_result"
    }
   ],
   "source": [
    "# check to see if it worked\n",
    "patients_clean['state'].unique()"
   ]
  },
  {
   "cell_type": "markdown",
   "id": "534b8770",
   "metadata": {},
   "source": [
    "##### Code:"
   ]
  },
  {
   "cell_type": "code",
   "execution_count": 79,
   "id": "04ffe233",
   "metadata": {},
   "outputs": [
    {
     "name": "stdout",
     "output_type": "stream",
     "text": [
      "<class 'pandas.core.series.Series'>\n",
      "RangeIndex: 503 entries, 0 to 502\n",
      "Series name: birthdate\n",
      "Non-Null Count  Dtype \n",
      "--------------  ----- \n",
      "503 non-null    object\n",
      "dtypes: object(1)\n",
      "memory usage: 4.1+ KB\n"
     ]
    }
   ],
   "source": [
    "# check which dtype 'birthdate' currently has\n",
    "patients_clean['birthdate'].info()"
   ]
  },
  {
   "cell_type": "code",
   "execution_count": 80,
   "id": "03cc9e66",
   "metadata": {},
   "outputs": [],
   "source": [
    "# use pd.to_datetime to convert the column to datetime\n",
    "patients_clean['birthdate'] = pd.to_datetime(patients_clean['birthdate'])"
   ]
  },
  {
   "cell_type": "markdown",
   "id": "f7bdc338",
   "metadata": {},
   "source": [
    "##### Test:"
   ]
  },
  {
   "cell_type": "code",
   "execution_count": 81,
   "id": "eb2c08c1",
   "metadata": {},
   "outputs": [
    {
     "name": "stdout",
     "output_type": "stream",
     "text": [
      "<class 'pandas.core.series.Series'>\n",
      "RangeIndex: 503 entries, 0 to 502\n",
      "Series name: birthdate\n",
      "Non-Null Count  Dtype         \n",
      "--------------  -----         \n",
      "503 non-null    datetime64[ns]\n",
      "dtypes: datetime64[ns](1)\n",
      "memory usage: 4.1 KB\n"
     ]
    }
   ],
   "source": [
    "# check to see if it worked\n",
    "patients_clean['birthdate'].info()"
   ]
  },
  {
   "cell_type": "code",
   "execution_count": 82,
   "id": "f0c79e60",
   "metadata": {},
   "outputs": [
    {
     "data": {
      "text/html": [
       "<div>\n",
       "<style scoped>\n",
       "    .dataframe tbody tr th:only-of-type {\n",
       "        vertical-align: middle;\n",
       "    }\n",
       "\n",
       "    .dataframe tbody tr th {\n",
       "        vertical-align: top;\n",
       "    }\n",
       "\n",
       "    .dataframe thead th {\n",
       "        text-align: right;\n",
       "    }\n",
       "</style>\n",
       "<table border=\"1\" class=\"dataframe\">\n",
       "  <thead>\n",
       "    <tr style=\"text-align: right;\">\n",
       "      <th></th>\n",
       "      <th>patient_id</th>\n",
       "      <th>assigned_sex</th>\n",
       "      <th>given_name</th>\n",
       "      <th>surname</th>\n",
       "      <th>address</th>\n",
       "      <th>city</th>\n",
       "      <th>state</th>\n",
       "      <th>zip_code</th>\n",
       "      <th>country</th>\n",
       "      <th>birthdate</th>\n",
       "      <th>weight</th>\n",
       "      <th>height</th>\n",
       "      <th>bmi</th>\n",
       "      <th>phone_number</th>\n",
       "      <th>email</th>\n",
       "    </tr>\n",
       "  </thead>\n",
       "  <tbody>\n",
       "    <tr>\n",
       "      <th>0</th>\n",
       "      <td>1</td>\n",
       "      <td>female</td>\n",
       "      <td>Zoe</td>\n",
       "      <td>Wellish</td>\n",
       "      <td>576 Brown Bear Drive</td>\n",
       "      <td>Rancho California</td>\n",
       "      <td>CA</td>\n",
       "      <td>92390</td>\n",
       "      <td>United States</td>\n",
       "      <td>1976-07-10</td>\n",
       "      <td>121.7</td>\n",
       "      <td>66</td>\n",
       "      <td>19.6</td>\n",
       "      <td>951-719-9170</td>\n",
       "      <td>zoewellish@superrito.com</td>\n",
       "    </tr>\n",
       "    <tr>\n",
       "      <th>1</th>\n",
       "      <td>2</td>\n",
       "      <td>female</td>\n",
       "      <td>Pamela</td>\n",
       "      <td>Hill</td>\n",
       "      <td>2370 University Hill Road</td>\n",
       "      <td>Armstrong</td>\n",
       "      <td>IL</td>\n",
       "      <td>61812</td>\n",
       "      <td>United States</td>\n",
       "      <td>1967-04-03</td>\n",
       "      <td>118.8</td>\n",
       "      <td>66</td>\n",
       "      <td>19.2</td>\n",
       "      <td>+1 (217) 569-3204</td>\n",
       "      <td>pamelashill@cuvox.de</td>\n",
       "    </tr>\n",
       "  </tbody>\n",
       "</table>\n",
       "</div>"
      ],
      "text/plain": [
       "   patient_id assigned_sex given_name  surname                    address  \\\n",
       "0           1       female        Zoe  Wellish       576 Brown Bear Drive   \n",
       "1           2       female     Pamela     Hill  2370 University Hill Road   \n",
       "\n",
       "                city state zip_code        country  birthdate  weight  height  \\\n",
       "0  Rancho California    CA    92390  United States 1976-07-10   121.7      66   \n",
       "1          Armstrong    IL    61812  United States 1967-04-03   118.8      66   \n",
       "\n",
       "    bmi       phone_number                     email  \n",
       "0  19.6       951-719-9170  zoewellish@superrito.com  \n",
       "1  19.2  +1 (217) 569-3204      pamelashill@cuvox.de  "
      ]
     },
     "execution_count": 82,
     "metadata": {},
     "output_type": "execute_result"
    }
   ],
   "source": [
    "# check to see if it worked\n",
    "patients_clean.head(2)"
   ]
  },
  {
   "cell_type": "markdown",
   "id": "1835e80e",
   "metadata": {},
   "source": [
    "---\n",
    "#### `treatments`: the letter 'u' in starting and ending doses for Auralin and Novodra (validity issue)\n",
    "#### `treatments`: erroneus datatypes (`auralin`and `novodra`)\n",
    "\n",
    "##### 3.6. Define:\n",
    "- `treatments`: use [`pd.Series.str.strip`](https://pandas.pydata.org/docs/reference/api/pandas.Series.str.strip.html#pandas.Series.str.strip) to remove the letter 'u' in the `start_dose` and `end_dose` columns.\n",
    "- `treatments`: use [`pd.Series.astype`](https://pandas.pydata.org/docs/reference/api/pandas.Series.astype.html) to change `start_dose` and `end_dose` to int. \n",
    "\n",
    "##### Code:"
   ]
  },
  {
   "cell_type": "code",
   "execution_count": 83,
   "id": "fe0f4dfe",
   "metadata": {},
   "outputs": [
    {
     "data": {
      "text/html": [
       "<div>\n",
       "<style scoped>\n",
       "    .dataframe tbody tr th:only-of-type {\n",
       "        vertical-align: middle;\n",
       "    }\n",
       "\n",
       "    .dataframe tbody tr th {\n",
       "        vertical-align: top;\n",
       "    }\n",
       "\n",
       "    .dataframe thead th {\n",
       "        text-align: right;\n",
       "    }\n",
       "</style>\n",
       "<table border=\"1\" class=\"dataframe\">\n",
       "  <thead>\n",
       "    <tr style=\"text-align: right;\">\n",
       "      <th></th>\n",
       "      <th>hba1c_start</th>\n",
       "      <th>hba1c_end</th>\n",
       "      <th>hba1c_change</th>\n",
       "      <th>treatment</th>\n",
       "      <th>start_dose</th>\n",
       "      <th>end_dose</th>\n",
       "      <th>adverse_reaction</th>\n",
       "      <th>patient_id</th>\n",
       "    </tr>\n",
       "  </thead>\n",
       "  <tbody>\n",
       "    <tr>\n",
       "      <th>0</th>\n",
       "      <td>7.63</td>\n",
       "      <td>7.2</td>\n",
       "      <td>0.43</td>\n",
       "      <td>auralin</td>\n",
       "      <td>41u</td>\n",
       "      <td>48u</td>\n",
       "      <td>NaN</td>\n",
       "      <td>225</td>\n",
       "    </tr>\n",
       "  </tbody>\n",
       "</table>\n",
       "</div>"
      ],
      "text/plain": [
       "   hba1c_start  hba1c_end  hba1c_change treatment start_dose end_dose  \\\n",
       "0         7.63        7.2          0.43   auralin        41u      48u   \n",
       "\n",
       "  adverse_reaction  patient_id  \n",
       "0              NaN         225  "
      ]
     },
     "execution_count": 83,
     "metadata": {},
     "output_type": "execute_result"
    }
   ],
   "source": [
    "# check how start_date is currently formatted\n",
    "treatments_clean.head(1)"
   ]
  },
  {
   "cell_type": "code",
   "execution_count": 84,
   "id": "c47fb4f6",
   "metadata": {},
   "outputs": [],
   "source": [
    "# use str.strip to remove the 'u'\n",
    "treatments_clean['start_dose'] = treatments_clean['start_dose'].str.strip('u')"
   ]
  },
  {
   "cell_type": "markdown",
   "id": "cdd70b4e",
   "metadata": {},
   "source": [
    "##### Test:"
   ]
  },
  {
   "cell_type": "code",
   "execution_count": 85,
   "id": "fbfbf4bc",
   "metadata": {},
   "outputs": [
    {
     "data": {
      "text/html": [
       "<div>\n",
       "<style scoped>\n",
       "    .dataframe tbody tr th:only-of-type {\n",
       "        vertical-align: middle;\n",
       "    }\n",
       "\n",
       "    .dataframe tbody tr th {\n",
       "        vertical-align: top;\n",
       "    }\n",
       "\n",
       "    .dataframe thead th {\n",
       "        text-align: right;\n",
       "    }\n",
       "</style>\n",
       "<table border=\"1\" class=\"dataframe\">\n",
       "  <thead>\n",
       "    <tr style=\"text-align: right;\">\n",
       "      <th></th>\n",
       "      <th>hba1c_start</th>\n",
       "      <th>hba1c_end</th>\n",
       "      <th>hba1c_change</th>\n",
       "      <th>treatment</th>\n",
       "      <th>start_dose</th>\n",
       "      <th>end_dose</th>\n",
       "      <th>adverse_reaction</th>\n",
       "      <th>patient_id</th>\n",
       "    </tr>\n",
       "  </thead>\n",
       "  <tbody>\n",
       "    <tr>\n",
       "      <th>0</th>\n",
       "      <td>7.63</td>\n",
       "      <td>7.2</td>\n",
       "      <td>0.43</td>\n",
       "      <td>auralin</td>\n",
       "      <td>41</td>\n",
       "      <td>48u</td>\n",
       "      <td>NaN</td>\n",
       "      <td>225</td>\n",
       "    </tr>\n",
       "  </tbody>\n",
       "</table>\n",
       "</div>"
      ],
      "text/plain": [
       "   hba1c_start  hba1c_end  hba1c_change treatment start_dose end_dose  \\\n",
       "0         7.63        7.2          0.43   auralin         41      48u   \n",
       "\n",
       "  adverse_reaction  patient_id  \n",
       "0              NaN         225  "
      ]
     },
     "execution_count": 85,
     "metadata": {},
     "output_type": "execute_result"
    }
   ],
   "source": [
    "# check to see if it worked\n",
    "treatments_clean.head(1)"
   ]
  },
  {
   "cell_type": "markdown",
   "id": "940e5853",
   "metadata": {},
   "source": [
    "##### Code: "
   ]
  },
  {
   "cell_type": "code",
   "execution_count": 86,
   "id": "1601ce17",
   "metadata": {},
   "outputs": [],
   "source": [
    "# use str.strip to remove the 'u'\n",
    "treatments_clean['end_dose'] = treatments_clean['end_dose'].str.strip('u')"
   ]
  },
  {
   "cell_type": "code",
   "execution_count": 87,
   "id": "75426806",
   "metadata": {},
   "outputs": [
    {
     "data": {
      "text/html": [
       "<div>\n",
       "<style scoped>\n",
       "    .dataframe tbody tr th:only-of-type {\n",
       "        vertical-align: middle;\n",
       "    }\n",
       "\n",
       "    .dataframe tbody tr th {\n",
       "        vertical-align: top;\n",
       "    }\n",
       "\n",
       "    .dataframe thead th {\n",
       "        text-align: right;\n",
       "    }\n",
       "</style>\n",
       "<table border=\"1\" class=\"dataframe\">\n",
       "  <thead>\n",
       "    <tr style=\"text-align: right;\">\n",
       "      <th></th>\n",
       "      <th>hba1c_start</th>\n",
       "      <th>hba1c_end</th>\n",
       "      <th>hba1c_change</th>\n",
       "      <th>treatment</th>\n",
       "      <th>start_dose</th>\n",
       "      <th>end_dose</th>\n",
       "      <th>adverse_reaction</th>\n",
       "      <th>patient_id</th>\n",
       "    </tr>\n",
       "  </thead>\n",
       "  <tbody>\n",
       "    <tr>\n",
       "      <th>0</th>\n",
       "      <td>7.63</td>\n",
       "      <td>7.2</td>\n",
       "      <td>0.43</td>\n",
       "      <td>auralin</td>\n",
       "      <td>41</td>\n",
       "      <td>48</td>\n",
       "      <td>NaN</td>\n",
       "      <td>225</td>\n",
       "    </tr>\n",
       "  </tbody>\n",
       "</table>\n",
       "</div>"
      ],
      "text/plain": [
       "   hba1c_start  hba1c_end  hba1c_change treatment start_dose end_dose  \\\n",
       "0         7.63        7.2          0.43   auralin         41       48   \n",
       "\n",
       "  adverse_reaction  patient_id  \n",
       "0              NaN         225  "
      ]
     },
     "execution_count": 87,
     "metadata": {},
     "output_type": "execute_result"
    }
   ],
   "source": [
    "# check to see if it worked\n",
    "treatments_clean.head(1)"
   ]
  },
  {
   "cell_type": "markdown",
   "id": "9bdb5e65",
   "metadata": {},
   "source": [
    "##### Code:"
   ]
  },
  {
   "cell_type": "code",
   "execution_count": 88,
   "id": "3c3de055",
   "metadata": {},
   "outputs": [
    {
     "name": "stdout",
     "output_type": "stream",
     "text": [
      "<class 'pandas.core.series.Series'>\n",
      "Int64Index: 339 entries, 0 to 338\n",
      "Series name: start_dose\n",
      "Non-Null Count  Dtype \n",
      "--------------  ----- \n",
      "339 non-null    object\n",
      "dtypes: object(1)\n",
      "memory usage: 5.3+ KB\n"
     ]
    }
   ],
   "source": [
    "# check what's the current dtype for start_dose\n",
    "treatments_clean['start_dose'].info()"
   ]
  },
  {
   "cell_type": "code",
   "execution_count": 89,
   "id": "1b81e9ef",
   "metadata": {},
   "outputs": [],
   "source": [
    "# change it to int\n",
    "treatments_clean['start_dose'] = treatments_clean['start_dose'].astype(int)"
   ]
  },
  {
   "cell_type": "markdown",
   "id": "0da3085c",
   "metadata": {},
   "source": [
    "##### Test:"
   ]
  },
  {
   "cell_type": "code",
   "execution_count": 90,
   "id": "0f9f5277",
   "metadata": {},
   "outputs": [
    {
     "name": "stdout",
     "output_type": "stream",
     "text": [
      "<class 'pandas.core.series.Series'>\n",
      "Int64Index: 339 entries, 0 to 338\n",
      "Series name: start_dose\n",
      "Non-Null Count  Dtype\n",
      "--------------  -----\n",
      "339 non-null    int32\n",
      "dtypes: int32(1)\n",
      "memory usage: 4.0 KB\n"
     ]
    }
   ],
   "source": [
    "# check to see if it worked\n",
    "treatments_clean['start_dose'].info()"
   ]
  },
  {
   "cell_type": "markdown",
   "id": "37c87c73",
   "metadata": {},
   "source": [
    "##### Code:"
   ]
  },
  {
   "cell_type": "code",
   "execution_count": 91,
   "id": "dcb54524",
   "metadata": {},
   "outputs": [
    {
     "name": "stdout",
     "output_type": "stream",
     "text": [
      "<class 'pandas.core.series.Series'>\n",
      "Int64Index: 339 entries, 0 to 338\n",
      "Series name: end_dose\n",
      "Non-Null Count  Dtype \n",
      "--------------  ----- \n",
      "339 non-null    object\n",
      "dtypes: object(1)\n",
      "memory usage: 5.3+ KB\n"
     ]
    }
   ],
   "source": [
    "# check what's the current dtype for end_dose\n",
    "treatments_clean['end_dose'].info()"
   ]
  },
  {
   "cell_type": "code",
   "execution_count": 92,
   "id": "fb3bf7b4",
   "metadata": {},
   "outputs": [],
   "source": [
    "# change it to int\n",
    "treatments_clean['end_dose'] = treatments_clean['end_dose'].astype(int)"
   ]
  },
  {
   "cell_type": "markdown",
   "id": "e1cf6529",
   "metadata": {},
   "source": [
    "##### Test:"
   ]
  },
  {
   "cell_type": "code",
   "execution_count": 93,
   "id": "01f3a158",
   "metadata": {},
   "outputs": [
    {
     "name": "stdout",
     "output_type": "stream",
     "text": [
      "<class 'pandas.core.series.Series'>\n",
      "Int64Index: 339 entries, 0 to 338\n",
      "Series name: end_dose\n",
      "Non-Null Count  Dtype\n",
      "--------------  -----\n",
      "339 non-null    int32\n",
      "dtypes: int32(1)\n",
      "memory usage: 4.0 KB\n"
     ]
    }
   ],
   "source": [
    "# check to see if it worked\n",
    "treatments_clean['end_dose'].info()"
   ]
  },
  {
   "cell_type": "markdown",
   "id": "1de60cb3",
   "metadata": {},
   "source": [
    "---\n",
    "#### `patients`: multiple phone number formats (`contact` column)\n",
    "\n",
    "##### 3.7. Define: \n",
    "\n",
    "First, use [`str.replace`](https://pandas.pydata.org/docs/reference/api/pandas.Series.str.replace.html#pandas.Series.str.replace) with a regular expression to remove any non-digit characters (`\\D+`). Then, use [`str.pad`](https://pandas.pydata.org/docs/reference/api/pandas.Series.str.pad.html) to include a leading 1 to entries that currently don't have the international code. \n",
    "\n",
    "##### Code:"
   ]
  },
  {
   "cell_type": "code",
   "execution_count": 94,
   "id": "b2bce8c1",
   "metadata": {},
   "outputs": [],
   "source": [
    "# use str.replace to remove any non-digit characters\n",
    "patients_clean['phone_number'] = patients_clean['phone_number'].str.replace(r'\\D+', '', regex=True)"
   ]
  },
  {
   "cell_type": "markdown",
   "id": "8f224f4b",
   "metadata": {},
   "source": [
    "##### Test:"
   ]
  },
  {
   "cell_type": "code",
   "execution_count": 95,
   "id": "14663ef4",
   "metadata": {},
   "outputs": [
    {
     "data": {
      "text/html": [
       "<div>\n",
       "<style scoped>\n",
       "    .dataframe tbody tr th:only-of-type {\n",
       "        vertical-align: middle;\n",
       "    }\n",
       "\n",
       "    .dataframe tbody tr th {\n",
       "        vertical-align: top;\n",
       "    }\n",
       "\n",
       "    .dataframe thead th {\n",
       "        text-align: right;\n",
       "    }\n",
       "</style>\n",
       "<table border=\"1\" class=\"dataframe\">\n",
       "  <thead>\n",
       "    <tr style=\"text-align: right;\">\n",
       "      <th></th>\n",
       "      <th>patient_id</th>\n",
       "      <th>assigned_sex</th>\n",
       "      <th>given_name</th>\n",
       "      <th>surname</th>\n",
       "      <th>address</th>\n",
       "      <th>city</th>\n",
       "      <th>state</th>\n",
       "      <th>zip_code</th>\n",
       "      <th>country</th>\n",
       "      <th>birthdate</th>\n",
       "      <th>weight</th>\n",
       "      <th>height</th>\n",
       "      <th>bmi</th>\n",
       "      <th>phone_number</th>\n",
       "      <th>email</th>\n",
       "    </tr>\n",
       "  </thead>\n",
       "  <tbody>\n",
       "    <tr>\n",
       "      <th>0</th>\n",
       "      <td>1</td>\n",
       "      <td>female</td>\n",
       "      <td>Zoe</td>\n",
       "      <td>Wellish</td>\n",
       "      <td>576 Brown Bear Drive</td>\n",
       "      <td>Rancho California</td>\n",
       "      <td>CA</td>\n",
       "      <td>92390</td>\n",
       "      <td>United States</td>\n",
       "      <td>1976-07-10</td>\n",
       "      <td>121.7</td>\n",
       "      <td>66</td>\n",
       "      <td>19.6</td>\n",
       "      <td>9517199170</td>\n",
       "      <td>zoewellish@superrito.com</td>\n",
       "    </tr>\n",
       "    <tr>\n",
       "      <th>1</th>\n",
       "      <td>2</td>\n",
       "      <td>female</td>\n",
       "      <td>Pamela</td>\n",
       "      <td>Hill</td>\n",
       "      <td>2370 University Hill Road</td>\n",
       "      <td>Armstrong</td>\n",
       "      <td>IL</td>\n",
       "      <td>61812</td>\n",
       "      <td>United States</td>\n",
       "      <td>1967-04-03</td>\n",
       "      <td>118.8</td>\n",
       "      <td>66</td>\n",
       "      <td>19.2</td>\n",
       "      <td>12175693204</td>\n",
       "      <td>pamelashill@cuvox.de</td>\n",
       "    </tr>\n",
       "  </tbody>\n",
       "</table>\n",
       "</div>"
      ],
      "text/plain": [
       "   patient_id assigned_sex given_name  surname                    address  \\\n",
       "0           1       female        Zoe  Wellish       576 Brown Bear Drive   \n",
       "1           2       female     Pamela     Hill  2370 University Hill Road   \n",
       "\n",
       "                city state zip_code        country  birthdate  weight  height  \\\n",
       "0  Rancho California    CA    92390  United States 1976-07-10   121.7      66   \n",
       "1          Armstrong    IL    61812  United States 1967-04-03   118.8      66   \n",
       "\n",
       "    bmi phone_number                     email  \n",
       "0  19.6   9517199170  zoewellish@superrito.com  \n",
       "1  19.2  12175693204      pamelashill@cuvox.de  "
      ]
     },
     "execution_count": 95,
     "metadata": {},
     "output_type": "execute_result"
    }
   ],
   "source": [
    "# check to see if it worked\n",
    "patients_clean.head(2)"
   ]
  },
  {
   "cell_type": "markdown",
   "id": "48d931b9",
   "metadata": {},
   "source": [
    "##### Code:"
   ]
  },
  {
   "cell_type": "code",
   "execution_count": 96,
   "id": "f290ee64",
   "metadata": {},
   "outputs": [],
   "source": [
    "# use str.pad to include a leading 1 to entries that don't have the international code\n",
    "patients_clean['phone_number'] = patients_clean['phone_number'].str.pad(11, fillchar='1')"
   ]
  },
  {
   "cell_type": "markdown",
   "id": "11db0dc5",
   "metadata": {},
   "source": [
    "##### Test:"
   ]
  },
  {
   "cell_type": "code",
   "execution_count": 97,
   "id": "329613a6",
   "metadata": {},
   "outputs": [
    {
     "data": {
      "text/html": [
       "<div>\n",
       "<style scoped>\n",
       "    .dataframe tbody tr th:only-of-type {\n",
       "        vertical-align: middle;\n",
       "    }\n",
       "\n",
       "    .dataframe tbody tr th {\n",
       "        vertical-align: top;\n",
       "    }\n",
       "\n",
       "    .dataframe thead th {\n",
       "        text-align: right;\n",
       "    }\n",
       "</style>\n",
       "<table border=\"1\" class=\"dataframe\">\n",
       "  <thead>\n",
       "    <tr style=\"text-align: right;\">\n",
       "      <th></th>\n",
       "      <th>patient_id</th>\n",
       "      <th>assigned_sex</th>\n",
       "      <th>given_name</th>\n",
       "      <th>surname</th>\n",
       "      <th>address</th>\n",
       "      <th>city</th>\n",
       "      <th>state</th>\n",
       "      <th>zip_code</th>\n",
       "      <th>country</th>\n",
       "      <th>birthdate</th>\n",
       "      <th>weight</th>\n",
       "      <th>height</th>\n",
       "      <th>bmi</th>\n",
       "      <th>phone_number</th>\n",
       "      <th>email</th>\n",
       "    </tr>\n",
       "  </thead>\n",
       "  <tbody>\n",
       "    <tr>\n",
       "      <th>0</th>\n",
       "      <td>1</td>\n",
       "      <td>female</td>\n",
       "      <td>Zoe</td>\n",
       "      <td>Wellish</td>\n",
       "      <td>576 Brown Bear Drive</td>\n",
       "      <td>Rancho California</td>\n",
       "      <td>CA</td>\n",
       "      <td>92390</td>\n",
       "      <td>United States</td>\n",
       "      <td>1976-07-10</td>\n",
       "      <td>121.7</td>\n",
       "      <td>66</td>\n",
       "      <td>19.6</td>\n",
       "      <td>19517199170</td>\n",
       "      <td>zoewellish@superrito.com</td>\n",
       "    </tr>\n",
       "  </tbody>\n",
       "</table>\n",
       "</div>"
      ],
      "text/plain": [
       "   patient_id assigned_sex given_name  surname               address  \\\n",
       "0           1       female        Zoe  Wellish  576 Brown Bear Drive   \n",
       "\n",
       "                city state zip_code        country  birthdate  weight  height  \\\n",
       "0  Rancho California    CA    92390  United States 1976-07-10   121.7      66   \n",
       "\n",
       "    bmi phone_number                     email  \n",
       "0  19.6  19517199170  zoewellish@superrito.com  "
      ]
     },
     "execution_count": 97,
     "metadata": {},
     "output_type": "execute_result"
    }
   ],
   "source": [
    "# check to see if it worked\n",
    "patients_clean.head(1)"
   ]
  },
  {
   "cell_type": "markdown",
   "id": "c6646bd2",
   "metadata": {},
   "source": [
    "---\n",
    "#### Default John Doe data\n",
    "\n",
    "##### 3.8. Define:\n",
    "Since we can't recover the John Doe records from the `patients` table, drop them. First, use [`pd.Series.index`](https://pandas.pydata.org/docs/reference/api/pandas.Series.index.html) to get the indexes for John Doe. Then. use [`pd.Series.drop`](https://pandas.pydata.org/docs/reference/api/pandas.Series.drop.html) to drop those records. \n",
    "\n",
    "##### Code:"
   ]
  },
  {
   "cell_type": "code",
   "execution_count": 98,
   "id": "38796fb8",
   "metadata": {},
   "outputs": [
    {
     "data": {
      "text/plain": [
       "6"
      ]
     },
     "execution_count": 98,
     "metadata": {},
     "output_type": "execute_result"
    }
   ],
   "source": [
    "# check how many instances of John Doe are present in the patients table\n",
    "patients_clean.query('given_name == \"John\" and surname == \"Doe\"')['patient_id'].count()"
   ]
  },
  {
   "cell_type": "code",
   "execution_count": 99,
   "id": "6a580ccc",
   "metadata": {},
   "outputs": [],
   "source": [
    "# get the indexes of those entries\n",
    "john_doe = patients_clean.query('given_name == \"John\" and surname == \"Doe\"').index"
   ]
  },
  {
   "cell_type": "code",
   "execution_count": 100,
   "id": "109f54b5",
   "metadata": {},
   "outputs": [],
   "source": [
    "# use pd.Series.drop to drop them\n",
    "patients_clean.drop(index=john_doe, inplace=True)"
   ]
  },
  {
   "cell_type": "markdown",
   "id": "5e509b24",
   "metadata": {},
   "source": [
    "##### Test:"
   ]
  },
  {
   "cell_type": "code",
   "execution_count": 101,
   "id": "2f13cbf5",
   "metadata": {},
   "outputs": [
    {
     "data": {
      "text/plain": [
       "0"
      ]
     },
     "execution_count": 101,
     "metadata": {},
     "output_type": "execute_result"
    }
   ],
   "source": [
    "# check to see if it worked\n",
    "patients_clean.query('given_name == \"John\" and surname == \"Doe\"')['patient_id'].count()"
   ]
  },
  {
   "cell_type": "markdown",
   "id": "43d47a2f",
   "metadata": {},
   "source": [
    "---\n",
    "#### Multiple records for Jakobsen, Gersten, Taylor\n",
    "\n",
    "##### 3.9. Define: \n",
    "\n",
    "First, find the indexes for the duplicated records. Then, use [`pd.Series.drop`](https://pandas.pydata.org/docs/reference/api/pandas.Series.drop.html) to drop them. \n",
    "\n",
    "##### Code:"
   ]
  },
  {
   "cell_type": "code",
   "execution_count": 102,
   "id": "9b5f927b",
   "metadata": {},
   "outputs": [
    {
     "data": {
      "text/html": [
       "<div>\n",
       "<style scoped>\n",
       "    .dataframe tbody tr th:only-of-type {\n",
       "        vertical-align: middle;\n",
       "    }\n",
       "\n",
       "    .dataframe tbody tr th {\n",
       "        vertical-align: top;\n",
       "    }\n",
       "\n",
       "    .dataframe thead th {\n",
       "        text-align: right;\n",
       "    }\n",
       "</style>\n",
       "<table border=\"1\" class=\"dataframe\">\n",
       "  <thead>\n",
       "    <tr style=\"text-align: right;\">\n",
       "      <th></th>\n",
       "      <th>patient_id</th>\n",
       "      <th>assigned_sex</th>\n",
       "      <th>given_name</th>\n",
       "      <th>surname</th>\n",
       "      <th>address</th>\n",
       "      <th>city</th>\n",
       "      <th>state</th>\n",
       "      <th>zip_code</th>\n",
       "      <th>country</th>\n",
       "      <th>birthdate</th>\n",
       "      <th>weight</th>\n",
       "      <th>height</th>\n",
       "      <th>bmi</th>\n",
       "      <th>phone_number</th>\n",
       "      <th>email</th>\n",
       "    </tr>\n",
       "  </thead>\n",
       "  <tbody>\n",
       "    <tr>\n",
       "      <th>24</th>\n",
       "      <td>25</td>\n",
       "      <td>male</td>\n",
       "      <td>Jakob</td>\n",
       "      <td>Jakobsen</td>\n",
       "      <td>648 Old Dear Lane</td>\n",
       "      <td>Port Jervis</td>\n",
       "      <td>NY</td>\n",
       "      <td>12771</td>\n",
       "      <td>United States</td>\n",
       "      <td>1985-08-01</td>\n",
       "      <td>155.8</td>\n",
       "      <td>67</td>\n",
       "      <td>24.4</td>\n",
       "      <td>18458587707</td>\n",
       "      <td>jakobcjakobsen@einrot.com</td>\n",
       "    </tr>\n",
       "    <tr>\n",
       "      <th>29</th>\n",
       "      <td>30</td>\n",
       "      <td>male</td>\n",
       "      <td>Jake</td>\n",
       "      <td>Jakobsen</td>\n",
       "      <td>648 Old Dear Lane</td>\n",
       "      <td>Port Jervis</td>\n",
       "      <td>NY</td>\n",
       "      <td>12771</td>\n",
       "      <td>United States</td>\n",
       "      <td>1985-08-01</td>\n",
       "      <td>155.8</td>\n",
       "      <td>67</td>\n",
       "      <td>24.4</td>\n",
       "      <td>18458587707</td>\n",
       "      <td>jakobcjakobsen@einrot.com</td>\n",
       "    </tr>\n",
       "    <tr>\n",
       "      <th>432</th>\n",
       "      <td>433</td>\n",
       "      <td>female</td>\n",
       "      <td>Karen</td>\n",
       "      <td>Jakobsen</td>\n",
       "      <td>1690 Fannie Street</td>\n",
       "      <td>Houston</td>\n",
       "      <td>TX</td>\n",
       "      <td>77020</td>\n",
       "      <td>United States</td>\n",
       "      <td>1962-11-25</td>\n",
       "      <td>185.2</td>\n",
       "      <td>67</td>\n",
       "      <td>29.0</td>\n",
       "      <td>19792030438</td>\n",
       "      <td>karenjakobsen@jourrapide.com</td>\n",
       "    </tr>\n",
       "  </tbody>\n",
       "</table>\n",
       "</div>"
      ],
      "text/plain": [
       "     patient_id assigned_sex given_name   surname             address  \\\n",
       "24           25         male      Jakob  Jakobsen   648 Old Dear Lane   \n",
       "29           30         male       Jake  Jakobsen   648 Old Dear Lane   \n",
       "432         433       female      Karen  Jakobsen  1690 Fannie Street   \n",
       "\n",
       "            city state zip_code        country  birthdate  weight  height  \\\n",
       "24   Port Jervis    NY    12771  United States 1985-08-01   155.8      67   \n",
       "29   Port Jervis    NY    12771  United States 1985-08-01   155.8      67   \n",
       "432      Houston    TX    77020  United States 1962-11-25   185.2      67   \n",
       "\n",
       "      bmi phone_number                         email  \n",
       "24   24.4  18458587707     jakobcjakobsen@einrot.com  \n",
       "29   24.4  18458587707     jakobcjakobsen@einrot.com  \n",
       "432  29.0  19792030438  karenjakobsen@jourrapide.com  "
      ]
     },
     "execution_count": 102,
     "metadata": {},
     "output_type": "execute_result"
    }
   ],
   "source": [
    "# jakob and jake are the same person, which can be confirmed\n",
    "# by the fact that their info, like address, are the same\n",
    "patients_clean.query('surname == \"Jakobsen\"')"
   ]
  },
  {
   "cell_type": "code",
   "execution_count": 103,
   "id": "a0174531",
   "metadata": {},
   "outputs": [],
   "source": [
    "# drop one of them\n",
    "patients_clean.drop(29, inplace=True)"
   ]
  },
  {
   "cell_type": "markdown",
   "id": "a550bf2d",
   "metadata": {},
   "source": [
    "##### Test:"
   ]
  },
  {
   "cell_type": "code",
   "execution_count": 104,
   "id": "d02ebe39",
   "metadata": {},
   "outputs": [
    {
     "data": {
      "text/html": [
       "<div>\n",
       "<style scoped>\n",
       "    .dataframe tbody tr th:only-of-type {\n",
       "        vertical-align: middle;\n",
       "    }\n",
       "\n",
       "    .dataframe tbody tr th {\n",
       "        vertical-align: top;\n",
       "    }\n",
       "\n",
       "    .dataframe thead th {\n",
       "        text-align: right;\n",
       "    }\n",
       "</style>\n",
       "<table border=\"1\" class=\"dataframe\">\n",
       "  <thead>\n",
       "    <tr style=\"text-align: right;\">\n",
       "      <th></th>\n",
       "      <th>patient_id</th>\n",
       "      <th>assigned_sex</th>\n",
       "      <th>given_name</th>\n",
       "      <th>surname</th>\n",
       "      <th>address</th>\n",
       "      <th>city</th>\n",
       "      <th>state</th>\n",
       "      <th>zip_code</th>\n",
       "      <th>country</th>\n",
       "      <th>birthdate</th>\n",
       "      <th>weight</th>\n",
       "      <th>height</th>\n",
       "      <th>bmi</th>\n",
       "      <th>phone_number</th>\n",
       "      <th>email</th>\n",
       "    </tr>\n",
       "  </thead>\n",
       "  <tbody>\n",
       "    <tr>\n",
       "      <th>24</th>\n",
       "      <td>25</td>\n",
       "      <td>male</td>\n",
       "      <td>Jakob</td>\n",
       "      <td>Jakobsen</td>\n",
       "      <td>648 Old Dear Lane</td>\n",
       "      <td>Port Jervis</td>\n",
       "      <td>NY</td>\n",
       "      <td>12771</td>\n",
       "      <td>United States</td>\n",
       "      <td>1985-08-01</td>\n",
       "      <td>155.8</td>\n",
       "      <td>67</td>\n",
       "      <td>24.4</td>\n",
       "      <td>18458587707</td>\n",
       "      <td>jakobcjakobsen@einrot.com</td>\n",
       "    </tr>\n",
       "    <tr>\n",
       "      <th>432</th>\n",
       "      <td>433</td>\n",
       "      <td>female</td>\n",
       "      <td>Karen</td>\n",
       "      <td>Jakobsen</td>\n",
       "      <td>1690 Fannie Street</td>\n",
       "      <td>Houston</td>\n",
       "      <td>TX</td>\n",
       "      <td>77020</td>\n",
       "      <td>United States</td>\n",
       "      <td>1962-11-25</td>\n",
       "      <td>185.2</td>\n",
       "      <td>67</td>\n",
       "      <td>29.0</td>\n",
       "      <td>19792030438</td>\n",
       "      <td>karenjakobsen@jourrapide.com</td>\n",
       "    </tr>\n",
       "  </tbody>\n",
       "</table>\n",
       "</div>"
      ],
      "text/plain": [
       "     patient_id assigned_sex given_name   surname             address  \\\n",
       "24           25         male      Jakob  Jakobsen   648 Old Dear Lane   \n",
       "432         433       female      Karen  Jakobsen  1690 Fannie Street   \n",
       "\n",
       "            city state zip_code        country  birthdate  weight  height  \\\n",
       "24   Port Jervis    NY    12771  United States 1985-08-01   155.8      67   \n",
       "432      Houston    TX    77020  United States 1962-11-25   185.2      67   \n",
       "\n",
       "      bmi phone_number                         email  \n",
       "24   24.4  18458587707     jakobcjakobsen@einrot.com  \n",
       "432  29.0  19792030438  karenjakobsen@jourrapide.com  "
      ]
     },
     "execution_count": 104,
     "metadata": {},
     "output_type": "execute_result"
    }
   ],
   "source": [
    "# check to see if it worked\n",
    "patients_clean.query('surname == \"Jakobsen\"')"
   ]
  },
  {
   "cell_type": "markdown",
   "id": "711fa984",
   "metadata": {},
   "source": [
    "##### Code:"
   ]
  },
  {
   "cell_type": "code",
   "execution_count": 105,
   "id": "495e915b",
   "metadata": {},
   "outputs": [
    {
     "data": {
      "text/html": [
       "<div>\n",
       "<style scoped>\n",
       "    .dataframe tbody tr th:only-of-type {\n",
       "        vertical-align: middle;\n",
       "    }\n",
       "\n",
       "    .dataframe tbody tr th {\n",
       "        vertical-align: top;\n",
       "    }\n",
       "\n",
       "    .dataframe thead th {\n",
       "        text-align: right;\n",
       "    }\n",
       "</style>\n",
       "<table border=\"1\" class=\"dataframe\">\n",
       "  <thead>\n",
       "    <tr style=\"text-align: right;\">\n",
       "      <th></th>\n",
       "      <th>patient_id</th>\n",
       "      <th>assigned_sex</th>\n",
       "      <th>given_name</th>\n",
       "      <th>surname</th>\n",
       "      <th>address</th>\n",
       "      <th>city</th>\n",
       "      <th>state</th>\n",
       "      <th>zip_code</th>\n",
       "      <th>country</th>\n",
       "      <th>birthdate</th>\n",
       "      <th>weight</th>\n",
       "      <th>height</th>\n",
       "      <th>bmi</th>\n",
       "      <th>phone_number</th>\n",
       "      <th>email</th>\n",
       "    </tr>\n",
       "  </thead>\n",
       "  <tbody>\n",
       "    <tr>\n",
       "      <th>97</th>\n",
       "      <td>98</td>\n",
       "      <td>male</td>\n",
       "      <td>Patrick</td>\n",
       "      <td>Gersten</td>\n",
       "      <td>2778 North Avenue</td>\n",
       "      <td>Burr</td>\n",
       "      <td>NE</td>\n",
       "      <td>68324</td>\n",
       "      <td>United States</td>\n",
       "      <td>1954-05-03</td>\n",
       "      <td>138.2</td>\n",
       "      <td>71</td>\n",
       "      <td>19.3</td>\n",
       "      <td>14028484923</td>\n",
       "      <td>patrickgersten@rhyta.com</td>\n",
       "    </tr>\n",
       "    <tr>\n",
       "      <th>502</th>\n",
       "      <td>503</td>\n",
       "      <td>male</td>\n",
       "      <td>Pat</td>\n",
       "      <td>Gersten</td>\n",
       "      <td>2778 North Avenue</td>\n",
       "      <td>Burr</td>\n",
       "      <td>NE</td>\n",
       "      <td>68324</td>\n",
       "      <td>United States</td>\n",
       "      <td>1954-05-03</td>\n",
       "      <td>138.2</td>\n",
       "      <td>71</td>\n",
       "      <td>19.3</td>\n",
       "      <td>14028484923</td>\n",
       "      <td>patrickgersten@rhyta.com</td>\n",
       "    </tr>\n",
       "  </tbody>\n",
       "</table>\n",
       "</div>"
      ],
      "text/plain": [
       "     patient_id assigned_sex given_name  surname            address  city  \\\n",
       "97           98         male    Patrick  Gersten  2778 North Avenue  Burr   \n",
       "502         503         male        Pat  Gersten  2778 North Avenue  Burr   \n",
       "\n",
       "    state zip_code        country  birthdate  weight  height   bmi  \\\n",
       "97     NE    68324  United States 1954-05-03   138.2      71  19.3   \n",
       "502    NE    68324  United States 1954-05-03   138.2      71  19.3   \n",
       "\n",
       "    phone_number                     email  \n",
       "97   14028484923  patrickgersten@rhyta.com  \n",
       "502  14028484923  patrickgersten@rhyta.com  "
      ]
     },
     "execution_count": 105,
     "metadata": {},
     "output_type": "execute_result"
    }
   ],
   "source": [
    "# patrick and pat are the same person, which can be confirmed\n",
    "# by the fact that their info, like address, are the same\n",
    "patients_clean.query('surname == \"Gersten\"')"
   ]
  },
  {
   "cell_type": "code",
   "execution_count": 106,
   "id": "eb19ad86",
   "metadata": {},
   "outputs": [],
   "source": [
    "# drop one of them\n",
    "patients_clean.drop(502, inplace=True)"
   ]
  },
  {
   "cell_type": "markdown",
   "id": "5e96b72b",
   "metadata": {},
   "source": [
    "##### Test:"
   ]
  },
  {
   "cell_type": "code",
   "execution_count": 107,
   "id": "cad08edd",
   "metadata": {},
   "outputs": [
    {
     "data": {
      "text/html": [
       "<div>\n",
       "<style scoped>\n",
       "    .dataframe tbody tr th:only-of-type {\n",
       "        vertical-align: middle;\n",
       "    }\n",
       "\n",
       "    .dataframe tbody tr th {\n",
       "        vertical-align: top;\n",
       "    }\n",
       "\n",
       "    .dataframe thead th {\n",
       "        text-align: right;\n",
       "    }\n",
       "</style>\n",
       "<table border=\"1\" class=\"dataframe\">\n",
       "  <thead>\n",
       "    <tr style=\"text-align: right;\">\n",
       "      <th></th>\n",
       "      <th>patient_id</th>\n",
       "      <th>assigned_sex</th>\n",
       "      <th>given_name</th>\n",
       "      <th>surname</th>\n",
       "      <th>address</th>\n",
       "      <th>city</th>\n",
       "      <th>state</th>\n",
       "      <th>zip_code</th>\n",
       "      <th>country</th>\n",
       "      <th>birthdate</th>\n",
       "      <th>weight</th>\n",
       "      <th>height</th>\n",
       "      <th>bmi</th>\n",
       "      <th>phone_number</th>\n",
       "      <th>email</th>\n",
       "    </tr>\n",
       "  </thead>\n",
       "  <tbody>\n",
       "    <tr>\n",
       "      <th>97</th>\n",
       "      <td>98</td>\n",
       "      <td>male</td>\n",
       "      <td>Patrick</td>\n",
       "      <td>Gersten</td>\n",
       "      <td>2778 North Avenue</td>\n",
       "      <td>Burr</td>\n",
       "      <td>NE</td>\n",
       "      <td>68324</td>\n",
       "      <td>United States</td>\n",
       "      <td>1954-05-03</td>\n",
       "      <td>138.2</td>\n",
       "      <td>71</td>\n",
       "      <td>19.3</td>\n",
       "      <td>14028484923</td>\n",
       "      <td>patrickgersten@rhyta.com</td>\n",
       "    </tr>\n",
       "  </tbody>\n",
       "</table>\n",
       "</div>"
      ],
      "text/plain": [
       "    patient_id assigned_sex given_name  surname            address  city  \\\n",
       "97          98         male    Patrick  Gersten  2778 North Avenue  Burr   \n",
       "\n",
       "   state zip_code        country  birthdate  weight  height   bmi  \\\n",
       "97    NE    68324  United States 1954-05-03   138.2      71  19.3   \n",
       "\n",
       "   phone_number                     email  \n",
       "97  14028484923  patrickgersten@rhyta.com  "
      ]
     },
     "execution_count": 107,
     "metadata": {},
     "output_type": "execute_result"
    }
   ],
   "source": [
    "# check to see if it worked\n",
    "patients_clean.query('surname == \"Gersten\"')"
   ]
  },
  {
   "cell_type": "markdown",
   "id": "82c19b77",
   "metadata": {},
   "source": [
    "##### Code:"
   ]
  },
  {
   "cell_type": "code",
   "execution_count": 108,
   "id": "95ab9b75",
   "metadata": {},
   "outputs": [
    {
     "data": {
      "text/html": [
       "<div>\n",
       "<style scoped>\n",
       "    .dataframe tbody tr th:only-of-type {\n",
       "        vertical-align: middle;\n",
       "    }\n",
       "\n",
       "    .dataframe tbody tr th {\n",
       "        vertical-align: top;\n",
       "    }\n",
       "\n",
       "    .dataframe thead th {\n",
       "        text-align: right;\n",
       "    }\n",
       "</style>\n",
       "<table border=\"1\" class=\"dataframe\">\n",
       "  <thead>\n",
       "    <tr style=\"text-align: right;\">\n",
       "      <th></th>\n",
       "      <th>patient_id</th>\n",
       "      <th>assigned_sex</th>\n",
       "      <th>given_name</th>\n",
       "      <th>surname</th>\n",
       "      <th>address</th>\n",
       "      <th>city</th>\n",
       "      <th>state</th>\n",
       "      <th>zip_code</th>\n",
       "      <th>country</th>\n",
       "      <th>birthdate</th>\n",
       "      <th>weight</th>\n",
       "      <th>height</th>\n",
       "      <th>bmi</th>\n",
       "      <th>phone_number</th>\n",
       "      <th>email</th>\n",
       "    </tr>\n",
       "  </thead>\n",
       "  <tbody>\n",
       "    <tr>\n",
       "      <th>131</th>\n",
       "      <td>132</td>\n",
       "      <td>female</td>\n",
       "      <td>Sandra</td>\n",
       "      <td>Taylor</td>\n",
       "      <td>2476 Fulton Street</td>\n",
       "      <td>Rainelle</td>\n",
       "      <td>WV</td>\n",
       "      <td>25962</td>\n",
       "      <td>United States</td>\n",
       "      <td>1960-10-23</td>\n",
       "      <td>206.1</td>\n",
       "      <td>64</td>\n",
       "      <td>35.4</td>\n",
       "      <td>13044382648</td>\n",
       "      <td>sandractaylor@dayrep.com</td>\n",
       "    </tr>\n",
       "    <tr>\n",
       "      <th>282</th>\n",
       "      <td>283</td>\n",
       "      <td>female</td>\n",
       "      <td>Sandy</td>\n",
       "      <td>Taylor</td>\n",
       "      <td>2476 Fulton Street</td>\n",
       "      <td>Rainelle</td>\n",
       "      <td>WV</td>\n",
       "      <td>25962</td>\n",
       "      <td>United States</td>\n",
       "      <td>1960-10-23</td>\n",
       "      <td>206.1</td>\n",
       "      <td>64</td>\n",
       "      <td>35.4</td>\n",
       "      <td>13044382648</td>\n",
       "      <td>sandractaylor@dayrep.com</td>\n",
       "    </tr>\n",
       "    <tr>\n",
       "      <th>426</th>\n",
       "      <td>427</td>\n",
       "      <td>male</td>\n",
       "      <td>Rogelio</td>\n",
       "      <td>Taylor</td>\n",
       "      <td>4064 Marigold Lane</td>\n",
       "      <td>Miami</td>\n",
       "      <td>FL</td>\n",
       "      <td>33179</td>\n",
       "      <td>United States</td>\n",
       "      <td>1992-09-02</td>\n",
       "      <td>186.6</td>\n",
       "      <td>69</td>\n",
       "      <td>27.6</td>\n",
       "      <td>13054346299</td>\n",
       "      <td>rogeliojtaylor@teleworm.us</td>\n",
       "    </tr>\n",
       "  </tbody>\n",
       "</table>\n",
       "</div>"
      ],
      "text/plain": [
       "     patient_id assigned_sex given_name surname             address      city  \\\n",
       "131         132       female     Sandra  Taylor  2476 Fulton Street  Rainelle   \n",
       "282         283       female      Sandy  Taylor  2476 Fulton Street  Rainelle   \n",
       "426         427         male    Rogelio  Taylor  4064 Marigold Lane     Miami   \n",
       "\n",
       "    state zip_code        country  birthdate  weight  height   bmi  \\\n",
       "131    WV    25962  United States 1960-10-23   206.1      64  35.4   \n",
       "282    WV    25962  United States 1960-10-23   206.1      64  35.4   \n",
       "426    FL    33179  United States 1992-09-02   186.6      69  27.6   \n",
       "\n",
       "    phone_number                       email  \n",
       "131  13044382648    sandractaylor@dayrep.com  \n",
       "282  13044382648    sandractaylor@dayrep.com  \n",
       "426  13054346299  rogeliojtaylor@teleworm.us  "
      ]
     },
     "execution_count": 108,
     "metadata": {},
     "output_type": "execute_result"
    }
   ],
   "source": [
    "# sandra and sandy are the same person, which can be confirmed\n",
    "# by the fact that their info, like address, are the same\n",
    "patients_clean.query('surname == \"Taylor\"')"
   ]
  },
  {
   "cell_type": "code",
   "execution_count": 109,
   "id": "f30049b5",
   "metadata": {},
   "outputs": [],
   "source": [
    "# drop one of them\n",
    "patients_clean.drop(282, inplace=True)"
   ]
  },
  {
   "cell_type": "markdown",
   "id": "704f4ab3",
   "metadata": {},
   "source": [
    "##### Test:"
   ]
  },
  {
   "cell_type": "code",
   "execution_count": 110,
   "id": "53d267d9",
   "metadata": {},
   "outputs": [
    {
     "data": {
      "text/html": [
       "<div>\n",
       "<style scoped>\n",
       "    .dataframe tbody tr th:only-of-type {\n",
       "        vertical-align: middle;\n",
       "    }\n",
       "\n",
       "    .dataframe tbody tr th {\n",
       "        vertical-align: top;\n",
       "    }\n",
       "\n",
       "    .dataframe thead th {\n",
       "        text-align: right;\n",
       "    }\n",
       "</style>\n",
       "<table border=\"1\" class=\"dataframe\">\n",
       "  <thead>\n",
       "    <tr style=\"text-align: right;\">\n",
       "      <th></th>\n",
       "      <th>patient_id</th>\n",
       "      <th>assigned_sex</th>\n",
       "      <th>given_name</th>\n",
       "      <th>surname</th>\n",
       "      <th>address</th>\n",
       "      <th>city</th>\n",
       "      <th>state</th>\n",
       "      <th>zip_code</th>\n",
       "      <th>country</th>\n",
       "      <th>birthdate</th>\n",
       "      <th>weight</th>\n",
       "      <th>height</th>\n",
       "      <th>bmi</th>\n",
       "      <th>phone_number</th>\n",
       "      <th>email</th>\n",
       "    </tr>\n",
       "  </thead>\n",
       "  <tbody>\n",
       "    <tr>\n",
       "      <th>131</th>\n",
       "      <td>132</td>\n",
       "      <td>female</td>\n",
       "      <td>Sandra</td>\n",
       "      <td>Taylor</td>\n",
       "      <td>2476 Fulton Street</td>\n",
       "      <td>Rainelle</td>\n",
       "      <td>WV</td>\n",
       "      <td>25962</td>\n",
       "      <td>United States</td>\n",
       "      <td>1960-10-23</td>\n",
       "      <td>206.1</td>\n",
       "      <td>64</td>\n",
       "      <td>35.4</td>\n",
       "      <td>13044382648</td>\n",
       "      <td>sandractaylor@dayrep.com</td>\n",
       "    </tr>\n",
       "    <tr>\n",
       "      <th>426</th>\n",
       "      <td>427</td>\n",
       "      <td>male</td>\n",
       "      <td>Rogelio</td>\n",
       "      <td>Taylor</td>\n",
       "      <td>4064 Marigold Lane</td>\n",
       "      <td>Miami</td>\n",
       "      <td>FL</td>\n",
       "      <td>33179</td>\n",
       "      <td>United States</td>\n",
       "      <td>1992-09-02</td>\n",
       "      <td>186.6</td>\n",
       "      <td>69</td>\n",
       "      <td>27.6</td>\n",
       "      <td>13054346299</td>\n",
       "      <td>rogeliojtaylor@teleworm.us</td>\n",
       "    </tr>\n",
       "  </tbody>\n",
       "</table>\n",
       "</div>"
      ],
      "text/plain": [
       "     patient_id assigned_sex given_name surname             address      city  \\\n",
       "131         132       female     Sandra  Taylor  2476 Fulton Street  Rainelle   \n",
       "426         427         male    Rogelio  Taylor  4064 Marigold Lane     Miami   \n",
       "\n",
       "    state zip_code        country  birthdate  weight  height   bmi  \\\n",
       "131    WV    25962  United States 1960-10-23   206.1      64  35.4   \n",
       "426    FL    33179  United States 1992-09-02   186.6      69  27.6   \n",
       "\n",
       "    phone_number                       email  \n",
       "131  13044382648    sandractaylor@dayrep.com  \n",
       "426  13054346299  rogeliojtaylor@teleworm.us  "
      ]
     },
     "execution_count": 110,
     "metadata": {},
     "output_type": "execute_result"
    }
   ],
   "source": [
    "patients_clean.query('surname == \"Taylor\"')"
   ]
  },
  {
   "cell_type": "markdown",
   "id": "2ff79a62",
   "metadata": {},
   "source": [
    "---\n",
    "\n",
    "#### Kgs instead of lbs for patient surname Zaitseva weight (patient_id: 211)\n",
    "\n",
    "##### 3.10. Define:\n",
    "\n",
    "First, convert her weight from kgs to lbs (multiply by 2.20462262). Then. use Use [`pd.series.at`](https://pandas.pydata.org/docs/reference/api/pandas.Series.at.html) to make the substitution. Don't forget to [round](https://pandas.pydata.org/docs/reference/api/pandas.Series.round.html) the weight to one decimal letter, as the other entries are formatted.\n",
    "\n",
    "##### Code:"
   ]
  },
  {
   "cell_type": "code",
   "execution_count": 111,
   "id": "4268bc7d",
   "metadata": {},
   "outputs": [
    {
     "data": {
      "text/html": [
       "<div>\n",
       "<style scoped>\n",
       "    .dataframe tbody tr th:only-of-type {\n",
       "        vertical-align: middle;\n",
       "    }\n",
       "\n",
       "    .dataframe tbody tr th {\n",
       "        vertical-align: top;\n",
       "    }\n",
       "\n",
       "    .dataframe thead th {\n",
       "        text-align: right;\n",
       "    }\n",
       "</style>\n",
       "<table border=\"1\" class=\"dataframe\">\n",
       "  <thead>\n",
       "    <tr style=\"text-align: right;\">\n",
       "      <th></th>\n",
       "      <th>patient_id</th>\n",
       "      <th>assigned_sex</th>\n",
       "      <th>given_name</th>\n",
       "      <th>surname</th>\n",
       "      <th>address</th>\n",
       "      <th>city</th>\n",
       "      <th>state</th>\n",
       "      <th>zip_code</th>\n",
       "      <th>country</th>\n",
       "      <th>birthdate</th>\n",
       "      <th>weight</th>\n",
       "      <th>height</th>\n",
       "      <th>bmi</th>\n",
       "      <th>phone_number</th>\n",
       "      <th>email</th>\n",
       "    </tr>\n",
       "  </thead>\n",
       "  <tbody>\n",
       "    <tr>\n",
       "      <th>210</th>\n",
       "      <td>211</td>\n",
       "      <td>female</td>\n",
       "      <td>Camilla</td>\n",
       "      <td>Zaitseva</td>\n",
       "      <td>4689 Briarhill Lane</td>\n",
       "      <td>Wooster</td>\n",
       "      <td>OH</td>\n",
       "      <td>44691</td>\n",
       "      <td>United States</td>\n",
       "      <td>1938-11-26</td>\n",
       "      <td>48.8</td>\n",
       "      <td>63</td>\n",
       "      <td>19.1</td>\n",
       "      <td>13302022145</td>\n",
       "      <td>camillazaitseva@superrito.com</td>\n",
       "    </tr>\n",
       "  </tbody>\n",
       "</table>\n",
       "</div>"
      ],
      "text/plain": [
       "     patient_id assigned_sex given_name   surname              address  \\\n",
       "210         211       female    Camilla  Zaitseva  4689 Briarhill Lane   \n",
       "\n",
       "        city state zip_code        country  birthdate  weight  height   bmi  \\\n",
       "210  Wooster    OH    44691  United States 1938-11-26    48.8      63  19.1   \n",
       "\n",
       "    phone_number                          email  \n",
       "210  13302022145  camillazaitseva@superrito.com  "
      ]
     },
     "execution_count": 111,
     "metadata": {},
     "output_type": "execute_result"
    }
   ],
   "source": [
    "# find her entry\n",
    "patients_clean.query('patient_id == 211')"
   ]
  },
  {
   "cell_type": "code",
   "execution_count": 112,
   "id": "41fd89b2",
   "metadata": {},
   "outputs": [
    {
     "data": {
      "text/plain": [
       "107.58558385599999"
      ]
     },
     "execution_count": 112,
     "metadata": {},
     "output_type": "execute_result"
    }
   ],
   "source": [
    "# convert her weight from kgs to lbs\n",
    "weight_lbs = patients_clean.at[210, 'weight'] * 2.20462262\n",
    "weight_lbs"
   ]
  },
  {
   "cell_type": "code",
   "execution_count": 113,
   "id": "fdea1dc2",
   "metadata": {},
   "outputs": [],
   "source": [
    "# round the results to one decimal letter\n",
    "patients_clean.at[210, 'weight'] = weight_lbs.round(1)"
   ]
  },
  {
   "cell_type": "markdown",
   "id": "2b0721bb",
   "metadata": {},
   "source": [
    "##### Test:"
   ]
  },
  {
   "cell_type": "code",
   "execution_count": 114,
   "id": "a85e7aa3",
   "metadata": {},
   "outputs": [
    {
     "data": {
      "text/html": [
       "<div>\n",
       "<style scoped>\n",
       "    .dataframe tbody tr th:only-of-type {\n",
       "        vertical-align: middle;\n",
       "    }\n",
       "\n",
       "    .dataframe tbody tr th {\n",
       "        vertical-align: top;\n",
       "    }\n",
       "\n",
       "    .dataframe thead th {\n",
       "        text-align: right;\n",
       "    }\n",
       "</style>\n",
       "<table border=\"1\" class=\"dataframe\">\n",
       "  <thead>\n",
       "    <tr style=\"text-align: right;\">\n",
       "      <th></th>\n",
       "      <th>patient_id</th>\n",
       "      <th>assigned_sex</th>\n",
       "      <th>given_name</th>\n",
       "      <th>surname</th>\n",
       "      <th>address</th>\n",
       "      <th>city</th>\n",
       "      <th>state</th>\n",
       "      <th>zip_code</th>\n",
       "      <th>country</th>\n",
       "      <th>birthdate</th>\n",
       "      <th>weight</th>\n",
       "      <th>height</th>\n",
       "      <th>bmi</th>\n",
       "      <th>phone_number</th>\n",
       "      <th>email</th>\n",
       "    </tr>\n",
       "  </thead>\n",
       "  <tbody>\n",
       "    <tr>\n",
       "      <th>210</th>\n",
       "      <td>211</td>\n",
       "      <td>female</td>\n",
       "      <td>Camilla</td>\n",
       "      <td>Zaitseva</td>\n",
       "      <td>4689 Briarhill Lane</td>\n",
       "      <td>Wooster</td>\n",
       "      <td>OH</td>\n",
       "      <td>44691</td>\n",
       "      <td>United States</td>\n",
       "      <td>1938-11-26</td>\n",
       "      <td>107.6</td>\n",
       "      <td>63</td>\n",
       "      <td>19.1</td>\n",
       "      <td>13302022145</td>\n",
       "      <td>camillazaitseva@superrito.com</td>\n",
       "    </tr>\n",
       "  </tbody>\n",
       "</table>\n",
       "</div>"
      ],
      "text/plain": [
       "     patient_id assigned_sex given_name   surname              address  \\\n",
       "210         211       female    Camilla  Zaitseva  4689 Briarhill Lane   \n",
       "\n",
       "        city state zip_code        country  birthdate  weight  height   bmi  \\\n",
       "210  Wooster    OH    44691  United States 1938-11-26   107.6      63  19.1   \n",
       "\n",
       "    phone_number                          email  \n",
       "210  13302022145  camillazaitseva@superrito.com  "
      ]
     },
     "execution_count": 114,
     "metadata": {},
     "output_type": "execute_result"
    }
   ],
   "source": [
    "# check to see if it worked\n",
    "patients_clean.query('patient_id == 211')"
   ]
  },
  {
   "cell_type": "code",
   "execution_count": 115,
   "id": "85887d69",
   "metadata": {},
   "outputs": [
    {
     "data": {
      "text/plain": [
       "459    102.1\n",
       "335    102.7\n",
       "74     103.2\n",
       "317    106.0\n",
       "171    106.5\n",
       "       ...  \n",
       "144    244.9\n",
       "61     244.9\n",
       "283    245.5\n",
       "118    254.5\n",
       "485    255.9\n",
       "Name: weight, Length: 494, dtype: float64"
      ]
     },
     "execution_count": 115,
     "metadata": {},
     "output_type": "execute_result"
    }
   ],
   "source": [
    "# check to see if it worked\n",
    "patients_clean['weight'].sort_values()"
   ]
  },
  {
   "cell_type": "markdown",
   "id": "30081696",
   "metadata": {},
   "source": [
    "---\n",
    "\n",
    "##### 3.11. Define:\n",
    "\n",
    "Check to see if there are any duplicated values. If there are, drop them.\n",
    "\n",
    "##### Code:"
   ]
  },
  {
   "cell_type": "code",
   "execution_count": 116,
   "id": "38be73ef",
   "metadata": {},
   "outputs": [
    {
     "data": {
      "text/plain": [
       "1"
      ]
     },
     "execution_count": 116,
     "metadata": {},
     "output_type": "execute_result"
    }
   ],
   "source": [
    "# checking the treatments table\n",
    "sum(treatments_clean.duplicated())"
   ]
  },
  {
   "cell_type": "code",
   "execution_count": 117,
   "id": "00d1de0e",
   "metadata": {},
   "outputs": [],
   "source": [
    "# drop duplicate from the treatments table\n",
    "treatments_clean.drop_duplicates(inplace=True)"
   ]
  },
  {
   "cell_type": "markdown",
   "id": "ea579e47",
   "metadata": {},
   "source": [
    "##### Test:"
   ]
  },
  {
   "cell_type": "code",
   "execution_count": 118,
   "id": "c61197a3",
   "metadata": {},
   "outputs": [
    {
     "data": {
      "text/plain": [
       "0"
      ]
     },
     "execution_count": 118,
     "metadata": {},
     "output_type": "execute_result"
    }
   ],
   "source": [
    "# checking to see if it worked\n",
    "sum(treatments_clean.duplicated())"
   ]
  },
  {
   "cell_type": "markdown",
   "id": "4f61e155",
   "metadata": {},
   "source": [
    "##### Code:"
   ]
  },
  {
   "cell_type": "code",
   "execution_count": 119,
   "id": "91952718",
   "metadata": {},
   "outputs": [
    {
     "data": {
      "text/plain": [
       "0"
      ]
     },
     "execution_count": 119,
     "metadata": {},
     "output_type": "execute_result"
    }
   ],
   "source": [
    "# checking the patients table\n",
    "sum(patients_clean.duplicated())"
   ]
  },
  {
   "cell_type": "markdown",
   "id": "98643b77",
   "metadata": {},
   "source": [
    "---\n",
    "### Optional: Save cleaned datasets\n",
    "\n",
    "Note: since we have joined the adverse reactions to the treatments table, there's no need to save that file."
   ]
  },
  {
   "cell_type": "code",
   "execution_count": 120,
   "id": "b7c81d17",
   "metadata": {},
   "outputs": [],
   "source": [
    "treatments_clean.to_csv('support-files/04_Cleaning-Data/treatments_clean.csv')"
   ]
  },
  {
   "cell_type": "code",
   "execution_count": 121,
   "id": "806c12fe",
   "metadata": {},
   "outputs": [],
   "source": [
    "patients_clean.to_csv('support-files/04_Cleaning-Data/patients_clean.csv')"
   ]
  },
  {
   "cell_type": "markdown",
   "id": "6bdc7127",
   "metadata": {},
   "source": [
    "---\n",
    "### Reminder: Data Wrangling Can Be Iterative\n",
    "The concept of iterating isn't that applicable for clinical trials given the rigor involved in their planning. But, there are other situations that require iteration. Alternatively, you might proceed to anaysis or visualization at this point. \n",
    "\n",
    "### Clean: Summary\n",
    "Cleaning is the third step in the data wrangling process:\n",
    "\n",
    "- Gather\n",
    "- Assess\n",
    "- **Clean**\n",
    "\n",
    "There are two types of cleaning:\n",
    "\n",
    "- Manual (not recommended unless the issues are one-off occurrences)\n",
    "- Programmatic\n",
    "\n",
    "The programmatic data cleaning process:\n",
    "\n",
    "1. Define: convert our assessments into defined cleaning tasks. These definitions also serve as an instruction list so others (or yourself in the future) can look at your work and reproduce it.\n",
    "2. Code: convert those definitions to code and run that code.\n",
    "3. Test: test your dataset, visually or with code, to make sure your cleaning operations worked.\n",
    "\n",
    "***Always make copies of the original pieces of data before cleaning!***"
   ]
  }
 ],
 "metadata": {
  "kernelspec": {
   "display_name": "Python [conda env:dand] *",
   "language": "python",
   "name": "conda-env-dand-py"
  },
  "language_info": {
   "codemirror_mode": {
    "name": "ipython",
    "version": 3
   },
   "file_extension": ".py",
   "mimetype": "text/x-python",
   "name": "python",
   "nbconvert_exporter": "python",
   "pygments_lexer": "ipython3",
   "version": "3.8.12"
  }
 },
 "nbformat": 4,
 "nbformat_minor": 5
}
